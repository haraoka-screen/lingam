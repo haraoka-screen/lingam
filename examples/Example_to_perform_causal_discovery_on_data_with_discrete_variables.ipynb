{
 "cells": [
  {
   "cell_type": "markdown",
   "id": "238aa27d-6cc3-49e1-9f06-7d12197448b7",
   "metadata": {
    "tags": []
   },
   "source": [
    "# Example to perform causal discovery on data with discrete variables\n",
    "\n",
    "This notebook explains how to perform causal discovery when exogenous, endogenous, and sink variables are assumed, as well as when discrete ordinal variables are included in the exogenous and sink variables.\n",
    "\n",
    "Most algorithms implemented in lingam package can't be applied to data containing discrete variables. However, when discrete variables are included in exogenous or sink variables, it is possible to perform causal discovery by incorporating the ideas described in this notebook."
   ]
  },
  {
   "cell_type": "markdown",
   "id": "bec7f56c-3240-4688-99a5-e4e4d60702c8",
   "metadata": {
    "tags": []
   },
   "source": [
    "## Theory"
   ]
  },
  {
   "cell_type": "markdown",
   "id": "42805b45-a654-465a-a0c5-f04e6467a89c",
   "metadata": {},
   "source": [
    "#### Input and output\n",
    "\n",
    "<div style=\"float:left;width:49%\">\n",
    "<ul>\n",
    "<li>Input\n",
    "    <ul><li>Data<ul><li>$ X = (X_1, X_2, X_3, X_4, X_5, X_6, X_7, X_8) $</li></ul></li></ul>\n",
    "    <ul><li>Names of exogenous variables<ul><li>$ exog\\_var\\_names = (1, 2, 3) $</li></ul></li></ul>\n",
    "    <ul><li>Names of endogenous variables<ul><li>$ endog\\_var\\_names = (4, 5, 6, 7) $</li></ul></li></ul>\n",
    "    <ul><li>Name of sink variable<ul><li>$ sink\\_var\\_name =  8 $</li></ul></li></ul>\n",
    "</li>\n",
    "<li>Output\n",
    "    <ul><li>An adjacency matrix representing the presence of directed causal edges between variables<ul><li>$ \\hat{B} $</li></ul></li></ul>\n",
    "</li>\n",
    "</ul>\n",
    "</div>\n",
    "\n",
    "<div style=\"float:right;width:49%\">\n",
    "<img src=\"images/example_to_analyze_data_with_discrete_variables.png\">\n",
    "</div>"
   ]
  },
  {
   "cell_type": "markdown",
   "id": "b4c4cecf-de4a-4406-a035-eafb394413ad",
   "metadata": {},
   "source": [
    "#### 1. Remove exogenous effects from X using linear regression\n",
    "\n",
    "<div style=\"float:left;width:49%\">\n",
    "<ul>\n",
    "<li>Input<ul>\n",
    "    <li>Data on exogenous variables<ul><li>$ X_{exogenous} = (X_1, X_2, X_3) $</li></ul></li>\n",
    "    <li>Data on endogenous variables<ul><li>$ X_{endogenous} = (X_4, X_5, X_6, X_7) $</li></ul></li>\n",
    "</ul></li>\n",
    "    \n",
    "<li>Output<ul>\n",
    "    <li>Data with exogenous effects removed<ul><li>$ X'_{exogenous} = (X'_4, X'_5, X'_6, X'_7) $</li></ul></li>\n",
    "</ul></li>\n",
    "</ul>\n",
    "</div>\n",
    "\n",
    "<div style=\"float:right;width:49%\">\n",
    "<img src=\"images/example_to_analyze_data_with_discrete_variables2.png\" style=\"width:69%\">\n",
    "</div>"
   ]
  },
  {
   "cell_type": "markdown",
   "id": "c33788a2-440d-4d55-8a31-bc843a4df822",
   "metadata": {},
   "source": [
    "#### 2. Estimate adjacency matrix $ B' $ representing a causality of endogenous variables\n",
    "\n",
    "<div style=\"float:left;width:49%\">\n",
    "<ul>   \n",
    "<li>Input<ul>\n",
    "    <li>Data with exogenous effects removed<ul><li>$ X'_{exogenous} = (X'_4, X'_5, X'_6, X'_7) $</li></ul></li>\n",
    "</ul></li>\n",
    "<li>Output<ul>\n",
    "    <li>An adjacency matrix representing the presence of directed causal edges between endgeneous variables<ul><li>$ B' \\quad such \\, that \\quad X'_{endogenous} = B' X'_{endogenous} + e' $</li>\n",
    "</ul></li>\n",
    "</ul>\n",
    "</div>\n",
    "\n",
    "<div style=\"float:right;width:49%\">\n",
    "<img src=\"images/example_to_analyze_data_with_discrete_variables3.png\" style=\"width:69%\">\n",
    "</div>"
   ]
  },
  {
   "cell_type": "markdown",
   "id": "f4bf0ca8-e86d-43fc-b239-9d259ef600fe",
   "metadata": {},
   "source": [
    "#### 3. Estimate edges $ W $ from endogenous variables to the sink variable\n",
    "\n",
    "<div style=\"float:left;width:49%\">\n",
    "<ul>   \n",
    "<li>Input<ul>\n",
    "    <li>Data on the sink variable<ul><li>$ X_{8} $</li></ul></li>\n",
    "    <li>Data with exogenous effects removed<ul><li>$ X'_{exogenous} = (X'_4, X'_5, X'_6, X'_7) $</li></ul></li>\n",
    "</ul></li>\n",
    "<li>Output<ul>\n",
    "    <li>A vector representing the presence of directed causal edges from exogenous and endogenous variables to sink variables<ul><li>$ W \\; which \\; elements \\; represent \\; coefficients \\; of \\; logistic \\; regression $</li></ul></li>\n",
    "</ul></li>\n",
    "</ul>\n",
    "</div>\n",
    "\n",
    "<div style=\"float:right;width:49%\">\n",
    "<img src=\"images/example_to_analyze_data_with_discrete_variables4.png\" style=\"width:69%\">\n",
    "</div>"
   ]
  },
  {
   "cell_type": "markdown",
   "id": "87f786d0-3e9b-4786-8fe3-34c4922613e3",
   "metadata": {},
   "source": [
    "#### 4. Create adjacency matrix $ \\hat{B} $ by stacking $ B' $ and $ W $\n",
    "\n",
    "<div style=\"float:left;width:49%\">\n",
    "<ul>\n",
    "<li>Input<ul>\n",
    "    <li>Adjacency matrix representing a causality on endogenous variables<ul><li>$ B' $</li></ul></li>\n",
    "    <li>Coefficients from endogenous variables to the sink variable<ul><li>$ W $</li></ul></li>\n",
    "</ul></li>\n",
    "\n",
    "<li>Output<ul>\n",
    "    <li>Adjacency matrix of interest in this analysis<ul><li>$ \\hat{B} $ such that $ B' $ and $ W $ are stacked as follows: <br>\n",
    "    <img src=\"images/example_to_analyze_data_with_discrete_variables5.png\" style=\"width:40%\">\n",
    "    </li></ul></li>\n",
    "</ul></li>\n",
    "</ul>\n",
    "</div>\n",
    "\n",
    "<div style=\"float:right;width:49%\">\n",
    "<img src=\"images/example_to_analyze_data_with_discrete_variables4.png\" style=\"width:69%\">\n",
    "</div>"
   ]
  },
  {
   "cell_type": "markdown",
   "id": "01b6e42b-2701-46ff-bc56-62bca3cee6dd",
   "metadata": {},
   "source": [
    "## Preparation"
   ]
  },
  {
   "cell_type": "markdown",
   "id": "76d0d774-e77f-4351-a99d-edeeafd103e0",
   "metadata": {},
   "source": [
    "### Import packages"
   ]
  },
  {
   "cell_type": "code",
   "execution_count": 1,
   "id": "b9f1a5b7-49cc-494e-85a7-ace2d7c22ee8",
   "metadata": {
    "tags": []
   },
   "outputs": [
    {
     "name": "stdout",
     "output_type": "stream",
     "text": [
      "numpy 1.24.4\n",
      "pandas 2.0.3\n",
      "scipy 1.10.1\n",
      "semopy 2.3.9\n",
      "networkx 3.1\n",
      "lingam 1.9.1\n",
      "sklearn 1.3.2\n",
      "matplotlib 3.7.5\n",
      "graphviz 0.20.3\n"
     ]
    }
   ],
   "source": [
    "import os\n",
    "import shutil\n",
    "import requests\n",
    "import logging\n",
    "\n",
    "import numpy as np\n",
    "import pandas as pd\n",
    "from scipy.special import expit\n",
    "import semopy\n",
    "import networkx as nx\n",
    "\n",
    "from lingam import DirectLiNGAM\n",
    "from lingam.utils import remove_effect\n",
    "from lingam.utils import calculate_total_effect\n",
    "from lingam.bootstrap import BootstrapResult\n",
    "from sklearn.linear_model import LinearRegression\n",
    "from sklearn.linear_model import LogisticRegression\n",
    "from sklearn.utils import resample\n",
    "from sklearn.utils import check_array\n",
    "\n",
    "from lingam.utils import make_dot\n",
    "from lingam.utils import print_causal_directions\n",
    "from lingam.utils import print_dagc\n",
    "import matplotlib.pyplot as plt\n",
    "import graphviz as gv\n",
    "from IPython.display import display, Markdown\n",
    "\n",
    "# versions\n",
    "import scipy\n",
    "import lingam\n",
    "import sklearn\n",
    "import matplotlib\n",
    "for lib in [np, pd, scipy, semopy, nx, lingam, sklearn, matplotlib, gv]:\n",
    "    print(lib.__name__, lib.__version__)"
   ]
  },
  {
   "cell_type": "markdown",
   "id": "cba6ffa9-2362-4130-b6d4-36bce1c36395",
   "metadata": {},
   "source": [
    "### Configure"
   ]
  },
  {
   "cell_type": "code",
   "execution_count": 2,
   "id": "1f9518f6-c49b-403c-a059-bef5acf35696",
   "metadata": {
    "tags": []
   },
   "outputs": [],
   "source": [
    "np.random.seed(0)"
   ]
  },
  {
   "cell_type": "code",
   "execution_count": 3,
   "id": "9c5340bb-5639-4c18-a6e1-cf1d2c1dd985",
   "metadata": {
    "tags": []
   },
   "outputs": [],
   "source": [
    "logging.disable()"
   ]
  },
  {
   "cell_type": "markdown",
   "id": "45a8c68d-1704-4043-b66d-b54b1008109c",
   "metadata": {},
   "source": [
    "### Download source code\n",
    "\n",
    "To run this notebook, you need to download and set up the source code for [ada_logistic_reg](https://github.com/cdt15/ada_logistic_reg). The source code can be downloaded and imported by executing the code below, but the R and glmnet packages must be installed manually."
   ]
  },
  {
   "cell_type": "code",
   "execution_count": 4,
   "id": "2ab9a58b-5eb4-47df-ad25-aa1bbfbbe1e5",
   "metadata": {
    "tags": []
   },
   "outputs": [],
   "source": [
    "def _get_code(url, dirname=\".\"):\n",
    "    res = requests.get(url)\n",
    "    if res.status_code != 200:\n",
    "        raise RuntimeError(\"Couldn't get a source code.\")\n",
    "    \n",
    "    with open(dirname + os.sep + url.split(\"/\")[-1], \"w\") as f:\n",
    "        f.write(res.text)\n",
    "\n",
    "# destinaiton of downloaded source code\n",
    "dirname = \"ada_log_reg\"\n",
    "if os.path.isdir(dirname):\n",
    "    shutil.rmtree(dirname)\n",
    "os.mkdir(dirname)\n",
    "\n",
    "# download required source code\n",
    "_get_code(\"https://raw.githubusercontent.com/cdt15/ada_logistic_reg/refs/heads/main/ada_logistic_reg/_adaptive_logistic_regression.py\", dirname=dirname)\n",
    "_get_code(\"https://raw.githubusercontent.com/cdt15/ada_logistic_reg/refs/heads/main/ada_logistic_reg/adaptive_logistic_regression.r\", dirname=dirname)\n",
    "_get_code(\"https://raw.githubusercontent.com/cdt15/ada_logistic_reg/refs/heads/main/ada_logistic_reg/__init__.py\", dirname=dirname)\n",
    "\n",
    "from ada_log_reg import predict_adaptive_logistic_regression\n",
    "\n",
    "# check that dounwloaded source code works properly\n",
    "try:\n",
    "    X = np.random.uniform(size=(2, 100))\n",
    "    y = expit(2 * X[0] - X[1]) >= np.random.uniform(size=100)\n",
    "    X = np.vstack([X, y]).T\n",
    "    predict_adaptive_logistic_regression(X, [0, 1], 2)\n",
    "except:\n",
    "    raise RuntimeError(\"Check that the R and glmnet packages are installed and that the path to the Rscript is set correctly.\")\n",
    "\n",
    "# define an interface like scikit-learn\n",
    "class AdaptiveLogisticRegression:\n",
    "\n",
    "    def fit(self, X, y):\n",
    "        X = check_array(X)\n",
    "        y = check_array(y, ensure_2d=False, dtype=int)\n",
    "        \n",
    "        X_ = np.concatenate([X, y.reshape(-1, 1)], axis=1)\n",
    "        \n",
    "        predictors = np.arange(len(X.T))\n",
    "        target = X_.shape[1] - 1\n",
    "        \n",
    "        coef = predict_adaptive_logistic_regression(X_, predictors, target)\n",
    "        \n",
    "        self.coef_ = coef"
   ]
  },
  {
   "cell_type": "markdown",
   "id": "2dab5c26-2749-4443-8e6d-a7de37979b5b",
   "metadata": {},
   "source": [
    "## Test data\n",
    "\n",
    "### Adjacency matrix"
   ]
  },
  {
   "cell_type": "code",
   "execution_count": 5,
   "id": "ca9cab03-fea9-4ee8-a433-30c1944ad1e3",
   "metadata": {
    "tags": []
   },
   "outputs": [
    {
     "data": {
      "text/html": [
       "<div>\n",
       "<style scoped>\n",
       "    .dataframe tbody tr th:only-of-type {\n",
       "        vertical-align: middle;\n",
       "    }\n",
       "\n",
       "    .dataframe tbody tr th {\n",
       "        vertical-align: top;\n",
       "    }\n",
       "\n",
       "    .dataframe thead th {\n",
       "        text-align: right;\n",
       "    }\n",
       "</style>\n",
       "<table border=\"1\" class=\"dataframe\">\n",
       "  <thead>\n",
       "    <tr style=\"text-align: right;\">\n",
       "      <th></th>\n",
       "      <th>x1</th>\n",
       "      <th>x2</th>\n",
       "      <th>x3</th>\n",
       "      <th>x4</th>\n",
       "      <th>x5</th>\n",
       "      <th>x6</th>\n",
       "      <th>x7</th>\n",
       "      <th>x8</th>\n",
       "    </tr>\n",
       "  </thead>\n",
       "  <tbody>\n",
       "    <tr>\n",
       "      <th>x1</th>\n",
       "      <td>0.000</td>\n",
       "      <td>0.000</td>\n",
       "      <td>0.000</td>\n",
       "      <td>0.000</td>\n",
       "      <td>0.000</td>\n",
       "      <td>0.000</td>\n",
       "      <td>0.000</td>\n",
       "      <td>0.0</td>\n",
       "    </tr>\n",
       "    <tr>\n",
       "      <th>x2</th>\n",
       "      <td>0.000</td>\n",
       "      <td>0.000</td>\n",
       "      <td>0.000</td>\n",
       "      <td>0.000</td>\n",
       "      <td>0.000</td>\n",
       "      <td>0.000</td>\n",
       "      <td>0.000</td>\n",
       "      <td>0.0</td>\n",
       "    </tr>\n",
       "    <tr>\n",
       "      <th>x3</th>\n",
       "      <td>0.000</td>\n",
       "      <td>0.000</td>\n",
       "      <td>0.000</td>\n",
       "      <td>0.000</td>\n",
       "      <td>0.000</td>\n",
       "      <td>0.000</td>\n",
       "      <td>0.000</td>\n",
       "      <td>0.0</td>\n",
       "    </tr>\n",
       "    <tr>\n",
       "      <th>x4</th>\n",
       "      <td>0.000</td>\n",
       "      <td>1.043</td>\n",
       "      <td>0.000</td>\n",
       "      <td>0.000</td>\n",
       "      <td>0.000</td>\n",
       "      <td>0.000</td>\n",
       "      <td>0.000</td>\n",
       "      <td>0.0</td>\n",
       "    </tr>\n",
       "    <tr>\n",
       "      <th>x5</th>\n",
       "      <td>0.000</td>\n",
       "      <td>1.727</td>\n",
       "      <td>0.537</td>\n",
       "      <td>0.000</td>\n",
       "      <td>0.000</td>\n",
       "      <td>0.000</td>\n",
       "      <td>0.000</td>\n",
       "      <td>0.0</td>\n",
       "    </tr>\n",
       "    <tr>\n",
       "      <th>x6</th>\n",
       "      <td>1.041</td>\n",
       "      <td>0.000</td>\n",
       "      <td>0.000</td>\n",
       "      <td>0.427</td>\n",
       "      <td>0.911</td>\n",
       "      <td>0.000</td>\n",
       "      <td>0.000</td>\n",
       "      <td>0.0</td>\n",
       "    </tr>\n",
       "    <tr>\n",
       "      <th>x7</th>\n",
       "      <td>0.000</td>\n",
       "      <td>0.000</td>\n",
       "      <td>0.000</td>\n",
       "      <td>1.960</td>\n",
       "      <td>0.000</td>\n",
       "      <td>0.000</td>\n",
       "      <td>0.000</td>\n",
       "      <td>0.0</td>\n",
       "    </tr>\n",
       "    <tr>\n",
       "      <th>x8</th>\n",
       "      <td>0.000</td>\n",
       "      <td>0.000</td>\n",
       "      <td>0.000</td>\n",
       "      <td>0.000</td>\n",
       "      <td>0.000</td>\n",
       "      <td>0.883</td>\n",
       "      <td>1.385</td>\n",
       "      <td>0.0</td>\n",
       "    </tr>\n",
       "  </tbody>\n",
       "</table>\n",
       "</div>"
      ],
      "text/plain": [
       "       x1     x2     x3     x4     x5     x6     x7   x8\n",
       "x1  0.000  0.000  0.000  0.000  0.000  0.000  0.000  0.0\n",
       "x2  0.000  0.000  0.000  0.000  0.000  0.000  0.000  0.0\n",
       "x3  0.000  0.000  0.000  0.000  0.000  0.000  0.000  0.0\n",
       "x4  0.000  1.043  0.000  0.000  0.000  0.000  0.000  0.0\n",
       "x5  0.000  1.727  0.537  0.000  0.000  0.000  0.000  0.0\n",
       "x6  1.041  0.000  0.000  0.427  0.911  0.000  0.000  0.0\n",
       "x7  0.000  0.000  0.000  1.960  0.000  0.000  0.000  0.0\n",
       "x8  0.000  0.000  0.000  0.000  0.000  0.883  1.385  0.0"
      ]
     },
     "execution_count": 5,
     "metadata": {},
     "output_type": "execute_result"
    }
   ],
   "source": [
    "m = np.array([\n",
    "    [0.000, 0.000, 0.000, 0.000, 0.000, 0.000, 0.000, 0.000],\n",
    "    [0.000, 0.000, 0.000, 0.000, 0.000, 0.000, 0.000, 0.000],\n",
    "    [0.000, 0.000, 0.000, 0.000, 0.000, 0.000, 0.000, 0.000],\n",
    "    [0.000, 1.043, 0.000, 0.000, 0.000, 0.000, 0.000, 0.000],\n",
    "    [0.000, 1.727, 0.537, 0.000, 0.000, 0.000, 0.000, 0.000],\n",
    "    [1.041, 0.000, 0.000, 0.427, 0.911, 0.000, 0.000, 0.000],\n",
    "    [0.000, 0.000, 0.000, 1.960, 0.000, 0.000, 0.000, 0.000],\n",
    "    [0.000, 0.000, 0.000, 0.000, 0.000, 0.883, 1.385, 0.000],\n",
    "])\n",
    "\n",
    "names = [f\"x{i + 1}\" for i in range(len(m))]\n",
    "m = pd.DataFrame(m, columns=names, index=names)\n",
    "\n",
    "m"
   ]
  },
  {
   "cell_type": "markdown",
   "id": "7a88272c-6c64-472d-9936-e8998e037ede",
   "metadata": {},
   "source": [
    "This adjacency matrix is drawn as a following causal graph:"
   ]
  },
  {
   "cell_type": "code",
   "execution_count": 6,
   "id": "89f1e8dc-78a3-4dcd-bd50-6f279f003ae3",
   "metadata": {
    "tags": []
   },
   "outputs": [
    {
     "data": {
      "image/svg+xml": [
       "<?xml version=\"1.0\" encoding=\"UTF-8\" standalone=\"no\"?>\n",
       "<!DOCTYPE svg PUBLIC \"-//W3C//DTD SVG 1.1//EN\"\n",
       " \"http://www.w3.org/Graphics/SVG/1.1/DTD/svg11.dtd\">\n",
       "<!-- Generated by graphviz version 2.43.0 (0)\n",
       " -->\n",
       "<!-- Title: %3 Pages: 1 -->\n",
       "<svg width=\"234pt\" height=\"305pt\"\n",
       " viewBox=\"0.00 0.00 234.00 305.00\" xmlns=\"http://www.w3.org/2000/svg\" xmlns:xlink=\"http://www.w3.org/1999/xlink\">\n",
       "<g id=\"graph0\" class=\"graph\" transform=\"scale(1 1) rotate(0) translate(4 301)\">\n",
       "<title>%3</title>\n",
       "<polygon fill=\"white\" stroke=\"transparent\" points=\"-4,4 -4,-301 230,-301 230,4 -4,4\"/>\n",
       "<!-- x1 -->\n",
       "<g id=\"node1\" class=\"node\">\n",
       "<title>x1</title>\n",
       "<ellipse fill=\"none\" stroke=\"black\" cx=\"99\" cy=\"-192\" rx=\"27\" ry=\"18\"/>\n",
       "<text text-anchor=\"middle\" x=\"99\" y=\"-188.3\" font-family=\"Times,serif\" font-size=\"14.00\">x1</text>\n",
       "</g>\n",
       "<!-- x6 -->\n",
       "<g id=\"node6\" class=\"node\">\n",
       "<title>x6</title>\n",
       "<ellipse fill=\"none\" stroke=\"black\" cx=\"118\" cy=\"-105\" rx=\"27\" ry=\"18\"/>\n",
       "<text text-anchor=\"middle\" x=\"118\" y=\"-101.3\" font-family=\"Times,serif\" font-size=\"14.00\">x6</text>\n",
       "</g>\n",
       "<!-- x1&#45;&gt;x6 -->\n",
       "<g id=\"edge4\" class=\"edge\">\n",
       "<title>x1&#45;&gt;x6</title>\n",
       "<path fill=\"none\" stroke=\"black\" d=\"M97.44,-173.62C97.04,-163.88 97.32,-151.61 100,-141 100.86,-137.58 102.11,-134.12 103.55,-130.78\"/>\n",
       "<polygon fill=\"black\" stroke=\"black\" points=\"106.7,-132.29 107.96,-121.77 100.42,-129.21 106.7,-132.29\"/>\n",
       "<text text-anchor=\"middle\" x=\"116\" y=\"-144.8\" font-family=\"Times,serif\" font-size=\"14.00\">1.04</text>\n",
       "</g>\n",
       "<!-- x2 -->\n",
       "<g id=\"node2\" class=\"node\">\n",
       "<title>x2</title>\n",
       "<ellipse fill=\"none\" stroke=\"black\" cx=\"118\" cy=\"-279\" rx=\"27\" ry=\"18\"/>\n",
       "<text text-anchor=\"middle\" x=\"118\" y=\"-275.3\" font-family=\"Times,serif\" font-size=\"14.00\">x2</text>\n",
       "</g>\n",
       "<!-- x4 -->\n",
       "<g id=\"node4\" class=\"node\">\n",
       "<title>x4</title>\n",
       "<ellipse fill=\"none\" stroke=\"black\" cx=\"171\" cy=\"-192\" rx=\"27\" ry=\"18\"/>\n",
       "<text text-anchor=\"middle\" x=\"171\" y=\"-188.3\" font-family=\"Times,serif\" font-size=\"14.00\">x4</text>\n",
       "</g>\n",
       "<!-- x2&#45;&gt;x4 -->\n",
       "<g id=\"edge1\" class=\"edge\">\n",
       "<title>x2&#45;&gt;x4</title>\n",
       "<path fill=\"none\" stroke=\"black\" d=\"M127.97,-262.01C135.74,-249.55 146.67,-232.01 155.57,-217.74\"/>\n",
       "<polygon fill=\"black\" stroke=\"black\" points=\"158.75,-219.25 161.08,-208.92 152.81,-215.55 158.75,-219.25\"/>\n",
       "<text text-anchor=\"middle\" x=\"163\" y=\"-231.8\" font-family=\"Times,serif\" font-size=\"14.00\">1.04</text>\n",
       "</g>\n",
       "<!-- x5 -->\n",
       "<g id=\"node5\" class=\"node\">\n",
       "<title>x5</title>\n",
       "<ellipse fill=\"none\" stroke=\"black\" cx=\"27\" cy=\"-192\" rx=\"27\" ry=\"18\"/>\n",
       "<text text-anchor=\"middle\" x=\"27\" y=\"-188.3\" font-family=\"Times,serif\" font-size=\"14.00\">x5</text>\n",
       "</g>\n",
       "<!-- x2&#45;&gt;x5 -->\n",
       "<g id=\"edge2\" class=\"edge\">\n",
       "<title>x2&#45;&gt;x5</title>\n",
       "<path fill=\"none\" stroke=\"black\" d=\"M102.97,-263.96C88.48,-250.43 66.36,-229.77 49.72,-214.22\"/>\n",
       "<polygon fill=\"black\" stroke=\"black\" points=\"51.75,-211.33 42.05,-207.06 46.97,-216.44 51.75,-211.33\"/>\n",
       "<text text-anchor=\"middle\" x=\"93\" y=\"-231.8\" font-family=\"Times,serif\" font-size=\"14.00\">1.73</text>\n",
       "</g>\n",
       "<!-- x3 -->\n",
       "<g id=\"node3\" class=\"node\">\n",
       "<title>x3</title>\n",
       "<ellipse fill=\"none\" stroke=\"black\" cx=\"27\" cy=\"-279\" rx=\"27\" ry=\"18\"/>\n",
       "<text text-anchor=\"middle\" x=\"27\" y=\"-275.3\" font-family=\"Times,serif\" font-size=\"14.00\">x3</text>\n",
       "</g>\n",
       "<!-- x3&#45;&gt;x5 -->\n",
       "<g id=\"edge3\" class=\"edge\">\n",
       "<title>x3&#45;&gt;x5</title>\n",
       "<path fill=\"none\" stroke=\"black\" d=\"M27,-260.8C27,-249.16 27,-233.55 27,-220.24\"/>\n",
       "<polygon fill=\"black\" stroke=\"black\" points=\"30.5,-220.18 27,-210.18 23.5,-220.18 30.5,-220.18\"/>\n",
       "<text text-anchor=\"middle\" x=\"43\" y=\"-231.8\" font-family=\"Times,serif\" font-size=\"14.00\">0.54</text>\n",
       "</g>\n",
       "<!-- x4&#45;&gt;x6 -->\n",
       "<g id=\"edge5\" class=\"edge\">\n",
       "<title>x4&#45;&gt;x6</title>\n",
       "<path fill=\"none\" stroke=\"black\" d=\"M161.03,-175.01C153.26,-162.55 142.33,-145.01 133.43,-130.74\"/>\n",
       "<polygon fill=\"black\" stroke=\"black\" points=\"136.19,-128.55 127.92,-121.92 130.25,-132.25 136.19,-128.55\"/>\n",
       "<text text-anchor=\"middle\" x=\"163\" y=\"-144.8\" font-family=\"Times,serif\" font-size=\"14.00\">0.43</text>\n",
       "</g>\n",
       "<!-- x7 -->\n",
       "<g id=\"node7\" class=\"node\">\n",
       "<title>x7</title>\n",
       "<ellipse fill=\"none\" stroke=\"black\" cx=\"199\" cy=\"-105\" rx=\"27\" ry=\"18\"/>\n",
       "<text text-anchor=\"middle\" x=\"199\" y=\"-101.3\" font-family=\"Times,serif\" font-size=\"14.00\">x7</text>\n",
       "</g>\n",
       "<!-- x4&#45;&gt;x7 -->\n",
       "<g id=\"edge7\" class=\"edge\">\n",
       "<title>x4&#45;&gt;x7</title>\n",
       "<path fill=\"none\" stroke=\"black\" d=\"M179.32,-174.53C182.02,-168.77 184.86,-162.19 187,-156 189.56,-148.57 191.78,-140.34 193.59,-132.74\"/>\n",
       "<polygon fill=\"black\" stroke=\"black\" points=\"197.02,-133.42 195.79,-122.9 190.19,-131.89 197.02,-133.42\"/>\n",
       "<text text-anchor=\"middle\" x=\"207\" y=\"-144.8\" font-family=\"Times,serif\" font-size=\"14.00\">1.96</text>\n",
       "</g>\n",
       "<!-- x5&#45;&gt;x6 -->\n",
       "<g id=\"edge6\" class=\"edge\">\n",
       "<title>x5&#45;&gt;x6</title>\n",
       "<path fill=\"none\" stroke=\"black\" d=\"M35.6,-174.84C41.72,-164.35 50.67,-150.86 61,-141 68.87,-133.48 78.63,-126.78 87.82,-121.3\"/>\n",
       "<polygon fill=\"black\" stroke=\"black\" points=\"89.77,-124.22 96.75,-116.24 86.32,-118.13 89.77,-124.22\"/>\n",
       "<text text-anchor=\"middle\" x=\"77\" y=\"-144.8\" font-family=\"Times,serif\" font-size=\"14.00\">0.91</text>\n",
       "</g>\n",
       "<!-- x8 -->\n",
       "<g id=\"node8\" class=\"node\">\n",
       "<title>x8</title>\n",
       "<ellipse fill=\"none\" stroke=\"black\" cx=\"153\" cy=\"-18\" rx=\"27\" ry=\"18\"/>\n",
       "<text text-anchor=\"middle\" x=\"153\" y=\"-14.3\" font-family=\"Times,serif\" font-size=\"14.00\">x8</text>\n",
       "</g>\n",
       "<!-- x6&#45;&gt;x8 -->\n",
       "<g id=\"edge8\" class=\"edge\">\n",
       "<title>x6&#45;&gt;x8</title>\n",
       "<path fill=\"none\" stroke=\"black\" d=\"M121.09,-86.9C123.2,-77.04 126.45,-64.54 131,-54 132.59,-50.32 134.53,-46.59 136.59,-42.99\"/>\n",
       "<polygon fill=\"black\" stroke=\"black\" points=\"139.58,-44.81 141.85,-34.46 133.62,-41.14 139.58,-44.81\"/>\n",
       "<text text-anchor=\"middle\" x=\"147\" y=\"-57.8\" font-family=\"Times,serif\" font-size=\"14.00\">0.88</text>\n",
       "</g>\n",
       "<!-- x7&#45;&gt;x8 -->\n",
       "<g id=\"edge9\" class=\"edge\">\n",
       "<title>x7&#45;&gt;x8</title>\n",
       "<path fill=\"none\" stroke=\"black\" d=\"M190.13,-87.61C183.47,-75.3 174.23,-58.23 166.63,-44.19\"/>\n",
       "<polygon fill=\"black\" stroke=\"black\" points=\"169.52,-42.18 161.69,-35.05 163.37,-45.51 169.52,-42.18\"/>\n",
       "<text text-anchor=\"middle\" x=\"194\" y=\"-57.8\" font-family=\"Times,serif\" font-size=\"14.00\">1.39</text>\n",
       "</g>\n",
       "</g>\n",
       "</svg>\n"
      ],
      "text/plain": [
       "<graphviz.graphs.Digraph at 0x7fe52bb33190>"
      ]
     },
     "execution_count": 6,
     "metadata": {},
     "output_type": "execute_result"
    }
   ],
   "source": [
    "make_dot(m, lower_limit=0, labels=m.columns.tolist())"
   ]
  },
  {
   "cell_type": "markdown",
   "id": "d66aaef1-95ab-4c75-9e0a-b2e2defd65f0",
   "metadata": {},
   "source": [
    "### Generate test data\n",
    "\n",
    "A test data is generated according to the adjacency matrix and x1 and x7 are generated as discrete variables. The values of that discrete variables are 0 or 1."
   ]
  },
  {
   "cell_type": "code",
   "execution_count": 7,
   "id": "3cc116e3-da1c-483b-9913-2f07e888087f",
   "metadata": {
    "tags": []
   },
   "outputs": [],
   "source": [
    "# settings\n",
    "n_sample = 1000\n",
    "discrete_indices = [0, 7]\n",
    "\n",
    "# initialize\n",
    "X = np.zeros((len(m), n_sample))\n",
    "\n",
    "# generate test data according to m\n",
    "for i in range(len(m)):\n",
    "    if i not in discrete_indices:\n",
    "        X[i] = m.iloc[i] @ X + np.random.uniform(-1.732, 1.732, size=n_sample)\n",
    "    else:\n",
    "        X[i] = (expit(m.iloc[i] @ X) >= np.random.uniform(0, 1, size=n_sample)).astype(int)\n",
    "X = pd.DataFrame(X.T, columns=names)\n",
    "\n",
    "# convert types of continuous variables to float, types of discrete variables to int\n",
    "dtypes = {}\n",
    "for i, name in enumerate(names):\n",
    "    dtypes[name] = int if i in discrete_indices else float\n",
    "X = X.astype(dtypes)"
   ]
  },
  {
   "cell_type": "markdown",
   "id": "859b62c4-923c-45c6-b168-ff39d7dac5b8",
   "metadata": {
    "tags": []
   },
   "source": [
    "Histograms of test data are as follows:"
   ]
  },
  {
   "cell_type": "code",
   "execution_count": 8,
   "id": "2d865476-7ebc-4dd2-a68f-998e9a8b08fb",
   "metadata": {
    "tags": []
   },
   "outputs": [
    {
     "data": {
      "image/png": "[encoded data removed]",
      "text/plain": [
       "<Figure size 576x288 with 8 Axes>"
      ]
     },
     "metadata": {
      "needs_background": "light"
     },
     "output_type": "display_data"
    }
   ],
   "source": [
    "X.hist(layout=(2, 4), figsize=(8, 4))\n",
    "plt.tight_layout()\n",
    "plt.show()"
   ]
  },
  {
   "cell_type": "markdown",
   "id": "1b98e250-efcf-4e4d-9df5-e9e61a767d2c",
   "metadata": {},
   "source": [
    "Types of test data are as follows:"
   ]
  },
  {
   "cell_type": "code",
   "execution_count": 9,
   "id": "43a1d918-da26-4513-9017-9a499bb18d2f",
   "metadata": {
    "tags": []
   },
   "outputs": [
    {
     "data": {
      "text/plain": [
       "x1      int64\n",
       "x2    float64\n",
       "x3    float64\n",
       "x4    float64\n",
       "x5    float64\n",
       "x6    float64\n",
       "x7    float64\n",
       "x8      int64\n",
       "dtype: object"
      ]
     },
     "execution_count": 9,
     "metadata": {},
     "output_type": "execute_result"
    }
   ],
   "source": [
    "X.dtypes"
   ]
  },
  {
   "cell_type": "markdown",
   "id": "3770739b-7b6a-4179-b491-cd95249fb112",
   "metadata": {},
   "source": [
    "## Analysis\n",
    "\n",
    "This chapter conduts how to perform causal discovery to data including discrete variables.\n",
    "\n",
    "### Classify test data variables into three subsets\n",
    "\n",
    "We classify test data variables into three subsets: exogenous variables, endogenous variables, and sink variables."
   ]
  },
  {
   "cell_type": "code",
   "execution_count": 10,
   "id": "3e8ad035-411a-4855-9304-4dfc669206b4",
   "metadata": {},
   "outputs": [],
   "source": [
    "exog_var_names = [\"x1\", \"x2\", \"x3\"]\n",
    "endog_var_names = [\"x4\", \"x5\", \"x6\", \"x7\"]\n",
    "sink_var_name = \"x8\""
   ]
  },
  {
   "cell_type": "markdown",
   "id": "16af6ad0-3721-4950-8dea-56bf11c11c31",
   "metadata": {},
   "source": [
    "The causal graph is as follows:"
   ]
  },
  {
   "cell_type": "code",
   "execution_count": 11,
   "id": "0d7ed0bb-f0d5-482b-b094-5227f5b1989a",
   "metadata": {
    "tags": []
   },
   "outputs": [
    {
     "data": {
      "image/svg+xml": [
       "<?xml version=\"1.0\" encoding=\"UTF-8\" standalone=\"no\"?>\n",
       "<!DOCTYPE svg PUBLIC \"-//W3C//DTD SVG 1.1//EN\"\n",
       " \"http://www.w3.org/Graphics/SVG/1.1/DTD/svg11.dtd\">\n",
       "<!-- Generated by graphviz version 2.43.0 (0)\n",
       " -->\n",
       "<!-- Title: %3 Pages: 1 -->\n",
       "<svg width=\"405pt\" height=\"311pt\"\n",
       " viewBox=\"0.00 0.00 405.00 311.40\" xmlns=\"http://www.w3.org/2000/svg\" xmlns:xlink=\"http://www.w3.org/1999/xlink\">\n",
       "<g id=\"graph0\" class=\"graph\" transform=\"scale(1 1) rotate(0) translate(4 307.4)\">\n",
       "<title>%3</title>\n",
       "<polygon fill=\"white\" stroke=\"transparent\" points=\"-4,4 -4,-307.4 401,-307.4 401,4 -4,4\"/>\n",
       "<g id=\"clust1\" class=\"cluster\">\n",
       "<title>cluster_exogenous</title>\n",
       "<polygon fill=\"none\" stroke=\"black\" points=\"0,-244.8 0,-303.4 397,-303.4 397,-244.8 0,-244.8\"/>\n",
       "<text text-anchor=\"middle\" x=\"46\" y=\"-288.2\" font-family=\"Times,serif\" font-size=\"14.00\">exogenous</text>\n",
       "<text text-anchor=\"middle\" x=\"46\" y=\"-273.2\" font-family=\"Times,serif\" font-size=\"14.00\">variables</text>\n",
       "</g>\n",
       "<g id=\"clust2\" class=\"cluster\">\n",
       "<title>cluster_endogenous</title>\n",
       "<polygon fill=\"none\" stroke=\"black\" points=\"0,-79.2 0,-224.2 397,-224.2 397,-79.2 0,-79.2\"/>\n",
       "<text text-anchor=\"middle\" x=\"51\" y=\"-209\" font-family=\"Times,serif\" font-size=\"14.00\">endogenous</text>\n",
       "<text text-anchor=\"middle\" x=\"51\" y=\"-194\" font-family=\"Times,serif\" font-size=\"14.00\">variables</text>\n",
       "</g>\n",
       "<g id=\"clust3\" class=\"cluster\">\n",
       "<title>cluster_sink</title>\n",
       "<polygon fill=\"none\" stroke=\"black\" points=\"0,0 0,-58.6 397,-58.6 397,0 0,0\"/>\n",
       "<text text-anchor=\"middle\" x=\"37\" y=\"-43.4\" font-family=\"Times,serif\" font-size=\"14.00\">sink</text>\n",
       "<text text-anchor=\"middle\" x=\"37\" y=\"-28.4\" font-family=\"Times,serif\" font-size=\"14.00\">variable</text>\n",
       "</g>\n",
       "<!-- x1 -->\n",
       "<g id=\"node1\" class=\"node\">\n",
       "<title>x1</title>\n",
       "<ellipse fill=\"none\" stroke=\"black\" cx=\"144.5\" cy=\"-274.1\" rx=\"27\" ry=\"18\"/>\n",
       "<text text-anchor=\"middle\" x=\"144.5\" y=\"-270.4\" font-family=\"Times,serif\" font-size=\"14.00\">x1</text>\n",
       "</g>\n",
       "<!-- x6 -->\n",
       "<g id=\"node8\" class=\"node\">\n",
       "<title>x6</title>\n",
       "<ellipse fill=\"none\" stroke=\"black\" cx=\"180.5\" cy=\"-108.5\" rx=\"27\" ry=\"18\"/>\n",
       "<text text-anchor=\"middle\" x=\"180.5\" y=\"-104.8\" font-family=\"Times,serif\" font-size=\"14.00\">x6</text>\n",
       "</g>\n",
       "<!-- x1&#45;&gt;x6 -->\n",
       "<g id=\"edge4\" class=\"edge\">\n",
       "<title>x1&#45;&gt;x6</title>\n",
       "<path fill=\"none\" stroke=\"black\" d=\"M148.42,-256.06C154.7,-227.19 167.04,-170.4 174.45,-136.31\"/>\n",
       "<polygon fill=\"black\" stroke=\"black\" points=\"177.88,-137.03 176.58,-126.52 171.04,-135.54 177.88,-137.03\"/>\n",
       "<text text-anchor=\"middle\" x=\"146.48\" y=\"-195.21\" font-family=\"Times,serif\" font-size=\"14.00\">1.04</text>\n",
       "</g>\n",
       "<!-- x2 -->\n",
       "<g id=\"node2\" class=\"node\">\n",
       "<title>x2</title>\n",
       "<ellipse fill=\"none\" stroke=\"black\" cx=\"252.5\" cy=\"-274.1\" rx=\"27\" ry=\"18\"/>\n",
       "<text text-anchor=\"middle\" x=\"252.5\" y=\"-270.4\" font-family=\"Times,serif\" font-size=\"14.00\">x2</text>\n",
       "</g>\n",
       "<!-- x4 -->\n",
       "<g id=\"node6\" class=\"node\">\n",
       "<title>x4</title>\n",
       "<ellipse fill=\"none\" stroke=\"black\" cx=\"202.1\" cy=\"-194.9\" rx=\"27\" ry=\"18\"/>\n",
       "<text text-anchor=\"middle\" x=\"202.1\" y=\"-191.2\" font-family=\"Times,serif\" font-size=\"14.00\">x4</text>\n",
       "</g>\n",
       "<!-- x2&#45;&gt;x4 -->\n",
       "<g id=\"edge1\" class=\"edge\">\n",
       "<title>x2&#45;&gt;x4</title>\n",
       "<path fill=\"none\" stroke=\"black\" d=\"M241.81,-257.3C235,-246.59 226.03,-232.51 218.35,-220.43\"/>\n",
       "<polygon fill=\"black\" stroke=\"black\" points=\"221.09,-218.23 212.77,-211.67 215.19,-221.99 221.09,-218.23\"/>\n",
       "<text text-anchor=\"middle\" x=\"211.16\" y=\"-238.08\" font-family=\"Times,serif\" font-size=\"14.00\">1.04</text>\n",
       "</g>\n",
       "<!-- x5 -->\n",
       "<g id=\"node7\" class=\"node\">\n",
       "<title>x5</title>\n",
       "<ellipse fill=\"none\" stroke=\"black\" cx=\"302.9\" cy=\"-187.7\" rx=\"27\" ry=\"18\"/>\n",
       "<text text-anchor=\"middle\" x=\"302.9\" y=\"-184\" font-family=\"Times,serif\" font-size=\"14.00\">x5</text>\n",
       "</g>\n",
       "<!-- x2&#45;&gt;x5 -->\n",
       "<g id=\"edge2\" class=\"edge\">\n",
       "<title>x2&#45;&gt;x5</title>\n",
       "<path fill=\"none\" stroke=\"black\" d=\"M262.46,-257.03C269.71,-244.6 279.65,-227.56 287.86,-213.48\"/>\n",
       "<polygon fill=\"black\" stroke=\"black\" points=\"290.95,-215.14 292.96,-204.73 284.9,-211.61 290.95,-215.14\"/>\n",
       "<text text-anchor=\"middle\" x=\"261.71\" y=\"-234.69\" font-family=\"Times,serif\" font-size=\"14.00\">1.73</text>\n",
       "</g>\n",
       "<!-- x3 -->\n",
       "<g id=\"node3\" class=\"node\">\n",
       "<title>x3</title>\n",
       "<ellipse fill=\"none\" stroke=\"black\" cx=\"360.5\" cy=\"-274.1\" rx=\"27\" ry=\"18\"/>\n",
       "<text text-anchor=\"middle\" x=\"360.5\" y=\"-270.4\" font-family=\"Times,serif\" font-size=\"14.00\">x3</text>\n",
       "</g>\n",
       "<!-- x3&#45;&gt;x5 -->\n",
       "<g id=\"edge3\" class=\"edge\">\n",
       "<title>x3&#45;&gt;x5</title>\n",
       "<path fill=\"none\" stroke=\"black\" d=\"M349.39,-257.44C340.95,-244.77 329.19,-227.13 319.61,-212.76\"/>\n",
       "<polygon fill=\"black\" stroke=\"black\" points=\"322.43,-210.69 313.97,-204.31 316.61,-214.57 322.43,-210.69\"/>\n",
       "<text text-anchor=\"middle\" x=\"315.75\" y=\"-234.77\" font-family=\"Times,serif\" font-size=\"14.00\">0.54</text>\n",
       "</g>\n",
       "<!-- exogenous_lu -->\n",
       "<!-- exogenous_rl -->\n",
       "<!-- x4&#45;&gt;x6 -->\n",
       "<g id=\"edge5\" class=\"edge\">\n",
       "<title>x4&#45;&gt;x6</title>\n",
       "<path fill=\"none\" stroke=\"black\" d=\"M197.62,-177C194.7,-165.3 190.82,-149.77 187.49,-136.46\"/>\n",
       "<polygon fill=\"black\" stroke=\"black\" points=\"190.79,-135.23 184.97,-126.38 184,-136.93 190.79,-135.23\"/>\n",
       "<text text-anchor=\"middle\" x=\"175.22\" y=\"-155.19\" font-family=\"Times,serif\" font-size=\"14.00\">0.43</text>\n",
       "</g>\n",
       "<!-- x7 -->\n",
       "<g id=\"node9\" class=\"node\">\n",
       "<title>x7</title>\n",
       "<ellipse fill=\"none\" stroke=\"black\" cx=\"324.5\" cy=\"-108.5\" rx=\"27\" ry=\"18\"/>\n",
       "<text text-anchor=\"middle\" x=\"324.5\" y=\"-104.8\" font-family=\"Times,serif\" font-size=\"14.00\">x7</text>\n",
       "</g>\n",
       "<!-- x4&#45;&gt;x7 -->\n",
       "<g id=\"edge7\" class=\"edge\">\n",
       "<title>x4&#45;&gt;x7</title>\n",
       "<path fill=\"none\" stroke=\"black\" d=\"M220.69,-181.78C241.09,-167.38 274.03,-144.13 297.32,-127.68\"/>\n",
       "<polygon fill=\"black\" stroke=\"black\" points=\"299.58,-130.37 305.74,-121.75 295.55,-124.65 299.58,-130.37\"/>\n",
       "<text text-anchor=\"middle\" x=\"247.39\" y=\"-155.44\" font-family=\"Times,serif\" font-size=\"14.00\">1.96</text>\n",
       "</g>\n",
       "<!-- x5&#45;&gt;x6 -->\n",
       "<g id=\"edge6\" class=\"edge\">\n",
       "<title>x5&#45;&gt;x6</title>\n",
       "<path fill=\"none\" stroke=\"black\" d=\"M283.51,-175.15C263.39,-162.14 231.74,-141.65 208.82,-126.83\"/>\n",
       "<polygon fill=\"black\" stroke=\"black\" points=\"210.51,-123.75 200.21,-121.25 206.7,-129.62 210.51,-123.75\"/>\n",
       "<text text-anchor=\"middle\" x=\"225.59\" y=\"-136.83\" font-family=\"Times,serif\" font-size=\"14.00\">0.91</text>\n",
       "</g>\n",
       "<!-- x8 -->\n",
       "<g id=\"node12\" class=\"node\">\n",
       "<title>x8</title>\n",
       "<ellipse fill=\"none\" stroke=\"black\" cx=\"252.5\" cy=\"-29.3\" rx=\"27\" ry=\"18\"/>\n",
       "<text text-anchor=\"middle\" x=\"252.5\" y=\"-25.6\" font-family=\"Times,serif\" font-size=\"14.00\">x8</text>\n",
       "</g>\n",
       "<!-- x6&#45;&gt;x8 -->\n",
       "<g id=\"edge8\" class=\"edge\">\n",
       "<title>x6&#45;&gt;x8</title>\n",
       "<path fill=\"none\" stroke=\"black\" d=\"M194.72,-92.85C205.18,-81.35 219.55,-65.54 231.35,-52.56\"/>\n",
       "<polygon fill=\"black\" stroke=\"black\" points=\"234.17,-54.67 238.3,-44.91 228.99,-49.96 234.17,-54.67\"/>\n",
       "<text text-anchor=\"middle\" x=\"200.43\" y=\"-72.77\" font-family=\"Times,serif\" font-size=\"14.00\">0.88</text>\n",
       "</g>\n",
       "<!-- x7&#45;&gt;x8 -->\n",
       "<g id=\"edge9\" class=\"edge\">\n",
       "<title>x7&#45;&gt;x8</title>\n",
       "<path fill=\"none\" stroke=\"black\" d=\"M310.28,-92.85C299.82,-81.35 285.45,-65.54 273.65,-52.56\"/>\n",
       "<polygon fill=\"black\" stroke=\"black\" points=\"276.01,-49.96 266.7,-44.91 270.83,-54.67 276.01,-49.96\"/>\n",
       "<text text-anchor=\"middle\" x=\"272.57\" y=\"-72.77\" font-family=\"Times,serif\" font-size=\"14.00\">1.39</text>\n",
       "</g>\n",
       "<!-- endogenous_lu -->\n",
       "<!-- endogenous_rl -->\n",
       "<!-- sink_lu -->\n",
       "<!-- sink_rl -->\n",
       "</g>\n",
       "</svg>\n"
      ],
      "text/plain": [
       "<graphviz.graphs.Digraph at 0x7fe52a452d60>"
      ]
     },
     "execution_count": 11,
     "metadata": {},
     "output_type": "execute_result"
    }
   ],
   "source": [
    "g = gv.Digraph(engine=\"neato\", graph_attr={\"splines\":\"true\"})\n",
    "\n",
    "cluster_names = [\"exogenous\", \"endogenous\", \"sink\"]\n",
    "\n",
    "node_kws = {\n",
    "    \"x1\": {\"pos\": \"0,0!\"},\n",
    "    \"x2\": {\"pos\": \"1.5,0!\"},\n",
    "    \"x3\": {\"pos\": \"3.0,0!\"},\n",
    "    \"x4\": {\"pos\": \"0.8,-1.1!\"},\n",
    "    \"x5\": {\"pos\": \"2.2,-1.2!\"},\n",
    "    \"x6\": {\"pos\": \"0.5,-2.3!\"},\n",
    "    \"x7\": {\"pos\": \"2.5,-2.3!\"},\n",
    "    \"x8\": {\"pos\": \"1.5,-3.4!\"},\n",
    "}\n",
    "\n",
    "dummy_node_kws = {\n",
    "    \"exogenous\": [\n",
    "        {\"pos\":\"-2,0.4!\", \"style\":\"invis\", \"fixedsize\":\"true\", \"width\":\"0\", \"height\":\"0\"},\n",
    "        {\"pos\":\"3.5,-0.4!\", \"style\":\"invis\", \"fixedsize\":\"true\", \"width\":\"0\", \"height\":\"0\"},\n",
    "    ],\n",
    "    \"endogenous\": [\n",
    "        {\"pos\":\"-2,-0.7!\", \"style\":\"invis\", \"fixedsize\":\"true\", \"width\":\"0\", \"height\":\"0\"},\n",
    "        {\"pos\":\"3.5,-2.7!\", \"style\":\"invis\", \"fixedsize\":\"true\", \"width\":\"0\", \"height\":\"0\"},\n",
    "    ],\n",
    "    \"sink\": [\n",
    "        {\"pos\":\"-2,-3.0!\", \"style\":\"invis\", \"fixedsize\":\"true\", \"width\":\"0\", \"height\":\"0\"},\n",
    "        {\"pos\":\"3.5,-3.8!\", \"style\":\"invis\", \"fixedsize\":\"true\", \"width\":\"0\", \"height\":\"0\"},\n",
    "    ]\n",
    "}\n",
    "\n",
    "# add nodes\n",
    "for cluster_name, var_names in zip(cluster_names, [exog_var_names, endog_var_names, [sink_var_name]]):\n",
    "    # make subgraph\n",
    "    with g.subgraph(name=f\"cluster_{cluster_name}\", graph_attr={\"margin\":\"4,4!\"}) as sub:\n",
    "        for var_name in var_names:\n",
    "            kw = {} if var_name not in node_kws.keys() else node_kws[var_name]\n",
    "            sub.node(var_name, var_name, **kw)\n",
    "        s = \"\" if cluster_name == \"sink\" else \"s\"\n",
    "        sub.attr(label=f\"{cluster_name}\\nvariable\" + s, labeljust=\"l\")\n",
    "        \n",
    "        # dummies\n",
    "        sub.node(cluster_name + \"_lu\", \"\", **dummy_node_kws[cluster_name][0])\n",
    "        sub.node(cluster_name + \"_rl\", \"\", **dummy_node_kws[cluster_name][1])\n",
    "\n",
    "# add edges\n",
    "for to_name, coefs in m.iterrows():\n",
    "    for from_name, coef in coefs.items():\n",
    "        if np.isclose(coef, 0):\n",
    "            continue\n",
    "        \n",
    "        g.edge(from_name, to_name, label=f\"{coef:.2f}\")\n",
    "\n",
    "g"
   ]
  },
  {
   "cell_type": "markdown",
   "id": "e7c3bf65-b416-48c0-a1e3-5ba2027c7ce9",
   "metadata": {},
   "source": [
    "### Perform causal discovery\n",
    "\n",
    "A causal discovery is performed with test data X and three subsets of variable names to analyze a causal relation of endogenous variables and sink variable. First, we remove effects of exogenous variables from test data X."
   ]
  },
  {
   "cell_type": "code",
   "execution_count": 12,
   "id": "5e249cf3-9233-4ab4-b0be-85a153c3dd8e",
   "metadata": {
    "tags": []
   },
   "outputs": [],
   "source": [
    "X_removed_exog = X.copy()\n",
    "\n",
    "# remove effects of exogenous variables from X by regression\n",
    "for endog_var_name in endog_var_names:\n",
    "    # fitting a linear regression model\n",
    "    reg = LinearRegression()\n",
    "    reg.fit(X[exog_var_names], X[endog_var_name])\n",
    "    \n",
    "    # remove effects of exogenous variables from other variables\n",
    "    X_removed_exog[endog_var_name] = X[endog_var_name] - reg.predict(X[exog_var_names])\n",
    "\n",
    "X_removed_exog = X_removed_exog.drop(exog_var_names, axis=1)"
   ]
  },
  {
   "cell_type": "markdown",
   "id": "285498a2-7667-4a67-84f7-c442795bf17b",
   "metadata": {},
   "source": [
    "We performs causal discovery with test data removed effects of exogenous variables."
   ]
  },
  {
   "cell_type": "code",
   "execution_count": 13,
   "id": "01bb4ca7-a89d-4dfe-9d5e-29d7e60ddf03",
   "metadata": {
    "tags": []
   },
   "outputs": [
    {
     "data": {
      "text/plain": [
       "array([[0.        , 0.        , 0.        , 0.        ],\n",
       "       [0.        , 0.        , 0.        , 0.        ],\n",
       "       [0.3985687 , 0.90487899, 0.        , 0.        ],\n",
       "       [1.93148696, 0.        , 0.        , 0.        ]])"
      ]
     },
     "execution_count": 13,
     "metadata": {},
     "output_type": "execute_result"
    }
   ],
   "source": [
    "cd_model = DirectLiNGAM()\n",
    "cd_model.fit(X_removed_exog[endog_var_names])\n",
    "\n",
    "cd_model.adjacency_matrix_"
   ]
  },
  {
   "cell_type": "markdown",
   "id": "d79904b8-9002-4733-b67d-b30104738d48",
   "metadata": {
    "tags": []
   },
   "source": [
    "Next, we estimate a model for the sink variable using the endogenous variables as explanatory variables. Since the sink variable is a discrete variable, a logistic regression model is used."
   ]
  },
  {
   "cell_type": "code",
   "execution_count": 14,
   "id": "2a47f902-af22-425f-b6de-6a6c50191e05",
   "metadata": {
    "tags": []
   },
   "outputs": [
    {
     "data": {
      "text/plain": [
       "array([[-0.01997552, -0.07101336,  0.33328635,  0.40071051]])"
      ]
     },
     "execution_count": 14,
     "metadata": {},
     "output_type": "execute_result"
    }
   ],
   "source": [
    "sink_model = LogisticRegression(penalty=None)\n",
    "sink_model.fit(X_removed_exog[endog_var_names], X_removed_exog[sink_var_name])\n",
    "\n",
    "sink_model.coef_"
   ]
  },
  {
   "cell_type": "markdown",
   "id": "de551328-4d8f-4324-99cc-e8967c863c17",
   "metadata": {},
   "source": [
    "The adjacency matrix of the endogenous variables and the coefficients of the model of the sink variable are combined into one adjacency matrix to obtain the results of the analysis."
   ]
  },
  {
   "cell_type": "code",
   "execution_count": 15,
   "id": "4bb5cd4c-65f3-44ef-9dd3-4ae1ff45f6c1",
   "metadata": {
    "tags": []
   },
   "outputs": [
    {
     "data": {
      "text/html": [
       "<div>\n",
       "<style scoped>\n",
       "    .dataframe tbody tr th:only-of-type {\n",
       "        vertical-align: middle;\n",
       "    }\n",
       "\n",
       "    .dataframe tbody tr th {\n",
       "        vertical-align: top;\n",
       "    }\n",
       "\n",
       "    .dataframe thead th {\n",
       "        text-align: right;\n",
       "    }\n",
       "</style>\n",
       "<table border=\"1\" class=\"dataframe\">\n",
       "  <thead>\n",
       "    <tr style=\"text-align: right;\">\n",
       "      <th></th>\n",
       "      <th>x4</th>\n",
       "      <th>x5</th>\n",
       "      <th>x6</th>\n",
       "      <th>x7</th>\n",
       "      <th>x8</th>\n",
       "    </tr>\n",
       "  </thead>\n",
       "  <tbody>\n",
       "    <tr>\n",
       "      <th>x4</th>\n",
       "      <td>0.000000</td>\n",
       "      <td>0.000000</td>\n",
       "      <td>0.000000</td>\n",
       "      <td>0.000000</td>\n",
       "      <td>0.0</td>\n",
       "    </tr>\n",
       "    <tr>\n",
       "      <th>x5</th>\n",
       "      <td>0.000000</td>\n",
       "      <td>0.000000</td>\n",
       "      <td>0.000000</td>\n",
       "      <td>0.000000</td>\n",
       "      <td>0.0</td>\n",
       "    </tr>\n",
       "    <tr>\n",
       "      <th>x6</th>\n",
       "      <td>0.398569</td>\n",
       "      <td>0.904879</td>\n",
       "      <td>0.000000</td>\n",
       "      <td>0.000000</td>\n",
       "      <td>0.0</td>\n",
       "    </tr>\n",
       "    <tr>\n",
       "      <th>x7</th>\n",
       "      <td>1.931487</td>\n",
       "      <td>0.000000</td>\n",
       "      <td>0.000000</td>\n",
       "      <td>0.000000</td>\n",
       "      <td>0.0</td>\n",
       "    </tr>\n",
       "    <tr>\n",
       "      <th>x8</th>\n",
       "      <td>-0.019976</td>\n",
       "      <td>-0.071013</td>\n",
       "      <td>0.333286</td>\n",
       "      <td>0.400711</td>\n",
       "      <td>0.0</td>\n",
       "    </tr>\n",
       "  </tbody>\n",
       "</table>\n",
       "</div>"
      ],
      "text/plain": [
       "          x4        x5        x6        x7   x8\n",
       "x4  0.000000  0.000000  0.000000  0.000000  0.0\n",
       "x5  0.000000  0.000000  0.000000  0.000000  0.0\n",
       "x6  0.398569  0.904879  0.000000  0.000000  0.0\n",
       "x7  1.931487  0.000000  0.000000  0.000000  0.0\n",
       "x8 -0.019976 -0.071013  0.333286  0.400711  0.0"
      ]
     },
     "execution_count": 15,
     "metadata": {},
     "output_type": "execute_result"
    }
   ],
   "source": [
    "adj = np.concatenate([cd_model.adjacency_matrix_, sink_model.coef_])\n",
    "adj = np.concatenate([adj, np.zeros((len(adj), 1))], axis=1)\n",
    "\n",
    "cols = endog_var_names + [sink_var_name]\n",
    "adj = pd.DataFrame(adj, columns=cols, index=cols)\n",
    "\n",
    "adj"
   ]
  },
  {
   "cell_type": "markdown",
   "id": "9f7e3d62-35cb-48ef-93b4-1ba2c3c4a5e0",
   "metadata": {},
   "source": [
    "### Visualize a result\n",
    "\n",
    "The causal graph is as follows:"
   ]
  },
  {
   "cell_type": "code",
   "execution_count": 16,
   "id": "833d815b-7547-443c-b6e7-985cd8765ea5",
   "metadata": {
    "tags": []
   },
   "outputs": [
    {
     "data": {
      "image/svg+xml": [
       "<?xml version=\"1.0\" encoding=\"UTF-8\" standalone=\"no\"?>\n",
       "<!DOCTYPE svg PUBLIC \"-//W3C//DTD SVG 1.1//EN\"\n",
       " \"http://www.w3.org/Graphics/SVG/1.1/DTD/svg11.dtd\">\n",
       "<!-- Generated by graphviz version 2.43.0 (0)\n",
       " -->\n",
       "<!-- Title: %3 Pages: 1 -->\n",
       "<svg width=\"246pt\" height=\"218pt\"\n",
       " viewBox=\"0.00 0.00 246.44 218.00\" xmlns=\"http://www.w3.org/2000/svg\" xmlns:xlink=\"http://www.w3.org/1999/xlink\">\n",
       "<g id=\"graph0\" class=\"graph\" transform=\"scale(1 1) rotate(0) translate(4 214)\">\n",
       "<title>%3</title>\n",
       "<polygon fill=\"white\" stroke=\"transparent\" points=\"-4,4 -4,-214 242.44,-214 242.44,4 -4,4\"/>\n",
       "<!-- x4 -->\n",
       "<g id=\"node1\" class=\"node\">\n",
       "<title>x4</title>\n",
       "<ellipse fill=\"none\" stroke=\"black\" cx=\"56.44\" cy=\"-192\" rx=\"27\" ry=\"18\"/>\n",
       "<text text-anchor=\"middle\" x=\"56.44\" y=\"-188.3\" font-family=\"Times,serif\" font-size=\"14.00\">x4</text>\n",
       "</g>\n",
       "<!-- x6 -->\n",
       "<g id=\"node3\" class=\"node\">\n",
       "<title>x6</title>\n",
       "<ellipse fill=\"none\" stroke=\"black\" cx=\"150.44\" cy=\"-105\" rx=\"27\" ry=\"18\"/>\n",
       "<text text-anchor=\"middle\" x=\"150.44\" y=\"-101.3\" font-family=\"Times,serif\" font-size=\"14.00\">x6</text>\n",
       "</g>\n",
       "<!-- x4&#45;&gt;x6 -->\n",
       "<g id=\"edge1\" class=\"edge\">\n",
       "<title>x4&#45;&gt;x6</title>\n",
       "<path fill=\"none\" stroke=\"black\" d=\"M71.97,-176.96C87.07,-163.31 110.2,-142.39 127.44,-126.8\"/>\n",
       "<polygon fill=\"black\" stroke=\"black\" points=\"129.83,-129.36 134.9,-120.06 125.13,-124.17 129.83,-129.36\"/>\n",
       "<text text-anchor=\"middle\" x=\"124.44\" y=\"-144.8\" font-family=\"Times,serif\" font-size=\"14.00\">0.40</text>\n",
       "</g>\n",
       "<!-- x7 -->\n",
       "<g id=\"node4\" class=\"node\">\n",
       "<title>x7</title>\n",
       "<ellipse fill=\"none\" stroke=\"black\" cx=\"78.44\" cy=\"-105\" rx=\"27\" ry=\"18\"/>\n",
       "<text text-anchor=\"middle\" x=\"78.44\" y=\"-101.3\" font-family=\"Times,serif\" font-size=\"14.00\">x7</text>\n",
       "</g>\n",
       "<!-- x4&#45;&gt;x7 -->\n",
       "<g id=\"edge3\" class=\"edge\">\n",
       "<title>x4&#45;&gt;x7</title>\n",
       "<path fill=\"none\" stroke=\"black\" d=\"M54.64,-174.01C54.12,-164.18 54.37,-151.68 57.44,-141 58.49,-137.38 60,-133.76 61.74,-130.29\"/>\n",
       "<polygon fill=\"black\" stroke=\"black\" points=\"64.81,-131.98 66.74,-121.56 58.73,-128.5 64.81,-131.98\"/>\n",
       "<text text-anchor=\"middle\" x=\"73.44\" y=\"-144.8\" font-family=\"Times,serif\" font-size=\"14.00\">1.93</text>\n",
       "</g>\n",
       "<!-- x8 -->\n",
       "<g id=\"node5\" class=\"node\">\n",
       "<title>x8</title>\n",
       "<ellipse fill=\"none\" stroke=\"black\" cx=\"122.44\" cy=\"-18\" rx=\"27\" ry=\"18\"/>\n",
       "<text text-anchor=\"middle\" x=\"122.44\" y=\"-14.3\" font-family=\"Times,serif\" font-size=\"14.00\">x8</text>\n",
       "</g>\n",
       "<!-- x4&#45;&gt;x8 -->\n",
       "<g id=\"edge4\" class=\"edge\">\n",
       "<title>x4&#45;&gt;x8</title>\n",
       "<path fill=\"none\" stroke=\"black\" d=\"M40.86,-177.24C19.94,-157.04 -12.61,-118.37 5.44,-87 22.98,-56.53 59.98,-38.45 87.71,-28.68\"/>\n",
       "<polygon fill=\"black\" stroke=\"black\" points=\"89.06,-31.92 97.45,-25.45 86.86,-25.28 89.06,-31.92\"/>\n",
       "<text text-anchor=\"middle\" x=\"23.94\" y=\"-101.3\" font-family=\"Times,serif\" font-size=\"14.00\">&#45;0.02</text>\n",
       "</g>\n",
       "<!-- x5 -->\n",
       "<g id=\"node2\" class=\"node\">\n",
       "<title>x5</title>\n",
       "<ellipse fill=\"none\" stroke=\"black\" cx=\"189.44\" cy=\"-192\" rx=\"27\" ry=\"18\"/>\n",
       "<text text-anchor=\"middle\" x=\"189.44\" y=\"-188.3\" font-family=\"Times,serif\" font-size=\"14.00\">x5</text>\n",
       "</g>\n",
       "<!-- x5&#45;&gt;x6 -->\n",
       "<g id=\"edge2\" class=\"edge\">\n",
       "<title>x5&#45;&gt;x6</title>\n",
       "<path fill=\"none\" stroke=\"black\" d=\"M178.56,-175.42C174.72,-169.51 170.59,-162.61 167.44,-156 163.94,-148.63 160.81,-140.34 158.23,-132.67\"/>\n",
       "<polygon fill=\"black\" stroke=\"black\" points=\"161.54,-131.51 155.16,-123.05 154.87,-133.64 161.54,-131.51\"/>\n",
       "<text text-anchor=\"middle\" x=\"183.44\" y=\"-144.8\" font-family=\"Times,serif\" font-size=\"14.00\">0.90</text>\n",
       "</g>\n",
       "<!-- x5&#45;&gt;x8 -->\n",
       "<g id=\"edge5\" class=\"edge\">\n",
       "<title>x5&#45;&gt;x8</title>\n",
       "<path fill=\"none\" stroke=\"black\" d=\"M195.29,-174.11C196.99,-168.43 198.6,-162.01 199.44,-156 205.93,-109.67 202.58,-90.6 173.44,-54 167.56,-46.61 159.71,-40.17 151.93,-34.9\"/>\n",
       "<polygon fill=\"black\" stroke=\"black\" points=\"153.61,-31.82 143.28,-29.45 149.88,-37.74 153.61,-31.82\"/>\n",
       "<text text-anchor=\"middle\" x=\"219.94\" y=\"-101.3\" font-family=\"Times,serif\" font-size=\"14.00\">&#45;0.07</text>\n",
       "</g>\n",
       "<!-- x6&#45;&gt;x8 -->\n",
       "<g id=\"edge6\" class=\"edge\">\n",
       "<title>x6&#45;&gt;x8</title>\n",
       "<path fill=\"none\" stroke=\"black\" d=\"M144.91,-87.21C141,-75.33 135.68,-59.17 131.19,-45.56\"/>\n",
       "<polygon fill=\"black\" stroke=\"black\" points=\"134.42,-44.16 127.96,-35.76 127.77,-46.35 134.42,-44.16\"/>\n",
       "<text text-anchor=\"middle\" x=\"153.44\" y=\"-57.8\" font-family=\"Times,serif\" font-size=\"14.00\">0.33</text>\n",
       "</g>\n",
       "<!-- x7&#45;&gt;x8 -->\n",
       "<g id=\"edge7\" class=\"edge\">\n",
       "<title>x7&#45;&gt;x8</title>\n",
       "<path fill=\"none\" stroke=\"black\" d=\"M84.05,-87.38C87.65,-77.45 92.72,-64.72 98.44,-54 100.38,-50.38 102.61,-46.67 104.92,-43.09\"/>\n",
       "<polygon fill=\"black\" stroke=\"black\" points=\"107.98,-44.81 110.68,-34.56 102.18,-40.89 107.98,-44.81\"/>\n",
       "<text text-anchor=\"middle\" x=\"114.44\" y=\"-57.8\" font-family=\"Times,serif\" font-size=\"14.00\">0.40</text>\n",
       "</g>\n",
       "</g>\n",
       "</svg>\n"
      ],
      "text/plain": [
       "<graphviz.graphs.Digraph at 0x7fe52a452100>"
      ]
     },
     "execution_count": 16,
     "metadata": {},
     "output_type": "execute_result"
    }
   ],
   "source": [
    "make_dot(adj, labels=adj.columns.tolist(), lower_limit=0.0)"
   ]
  },
  {
   "cell_type": "markdown",
   "id": "ab6fd2da-a16c-4f1f-8903-343ed2afea2d",
   "metadata": {},
   "source": [
    "### Evaluation by fitting indices\n",
    "\n",
    "The estimated results are considered as a SEM model and the fitting indices is calculated."
   ]
  },
  {
   "cell_type": "code",
   "execution_count": 17,
   "id": "5e67243a-a9ad-4593-b893-77416bf91e6f",
   "metadata": {
    "tags": []
   },
   "outputs": [
    {
     "data": {
      "text/html": [
       "<div>\n",
       "<style scoped>\n",
       "    .dataframe tbody tr th:only-of-type {\n",
       "        vertical-align: middle;\n",
       "    }\n",
       "\n",
       "    .dataframe tbody tr th {\n",
       "        vertical-align: top;\n",
       "    }\n",
       "\n",
       "    .dataframe thead th {\n",
       "        text-align: right;\n",
       "    }\n",
       "</style>\n",
       "<table border=\"1\" class=\"dataframe\">\n",
       "  <thead>\n",
       "    <tr style=\"text-align: right;\">\n",
       "      <th></th>\n",
       "      <th>DoF</th>\n",
       "      <th>DoF Baseline</th>\n",
       "      <th>chi2</th>\n",
       "      <th>chi2 p-value</th>\n",
       "      <th>chi2 Baseline</th>\n",
       "      <th>CFI</th>\n",
       "      <th>GFI</th>\n",
       "      <th>AGFI</th>\n",
       "      <th>NFI</th>\n",
       "      <th>TLI</th>\n",
       "      <th>RMSEA</th>\n",
       "      <th>AIC</th>\n",
       "      <th>BIC</th>\n",
       "      <th>LogLik</th>\n",
       "    </tr>\n",
       "  </thead>\n",
       "  <tbody>\n",
       "    <tr>\n",
       "      <th>Value</th>\n",
       "      <td>12</td>\n",
       "      <td>12</td>\n",
       "      <td>5144.605986</td>\n",
       "      <td>0.0</td>\n",
       "      <td>6225.048346</td>\n",
       "      <td>0.173899</td>\n",
       "      <td>0.173564</td>\n",
       "      <td>0.173564</td>\n",
       "      <td>0.173564</td>\n",
       "      <td>0.173899</td>\n",
       "      <td>0.654328</td>\n",
       "      <td>-4.289212</td>\n",
       "      <td>10.434054</td>\n",
       "      <td>5.144606</td>\n",
       "    </tr>\n",
       "  </tbody>\n",
       "</table>\n",
       "</div>"
      ],
      "text/plain": [
       "       DoF  DoF Baseline         chi2  chi2 p-value  chi2 Baseline       CFI  \\\n",
       "Value   12            12  5144.605986           0.0    6225.048346  0.173899   \n",
       "\n",
       "            GFI      AGFI       NFI       TLI     RMSEA       AIC        BIC  \\\n",
       "Value  0.173564  0.173564  0.173564  0.173899  0.654328 -4.289212  10.434054   \n",
       "\n",
       "         LogLik  \n",
       "Value  5.144606  "
      ]
     },
     "execution_count": 17,
     "metadata": {},
     "output_type": "execute_result"
    }
   ],
   "source": [
    "def calc_fit_indices(B, X, sink_var_name):\n",
    "    \"\"\" calculate fitting indices with adjacency matrix B and data X \"\"\"\n",
    "    \n",
    "    desc = \"\"\n",
    "    for name, row in B.iterrows():\n",
    "        var_model = []\n",
    "        \n",
    "        for name2, coef in row.items():\n",
    "            if np.isclose(coef, 0):\n",
    "                continue\n",
    "            var_model.append(f\"{coef} * {name2}\")\n",
    "        \n",
    "        if len(var_model) == 0:\n",
    "            continue\n",
    "        \n",
    "        var_model = f\"{name} ~ \" + \" + \".join(var_model) + \"\\n\"\n",
    "        desc += var_model\n",
    "    \n",
    "    desc += \"DEFINE(ordinal) \" + str(sink_var_name)\n",
    "    \n",
    "    m = semopy.Model(desc)\n",
    "    m.fit(X)\n",
    "    stats = semopy.calc_stats(m)\n",
    "    \n",
    "    return stats\n",
    "\n",
    "X_eval = X_removed_exog.copy()\n",
    "X_eval[sink_var_name] = X[sink_var_name]\n",
    "\n",
    "fit_indices = calc_fit_indices(adj, X_eval, sink_var_name)\n",
    "fit_indices"
   ]
  },
  {
   "cell_type": "markdown",
   "id": "f97688c8-3861-446d-ba17-9612ea3d9b8c",
   "metadata": {},
   "source": [
    "### Prune the model for the sink variable\n",
    "\n",
    "Comparing the estimated results with the true causal graph, we can see that extra edges toward x7 are estimated. Using AdaptiveLogisticRegression instead of LogsticRegression as the model for the sink variable solves this problem."
   ]
  },
  {
   "cell_type": "code",
   "execution_count": 18,
   "id": "0d961348-8f7f-40b7-b2c3-d06c50058656",
   "metadata": {},
   "outputs": [
    {
     "data": {
      "text/plain": [
       "array([[0.        , 0.        , 0.28666118, 0.39344918]])"
      ]
     },
     "execution_count": 18,
     "metadata": {},
     "output_type": "execute_result"
    }
   ],
   "source": [
    "sink_model2 = AdaptiveLogisticRegression()\n",
    "sink_model2.fit(X_removed_exog[endog_var_names], X_removed_exog[sink_var_name])\n",
    "\n",
    "sink_model2.coef_"
   ]
  },
  {
   "cell_type": "markdown",
   "id": "5e91801b-fc58-4e7b-ad13-513a84ce0186",
   "metadata": {},
   "source": [
    "As before, the adjacency matrix of the endogenous variables and the coefficients of the model of the sink variable are made into one adjacency matrix."
   ]
  },
  {
   "cell_type": "code",
   "execution_count": 19,
   "id": "d3e87e4e-bd54-4356-b3d0-d0a7cc0e6178",
   "metadata": {
    "tags": []
   },
   "outputs": [
    {
     "data": {
      "text/html": [
       "<div>\n",
       "<style scoped>\n",
       "    .dataframe tbody tr th:only-of-type {\n",
       "        vertical-align: middle;\n",
       "    }\n",
       "\n",
       "    .dataframe tbody tr th {\n",
       "        vertical-align: top;\n",
       "    }\n",
       "\n",
       "    .dataframe thead th {\n",
       "        text-align: right;\n",
       "    }\n",
       "</style>\n",
       "<table border=\"1\" class=\"dataframe\">\n",
       "  <thead>\n",
       "    <tr style=\"text-align: right;\">\n",
       "      <th></th>\n",
       "      <th>x4</th>\n",
       "      <th>x5</th>\n",
       "      <th>x6</th>\n",
       "      <th>x7</th>\n",
       "      <th>x8</th>\n",
       "    </tr>\n",
       "  </thead>\n",
       "  <tbody>\n",
       "    <tr>\n",
       "      <th>x4</th>\n",
       "      <td>0.000000</td>\n",
       "      <td>0.000000</td>\n",
       "      <td>0.000000</td>\n",
       "      <td>0.000000</td>\n",
       "      <td>0.0</td>\n",
       "    </tr>\n",
       "    <tr>\n",
       "      <th>x5</th>\n",
       "      <td>0.000000</td>\n",
       "      <td>0.000000</td>\n",
       "      <td>0.000000</td>\n",
       "      <td>0.000000</td>\n",
       "      <td>0.0</td>\n",
       "    </tr>\n",
       "    <tr>\n",
       "      <th>x6</th>\n",
       "      <td>0.398569</td>\n",
       "      <td>0.904879</td>\n",
       "      <td>0.000000</td>\n",
       "      <td>0.000000</td>\n",
       "      <td>0.0</td>\n",
       "    </tr>\n",
       "    <tr>\n",
       "      <th>x7</th>\n",
       "      <td>1.931487</td>\n",
       "      <td>0.000000</td>\n",
       "      <td>0.000000</td>\n",
       "      <td>0.000000</td>\n",
       "      <td>0.0</td>\n",
       "    </tr>\n",
       "    <tr>\n",
       "      <th>x8</th>\n",
       "      <td>0.000000</td>\n",
       "      <td>0.000000</td>\n",
       "      <td>0.286661</td>\n",
       "      <td>0.393449</td>\n",
       "      <td>0.0</td>\n",
       "    </tr>\n",
       "  </tbody>\n",
       "</table>\n",
       "</div>"
      ],
      "text/plain": [
       "          x4        x5        x6        x7   x8\n",
       "x4  0.000000  0.000000  0.000000  0.000000  0.0\n",
       "x5  0.000000  0.000000  0.000000  0.000000  0.0\n",
       "x6  0.398569  0.904879  0.000000  0.000000  0.0\n",
       "x7  1.931487  0.000000  0.000000  0.000000  0.0\n",
       "x8  0.000000  0.000000  0.286661  0.393449  0.0"
      ]
     },
     "execution_count": 19,
     "metadata": {},
     "output_type": "execute_result"
    }
   ],
   "source": [
    "adj = np.concatenate([cd_model.adjacency_matrix_, sink_model2.coef_])\n",
    "adj = np.concatenate([adj, np.zeros((len(adj), 1))], axis=1)\n",
    "\n",
    "cols = endog_var_names + [sink_var_name]\n",
    "adj = pd.DataFrame(adj, columns=cols, index=cols)\n",
    "\n",
    "adj"
   ]
  },
  {
   "cell_type": "markdown",
   "id": "9e464cf5-bf13-4d62-9616-6ef79408676e",
   "metadata": {
    "tags": []
   },
   "source": [
    "The causal graph is as follows:"
   ]
  },
  {
   "cell_type": "code",
   "execution_count": 20,
   "id": "8e9ae62f-996b-4936-a8d5-055ce31eb025",
   "metadata": {
    "tags": []
   },
   "outputs": [
    {
     "data": {
      "image/svg+xml": [
       "<?xml version=\"1.0\" encoding=\"UTF-8\" standalone=\"no\"?>\n",
       "<!DOCTYPE svg PUBLIC \"-//W3C//DTD SVG 1.1//EN\"\n",
       " \"http://www.w3.org/Graphics/SVG/1.1/DTD/svg11.dtd\">\n",
       "<!-- Generated by graphviz version 2.43.0 (0)\n",
       " -->\n",
       "<!-- Title: %3 Pages: 1 -->\n",
       "<svg width=\"172pt\" height=\"218pt\"\n",
       " viewBox=\"0.00 0.00 172.00 218.00\" xmlns=\"http://www.w3.org/2000/svg\" xmlns:xlink=\"http://www.w3.org/1999/xlink\">\n",
       "<g id=\"graph0\" class=\"graph\" transform=\"scale(1 1) rotate(0) translate(4 214)\">\n",
       "<title>%3</title>\n",
       "<polygon fill=\"white\" stroke=\"transparent\" points=\"-4,4 -4,-214 168,-214 168,4 -4,4\"/>\n",
       "<!-- x4 -->\n",
       "<g id=\"node1\" class=\"node\">\n",
       "<title>x4</title>\n",
       "<ellipse fill=\"none\" stroke=\"black\" cx=\"46\" cy=\"-192\" rx=\"27\" ry=\"18\"/>\n",
       "<text text-anchor=\"middle\" x=\"46\" y=\"-188.3\" font-family=\"Times,serif\" font-size=\"14.00\">x4</text>\n",
       "</g>\n",
       "<!-- x6 -->\n",
       "<g id=\"node3\" class=\"node\">\n",
       "<title>x6</title>\n",
       "<ellipse fill=\"none\" stroke=\"black\" cx=\"99\" cy=\"-105\" rx=\"27\" ry=\"18\"/>\n",
       "<text text-anchor=\"middle\" x=\"99\" y=\"-101.3\" font-family=\"Times,serif\" font-size=\"14.00\">x6</text>\n",
       "</g>\n",
       "<!-- x4&#45;&gt;x6 -->\n",
       "<g id=\"edge1\" class=\"edge\">\n",
       "<title>x4&#45;&gt;x6</title>\n",
       "<path fill=\"none\" stroke=\"black\" d=\"M55.97,-175.01C63.74,-162.55 74.67,-145.01 83.57,-130.74\"/>\n",
       "<polygon fill=\"black\" stroke=\"black\" points=\"86.75,-132.25 89.08,-121.92 80.81,-128.55 86.75,-132.25\"/>\n",
       "<text text-anchor=\"middle\" x=\"91\" y=\"-144.8\" font-family=\"Times,serif\" font-size=\"14.00\">0.40</text>\n",
       "</g>\n",
       "<!-- x7 -->\n",
       "<g id=\"node4\" class=\"node\">\n",
       "<title>x7</title>\n",
       "<ellipse fill=\"none\" stroke=\"black\" cx=\"27\" cy=\"-105\" rx=\"27\" ry=\"18\"/>\n",
       "<text text-anchor=\"middle\" x=\"27\" y=\"-101.3\" font-family=\"Times,serif\" font-size=\"14.00\">x7</text>\n",
       "</g>\n",
       "<!-- x4&#45;&gt;x7 -->\n",
       "<g id=\"edge3\" class=\"edge\">\n",
       "<title>x4&#45;&gt;x7</title>\n",
       "<path fill=\"none\" stroke=\"black\" d=\"M35.96,-175.23C32.79,-169.41 29.67,-162.62 28,-156 26.2,-148.87 25.48,-140.99 25.32,-133.64\"/>\n",
       "<polygon fill=\"black\" stroke=\"black\" points=\"28.83,-133.42 25.44,-123.38 21.83,-133.34 28.83,-133.42\"/>\n",
       "<text text-anchor=\"middle\" x=\"44\" y=\"-144.8\" font-family=\"Times,serif\" font-size=\"14.00\">1.93</text>\n",
       "</g>\n",
       "<!-- x5 -->\n",
       "<g id=\"node2\" class=\"node\">\n",
       "<title>x5</title>\n",
       "<ellipse fill=\"none\" stroke=\"black\" cx=\"137\" cy=\"-192\" rx=\"27\" ry=\"18\"/>\n",
       "<text text-anchor=\"middle\" x=\"137\" y=\"-188.3\" font-family=\"Times,serif\" font-size=\"14.00\">x5</text>\n",
       "</g>\n",
       "<!-- x5&#45;&gt;x6 -->\n",
       "<g id=\"edge2\" class=\"edge\">\n",
       "<title>x5&#45;&gt;x6</title>\n",
       "<path fill=\"none\" stroke=\"black\" d=\"M129.73,-174.31C125.47,-164.58 119.97,-152.08 115,-141 113.63,-137.95 112.19,-134.76 110.75,-131.6\"/>\n",
       "<polygon fill=\"black\" stroke=\"black\" points=\"113.87,-130 106.54,-122.36 107.5,-132.91 113.87,-130\"/>\n",
       "<text text-anchor=\"middle\" x=\"137\" y=\"-144.8\" font-family=\"Times,serif\" font-size=\"14.00\">0.90</text>\n",
       "</g>\n",
       "<!-- x8 -->\n",
       "<g id=\"node5\" class=\"node\">\n",
       "<title>x8</title>\n",
       "<ellipse fill=\"none\" stroke=\"black\" cx=\"62\" cy=\"-18\" rx=\"27\" ry=\"18\"/>\n",
       "<text text-anchor=\"middle\" x=\"62\" y=\"-14.3\" font-family=\"Times,serif\" font-size=\"14.00\">x8</text>\n",
       "</g>\n",
       "<!-- x6&#45;&gt;x8 -->\n",
       "<g id=\"edge4\" class=\"edge\">\n",
       "<title>x6&#45;&gt;x8</title>\n",
       "<path fill=\"none\" stroke=\"black\" d=\"M91.87,-87.61C86.63,-75.58 79.4,-58.98 73.37,-45.13\"/>\n",
       "<polygon fill=\"black\" stroke=\"black\" points=\"76.44,-43.4 69.24,-35.63 70.02,-46.19 76.44,-43.4\"/>\n",
       "<text text-anchor=\"middle\" x=\"98\" y=\"-57.8\" font-family=\"Times,serif\" font-size=\"14.00\">0.29</text>\n",
       "</g>\n",
       "<!-- x7&#45;&gt;x8 -->\n",
       "<g id=\"edge5\" class=\"edge\">\n",
       "<title>x7&#45;&gt;x8</title>\n",
       "<path fill=\"none\" stroke=\"black\" d=\"M30.09,-86.9C32.2,-77.04 35.45,-64.54 40,-54 41.59,-50.32 43.53,-46.59 45.59,-42.99\"/>\n",
       "<polygon fill=\"black\" stroke=\"black\" points=\"48.58,-44.81 50.85,-34.46 42.62,-41.14 48.58,-44.81\"/>\n",
       "<text text-anchor=\"middle\" x=\"56\" y=\"-57.8\" font-family=\"Times,serif\" font-size=\"14.00\">0.39</text>\n",
       "</g>\n",
       "</g>\n",
       "</svg>\n"
      ],
      "text/plain": [
       "<graphviz.graphs.Digraph at 0x7fe52a459370>"
      ]
     },
     "execution_count": 20,
     "metadata": {},
     "output_type": "execute_result"
    }
   ],
   "source": [
    "make_dot(adj, labels=adj.columns.tolist(), lower_limit=0.0)"
   ]
  },
  {
   "cell_type": "markdown",
   "id": "9d69ed32-e005-4bbc-8c7e-4539f13032cf",
   "metadata": {},
   "source": [
    "By comparing it to the true causal graph, we can see that the extra edge is no longer estimated.\n",
    "\n",
    "Fitting indices is as follows:"
   ]
  },
  {
   "cell_type": "code",
   "execution_count": 21,
   "id": "7bf55ef5-fcfa-435f-abe1-2e00e6ea5be5",
   "metadata": {
    "tags": []
   },
   "outputs": [
    {
     "data": {
      "text/html": [
       "<div>\n",
       "<style scoped>\n",
       "    .dataframe tbody tr th:only-of-type {\n",
       "        vertical-align: middle;\n",
       "    }\n",
       "\n",
       "    .dataframe tbody tr th {\n",
       "        vertical-align: top;\n",
       "    }\n",
       "\n",
       "    .dataframe thead th {\n",
       "        text-align: right;\n",
       "    }\n",
       "</style>\n",
       "<table border=\"1\" class=\"dataframe\">\n",
       "  <thead>\n",
       "    <tr style=\"text-align: right;\">\n",
       "      <th></th>\n",
       "      <th>DoF</th>\n",
       "      <th>DoF Baseline</th>\n",
       "      <th>chi2</th>\n",
       "      <th>chi2 p-value</th>\n",
       "      <th>chi2 Baseline</th>\n",
       "      <th>CFI</th>\n",
       "      <th>GFI</th>\n",
       "      <th>AGFI</th>\n",
       "      <th>NFI</th>\n",
       "      <th>TLI</th>\n",
       "      <th>RMSEA</th>\n",
       "      <th>AIC</th>\n",
       "      <th>BIC</th>\n",
       "      <th>LogLik</th>\n",
       "    </tr>\n",
       "  </thead>\n",
       "  <tbody>\n",
       "    <tr>\n",
       "      <th>Value</th>\n",
       "      <td>12</td>\n",
       "      <td>12</td>\n",
       "      <td>5180.221832</td>\n",
       "      <td>0.0</td>\n",
       "      <td>6225.048346</td>\n",
       "      <td>0.168166</td>\n",
       "      <td>0.167842</td>\n",
       "      <td>0.167842</td>\n",
       "      <td>0.167842</td>\n",
       "      <td>0.168166</td>\n",
       "      <td>0.656594</td>\n",
       "      <td>-4.360444</td>\n",
       "      <td>10.362822</td>\n",
       "      <td>5.180222</td>\n",
       "    </tr>\n",
       "  </tbody>\n",
       "</table>\n",
       "</div>"
      ],
      "text/plain": [
       "       DoF  DoF Baseline         chi2  chi2 p-value  chi2 Baseline       CFI  \\\n",
       "Value   12            12  5180.221832           0.0    6225.048346  0.168166   \n",
       "\n",
       "            GFI      AGFI       NFI       TLI     RMSEA       AIC        BIC  \\\n",
       "Value  0.167842  0.167842  0.167842  0.168166  0.656594 -4.360444  10.362822   \n",
       "\n",
       "         LogLik  \n",
       "Value  5.180222  "
      ]
     },
     "execution_count": 21,
     "metadata": {},
     "output_type": "execute_result"
    }
   ],
   "source": [
    "fit_indices2 = calc_fit_indices(adj, X_eval, sink_var_name)\n",
    "fit_indices2"
   ]
  },
  {
   "cell_type": "markdown",
   "id": "27af328c-da68-4450-85ca-166c73519e5e",
   "metadata": {},
   "source": [
    "## Analysis with bootstrapping\n",
    "\n",
    "We perform the same analysis as before with bootstrapping. First, combine the previous analysis into a single function, the run_analysis function, as follows"
   ]
  },
  {
   "cell_type": "code",
   "execution_count": 22,
   "id": "5c3a2351-fc7b-43dc-8c72-4b4e02b2a61d",
   "metadata": {
    "tags": []
   },
   "outputs": [],
   "source": [
    "def run_analysis(X, exog_var_names, endog_var_names, sink_var_name, cd_model=None, sink_model=None):\n",
    "    \"\"\"\n",
    "    X : pandas.DataFrame\n",
    "        That data type must be float or int. Variables of type int are interpreted as discrete.\n",
    "    exog_var_names : list of str\n",
    "        List of names of exogenous variables.\n",
    "    endog_var_names : list of str\n",
    "        List of names of endogenous variables.\n",
    "    sink_var_name : str\n",
    "        Name of the sink variable.\n",
    "    cd_model : object\n",
    "        Instance of LiNGAM model.\n",
    "    sink_model : object\n",
    "        Instance of a model for the sink variable.\n",
    "    \"\"\"\n",
    "    # check X\n",
    "    if not isinstance(X, pd.DataFrame):\n",
    "        raise TypeError(\"X must be padnas.DataFrame.\")\n",
    "    \n",
    "    # check lists of variable names\n",
    "    if len(set(exog_var_names) - set(X.columns)) > 0:\n",
    "        raise ValueError(\"exog_var_names includes unknown variables.\")\n",
    "       \n",
    "    if len(set(endog_var_names) - set(X.columns)) > 0:\n",
    "        raise ValueError(\"endog_var_names includes unknown variables.\")\n",
    "        \n",
    "    if len(set([sink_var_name]) - set(X.columns)) > 0:\n",
    "        raise ValueError(\"sink_var_name is unknown variables.\")\n",
    "\n",
    "    # check cd_model\n",
    "    if cd_model is None:\n",
    "        cd_model = DirectLiNGAM()\n",
    "    else:\n",
    "        if isinstance(cd_model, DirectLiNGAM):\n",
    "            pass\n",
    "        else:\n",
    "            # other models aren't supported.\n",
    "            raise ValueError(\"Unsupported cd_model\")\n",
    "    \n",
    "    # preprocess X\n",
    "    exog_indices = [X.columns.tolist().index(v) for v in exog_var_names]\n",
    "    endog_indices = [X.columns.tolist().index(v) for v in endog_var_names]\n",
    "    sink_index = X.columns.tolist().index(sink_var_name)\n",
    "    \n",
    "    is_discrete = X.dtypes == int\n",
    "    if is_discrete[endog_indices].any():\n",
    "        raise ValueError(\"endog_var_names mustn't be a discrete variable. Convert types of variables specified in endog_var_names.\")\n",
    "    \n",
    "    names = X.columns.tolist()\n",
    "    \n",
    "    X = check_array(X, copy=True)\n",
    "    \n",
    "    if sink_model is None:\n",
    "        if is_discrete[sink_index]:\n",
    "            sink_model = LogisticRegression()\n",
    "        else:\n",
    "            sink_model = LinearRegression()\n",
    "    \n",
    "    # perform causal discovery\n",
    "    X_removed_exog = remove_effect(X, exog_indices)\n",
    "    X_endog = X_removed_exog[:, endog_indices]\n",
    "    \n",
    "    cd_model.fit(X_endog)\n",
    "    \n",
    "    # model for the given sink variable\n",
    "    sink_model.fit(X[:, endog_indices], X[:, sink_index])\n",
    "    sink_coef = sink_model.coef_\n",
    "\n",
    "    # make adjacency matrix for endogenous variabels and a sink variable\n",
    "    adj = np.concatenate([cd_model.adjacency_matrix_, sink_coef])\n",
    "    adj = np.concatenate([adj, np.zeros((len(adj), 1))], axis=1)\n",
    "\n",
    "    cols = [names[i] for i in [*endog_indices, sink_index]]\n",
    "    adj = pd.DataFrame(adj, columns=cols, index=cols)\n",
    "    \n",
    "    return adj"
   ]
  },
  {
   "cell_type": "markdown",
   "id": "d9bd4c1c-af07-4e7a-b863-c7cf7f549385",
   "metadata": {},
   "source": [
    "### Perform bootstrapping"
   ]
  },
  {
   "cell_type": "code",
   "execution_count": 23,
   "id": "47931e8c-e216-4c21-b553-547d363feb8c",
   "metadata": {
    "tags": []
   },
   "outputs": [
    {
     "name": "stdout",
     "output_type": "stream",
     "text": [
      " 99\n",
      "\n"
     ]
    }
   ],
   "source": [
    "# number of bootstrapping\n",
    "n_sampling = 100\n",
    "\n",
    "# number of features\n",
    "n_features = len(endog_var_names) + len([sink_var_name])\n",
    "\n",
    "# container of a result\n",
    "adjs = np.zeros((n_sampling, n_features, n_features))\n",
    "total_effects = np.zeros((n_sampling, n_features, n_features))\n",
    "fit_indices_df = []\n",
    "\n",
    "# perform bootstrapping\n",
    "for i in range(n_sampling):\n",
    "    print(\"\\r\", i, end=\"\")\n",
    "    \n",
    "    X_resampled = resample(X)\n",
    "    \n",
    "    # causal discovery on endogenous variabels and a sink variable\n",
    "    adj = run_analysis(\n",
    "        X_resampled,\n",
    "        exog_var_names,\n",
    "        endog_var_names,\n",
    "        sink_var_name,\n",
    "        sink_model=AdaptiveLogisticRegression()\n",
    "    )\n",
    "    adjs[i] = adj\n",
    "\n",
    "    # calc causal order\n",
    "    dag = nx.from_numpy_array(adj.values.T, create_using=nx.DiGraph)\n",
    "    causal_order = list(nx.topological_sort(dag))\n",
    "\n",
    "    # calc causal effects\n",
    "    for c, from_ in enumerate(causal_order):\n",
    "        for to in causal_order[c + 1 :]:\n",
    "            total_effects[i, to, from_] = calculate_total_effect(\n",
    "                adj.values, from_, to\n",
    "            )\n",
    "    \n",
    "    fit_indices = calc_fit_indices(adj, X_resampled, sink_var_name)\n",
    "    fit_indices_df.append(fit_indices)\n",
    "print(\"\\r\\n\")\n",
    "\n",
    "# store results\n",
    "result = BootstrapResult(adjs, total_effects)\n",
    "\n",
    "fit_indices_df = pd.concat(fit_indices_df)"
   ]
  },
  {
   "cell_type": "markdown",
   "id": "387dcc92-e5d3-447b-9313-a82a31371d54",
   "metadata": {
    "tags": []
   },
   "source": [
    "### Confirm results of a bootstrapping\n",
    "\n",
    "For more information on verifying bootstrap results, refer to [this notebook](https://github.com/cdt15/lingam/blob/master/examples/Bootstrap.ipynb)."
   ]
  },
  {
   "cell_type": "markdown",
   "id": "da3cd08e-d200-4dc6-8b7a-357372bf1308",
   "metadata": {},
   "source": [
    "### Causal Directions"
   ]
  },
  {
   "cell_type": "code",
   "execution_count": 24,
   "id": "767ab5d1-5a13-4ee7-8bea-c1162b0dcd8c",
   "metadata": {
    "tags": []
   },
   "outputs": [
    {
     "name": "stdout",
     "output_type": "stream",
     "text": [
      "x6 <--- x4 (b>0) (100.0%)\n",
      "x6 <--- x5 (b>0) (100.0%)\n",
      "x7 <--- x4 (b>0) (100.0%)\n",
      "x8 <--- x6 (b>0) (100.0%)\n",
      "x8 <--- x7 (b>0) (100.0%)\n",
      "x8 <--- x5 (b<0) (9.0%)\n",
      "x8 <--- x4 (b>0) (2.0%)\n",
      "x7 <--- x5 (b<0) (1.0%)\n"
     ]
    }
   ],
   "source": [
    "# variable names of an estimated adjacency matrix\n",
    "var_names = X_removed_exog.columns.tolist() + [sink_var_name]\n",
    "\n",
    "cdc = result.get_causal_direction_counts(n_directions=8, min_causal_effect=0.01, split_by_causal_effect_sign=True)\n",
    "print_causal_directions(cdc, n_sampling, labels=var_names)"
   ]
  },
  {
   "cell_type": "markdown",
   "id": "36412f03-7690-4fda-aff9-b952ff68a3c4",
   "metadata": {},
   "source": [
    "### Directed Acyclic Graphs"
   ]
  },
  {
   "cell_type": "code",
   "execution_count": 25,
   "id": "32e81183-0e34-4f4f-b4a6-1620e06336e7",
   "metadata": {
    "tags": []
   },
   "outputs": [
    {
     "name": "stdout",
     "output_type": "stream",
     "text": [
      "DAG[0]: 89.0%\n",
      "\tx6 <--- x4 (b>0)\n",
      "\tx6 <--- x5 (b>0)\n",
      "\tx7 <--- x4 (b>0)\n",
      "\tx8 <--- x6 (b>0)\n",
      "\tx8 <--- x7 (b>0)\n",
      "DAG[1]: 8.0%\n",
      "\tx6 <--- x4 (b>0)\n",
      "\tx6 <--- x5 (b>0)\n",
      "\tx7 <--- x4 (b>0)\n",
      "\tx8 <--- x5 (b<0)\n",
      "\tx8 <--- x6 (b>0)\n",
      "\tx8 <--- x7 (b>0)\n",
      "DAG[2]: 2.0%\n",
      "\tx6 <--- x4 (b>0)\n",
      "\tx6 <--- x5 (b>0)\n",
      "\tx7 <--- x4 (b>0)\n",
      "\tx8 <--- x4 (b>0)\n",
      "\tx8 <--- x6 (b>0)\n",
      "\tx8 <--- x7 (b>0)\n"
     ]
    }
   ],
   "source": [
    "dagc = result.get_directed_acyclic_graph_counts(n_dags=3, min_causal_effect=0.01, split_by_causal_effect_sign=True)\n",
    "print_dagc(dagc, n_sampling, labels=var_names)"
   ]
  },
  {
   "cell_type": "markdown",
   "id": "1e57b283-f5ca-445d-9763-8d878560514f",
   "metadata": {},
   "source": [
    "### Bootstrap probability"
   ]
  },
  {
   "cell_type": "code",
   "execution_count": 26,
   "id": "2f44e1a2-a87b-4477-a8ce-c81ef9e19ec5",
   "metadata": {
    "tags": []
   },
   "outputs": [
    {
     "data": {
      "text/plain": [
       "array([[0.  , 0.  , 0.  , 0.  , 0.  ],\n",
       "       [0.  , 0.  , 0.  , 0.  , 0.  ],\n",
       "       [1.  , 1.  , 0.  , 0.  , 0.  ],\n",
       "       [1.  , 0.01, 0.  , 0.  , 0.  ],\n",
       "       [0.02, 0.09, 1.  , 1.  , 0.  ]])"
      ]
     },
     "execution_count": 26,
     "metadata": {},
     "output_type": "execute_result"
    }
   ],
   "source": [
    "prob = result.get_probabilities(min_causal_effect=0.01)\n",
    "prob"
   ]
  },
  {
   "cell_type": "markdown",
   "id": "ca3e7750-973c-4d75-aef5-fdfadec3e217",
   "metadata": {},
   "source": [
    "### Total Causal Effects"
   ]
  },
  {
   "cell_type": "code",
   "execution_count": 27,
   "id": "6febe9d0-1e70-48e0-8301-b15ed5ac692e",
   "metadata": {
    "tags": []
   },
   "outputs": [
    {
     "data": {
      "text/html": [
       "<div>\n",
       "<style scoped>\n",
       "    .dataframe tbody tr th:only-of-type {\n",
       "        vertical-align: middle;\n",
       "    }\n",
       "\n",
       "    .dataframe tbody tr th {\n",
       "        vertical-align: top;\n",
       "    }\n",
       "\n",
       "    .dataframe thead th {\n",
       "        text-align: right;\n",
       "    }\n",
       "</style>\n",
       "<table border=\"1\" class=\"dataframe\">\n",
       "  <thead>\n",
       "    <tr style=\"text-align: right;\">\n",
       "      <th></th>\n",
       "      <th>from</th>\n",
       "      <th>to</th>\n",
       "      <th>effect</th>\n",
       "      <th>probability</th>\n",
       "    </tr>\n",
       "  </thead>\n",
       "  <tbody>\n",
       "    <tr>\n",
       "      <th>0</th>\n",
       "      <td>x4</td>\n",
       "      <td>x6</td>\n",
       "      <td>0.404978</td>\n",
       "      <td>1.00</td>\n",
       "    </tr>\n",
       "    <tr>\n",
       "      <th>1</th>\n",
       "      <td>x5</td>\n",
       "      <td>x6</td>\n",
       "      <td>0.912974</td>\n",
       "      <td>1.00</td>\n",
       "    </tr>\n",
       "    <tr>\n",
       "      <th>2</th>\n",
       "      <td>x4</td>\n",
       "      <td>x7</td>\n",
       "      <td>1.932310</td>\n",
       "      <td>1.00</td>\n",
       "    </tr>\n",
       "    <tr>\n",
       "      <th>3</th>\n",
       "      <td>x4</td>\n",
       "      <td>x8</td>\n",
       "      <td>2.929688</td>\n",
       "      <td>1.00</td>\n",
       "    </tr>\n",
       "    <tr>\n",
       "      <th>4</th>\n",
       "      <td>x5</td>\n",
       "      <td>x8</td>\n",
       "      <td>0.815726</td>\n",
       "      <td>1.00</td>\n",
       "    </tr>\n",
       "    <tr>\n",
       "      <th>5</th>\n",
       "      <td>x6</td>\n",
       "      <td>x8</td>\n",
       "      <td>0.911478</td>\n",
       "      <td>1.00</td>\n",
       "    </tr>\n",
       "    <tr>\n",
       "      <th>6</th>\n",
       "      <td>x7</td>\n",
       "      <td>x8</td>\n",
       "      <td>1.327679</td>\n",
       "      <td>1.00</td>\n",
       "    </tr>\n",
       "    <tr>\n",
       "      <th>7</th>\n",
       "      <td>x5</td>\n",
       "      <td>x7</td>\n",
       "      <td>-0.082208</td>\n",
       "      <td>0.01</td>\n",
       "    </tr>\n",
       "  </tbody>\n",
       "</table>\n",
       "</div>"
      ],
      "text/plain": [
       "  from  to    effect  probability\n",
       "0   x4  x6  0.404978         1.00\n",
       "1   x5  x6  0.912974         1.00\n",
       "2   x4  x7  1.932310         1.00\n",
       "3   x4  x8  2.929688         1.00\n",
       "4   x5  x8  0.815726         1.00\n",
       "5   x6  x8  0.911478         1.00\n",
       "6   x7  x8  1.327679         1.00\n",
       "7   x5  x7 -0.082208         0.01"
      ]
     },
     "metadata": {},
     "output_type": "display_data"
    }
   ],
   "source": [
    "causal_effects = result.get_total_causal_effects(min_causal_effect=0.01)\n",
    "\n",
    "df = pd.DataFrame(causal_effects)\n",
    "df['from'] = df['from'].apply(lambda x : var_names[x])\n",
    "df['to'] = df['to'].apply(lambda x : var_names[x])\n",
    "display(df)"
   ]
  },
  {
   "cell_type": "markdown",
   "id": "a4badbc9-e2d5-47f1-a5d2-b466d8a7881f",
   "metadata": {},
   "source": [
    "### Bootstrap Probability of Path"
   ]
  },
  {
   "cell_type": "code",
   "execution_count": 28,
   "id": "e0690014-6b02-4219-b9f2-a352b41762d1",
   "metadata": {
    "tags": []
   },
   "outputs": [
    {
     "data": {
      "text/markdown": [
       "#### x4→x8"
      ],
      "text/plain": [
       "<IPython.core.display.Markdown object>"
      ]
     },
     "metadata": {},
     "output_type": "display_data"
    },
    {
     "data": {
      "text/html": [
       "<div>\n",
       "<style scoped>\n",
       "    .dataframe tbody tr th:only-of-type {\n",
       "        vertical-align: middle;\n",
       "    }\n",
       "\n",
       "    .dataframe tbody tr th {\n",
       "        vertical-align: top;\n",
       "    }\n",
       "\n",
       "    .dataframe thead th {\n",
       "        text-align: right;\n",
       "    }\n",
       "</style>\n",
       "<table border=\"1\" class=\"dataframe\">\n",
       "  <thead>\n",
       "    <tr style=\"text-align: right;\">\n",
       "      <th></th>\n",
       "      <th>path</th>\n",
       "      <th>effect</th>\n",
       "      <th>probability</th>\n",
       "    </tr>\n",
       "  </thead>\n",
       "  <tbody>\n",
       "    <tr>\n",
       "      <th>0</th>\n",
       "      <td>[x4, x6, x8]</td>\n",
       "      <td>0.370823</td>\n",
       "      <td>1.00</td>\n",
       "    </tr>\n",
       "    <tr>\n",
       "      <th>1</th>\n",
       "      <td>[x4, x7, x8]</td>\n",
       "      <td>2.539992</td>\n",
       "      <td>1.00</td>\n",
       "    </tr>\n",
       "    <tr>\n",
       "      <th>2</th>\n",
       "      <td>[x4, x8]</td>\n",
       "      <td>0.757541</td>\n",
       "      <td>0.02</td>\n",
       "    </tr>\n",
       "  </tbody>\n",
       "</table>\n",
       "</div>"
      ],
      "text/plain": [
       "           path    effect  probability\n",
       "0  [x4, x6, x8]  0.370823         1.00\n",
       "1  [x4, x7, x8]  2.539992         1.00\n",
       "2      [x4, x8]  0.757541         0.02"
      ]
     },
     "execution_count": 28,
     "metadata": {},
     "output_type": "execute_result"
    }
   ],
   "source": [
    "from_var_name = \"x4\"\n",
    "to_var_name = \"x8\"\n",
    "display(Markdown(f\"#### {from_var_name}→{to_var_name}\"))\n",
    "\n",
    "path = result.get_paths(var_names.index(from_var_name), var_names.index(to_var_name))\n",
    "path = pd.DataFrame(path)\n",
    "\n",
    "path[\"path\"] = path[\"path\"].apply(lambda indices: [var_names[i] for i in indices])\n",
    "\n",
    "path"
   ]
  },
  {
   "cell_type": "code",
   "execution_count": null,
   "id": "d4fdbaad-407c-402f-b310-dbbebf7f7d73",
   "metadata": {},
   "outputs": [],
   "source": []
  }
 ],
 "metadata": {
  "kernelspec": {
   "display_name": "Python 3 (ipykernel)",
   "language": "python",
   "name": "python3"
  },
  "language_info": {
   "codemirror_mode": {
    "name": "ipython",
    "version": 3
   },
   "file_extension": ".py",
   "mimetype": "text/x-python",
   "name": "python",
   "nbconvert_exporter": "python",
   "pygments_lexer": "ipython3",
   "version": "3.8.10"
  },
  "widgets": {
   "application/vnd.jupyter.widget-state+json": {
    "state": {},
    "version_major": 2,
    "version_minor": 0
   }
  }
 },
 "nbformat": 4,
 "nbformat_minor": 5
}
