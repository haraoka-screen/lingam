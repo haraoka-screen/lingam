{
 "cells": [
  {
   "cell_type": "code",
   "execution_count": 1,
   "id": "168c68c5-827b-4cce-acaf-1f12a9e18dcc",
   "metadata": {
    "tags": []
   },
   "outputs": [],
   "source": [
    "import numpy as np\n",
    "import pandas as pd\n",
    "\n",
    "from lingam.utils import make_dot\n",
    "from IPython.display import display, Markdown\n",
    "import matplotlib.pyplot as plt\n",
    "\n",
    "from sklearn.dummy import DummyRegressor\n",
    "\n",
    "from lingam.utils import make_dot\n",
    "from lingam import CausalBasedSimulator, CBSILiNGAM, CBSITimeSeriesLiNGAM"
   ]
  },
  {
   "cell_type": "code",
   "execution_count": 2,
   "id": "e4cc7f6b-0d2a-40ac-8c15-80238a3f88cc",
   "metadata": {
    "tags": []
   },
   "outputs": [],
   "source": [
    "size = 1000\n",
    "\n",
    "# k=2\n",
    "B = np.array([\n",
    "[\n",
    "    [0,-0.12,0,0,0],\n",
    "    [0,0,0,0,0],\n",
    "    [-0.41,0.01,0,-0.02,0],\n",
    "    [0.04,-0.22,0,0,0],\n",
    "    [0.15,0,-0.03,0,0],\n",
    "],\n",
    "[\n",
    "    [-0.32,0,0.12,0.32,0],\n",
    "    [0,-0.35,-0.1,-0.46,0.4],\n",
    "    [0,0,0.37,0,0.46],\n",
    "    [-0.38,-0.1,-0.24,0,-0.13],\n",
    "    [0,0,0,0,0],\n",
    "]\n",
    "])\n",
    "\n",
    "e = lambda: np.random.uniform(-np.sqrt(3), np.sqrt(3), size=(n_features, 1))\n",
    "\n",
    "# Xは上ほど古く、下ほど若い\n",
    "# 初期値：1時点前のデータが必要になるので入れておく。\n",
    "n_features = B.shape[1]\n",
    "X = e()\n",
    "\n",
    "# ひとつ前の時刻までのデータを与えると、現在時刻のデータを返す。\n",
    "def x_t(X):\n",
    "    # (I - B_0)^-1\n",
    "    term = np.linalg.pinv(np.eye(n_features) - B[0])\n",
    "    \n",
    "    # Sigma[B_tau @ x(t-tau)] + e(t)\n",
    "    # Bは横につなげて、Xは縦につなげる\n",
    "    # Bの2番目以降を横に連結、Xの最新からBの2番目以降との積をとる部分を縦に連結して、行列の積\n",
    "    term2 = np.hstack(B[1:]) @ np.hstack(X[:, ::-1][:, :len(B) - 1]).reshape(5, 1) + e()\n",
    "\n",
    "    return term @ term2\n",
    "\n",
    "# 各時刻ごとにデータを生成していく\n",
    "for t in range(len(B) - 1, size):\n",
    "    X = np.append(X, x_t(X[:, :t]), axis=1)\n",
    "X = X.T"
   ]
  },
  {
   "cell_type": "code",
   "execution_count": 3,
   "id": "f1403a0f-162b-45ff-884d-6975243eda37",
   "metadata": {
    "tags": []
   },
   "outputs": [
    {
     "data": {
      "text/plain": [
       "array([[ 1.35406632, -1.66798472,  0.25147674, -1.19754301, -0.95824157],\n",
       "       [ 0.66838972, -0.84621439, -1.60313935,  1.14205755,  0.18015703],\n",
       "       [-0.09800562, -1.39713504, -1.59181491, -0.92815775, -1.3874746 ],\n",
       "       ...,\n",
       "       [ 0.90789897, -1.57314124, -1.14411599, -1.58926636,  1.79289129],\n",
       "       [-0.0117506 ,  3.5016838 ,  1.50335034, -2.0677912 ,  0.04757836],\n",
       "       [-1.01115074, -1.74955198,  1.19971802, -1.31002034,  0.07985271]])"
      ]
     },
     "execution_count": 3,
     "metadata": {},
     "output_type": "execute_result"
    }
   ],
   "source": [
    "X"
   ]
  },
  {
   "cell_type": "code",
   "execution_count": 4,
   "id": "0b982351-ae09-477f-9b44-b1e29b449a09",
   "metadata": {
    "tags": []
   },
   "outputs": [
    {
     "data": {
      "text/plain": [
       "array([[[ 0.  , -0.12,  0.  ,  0.  ,  0.  ],\n",
       "        [ 0.  ,  0.  ,  0.  ,  0.  ,  0.  ],\n",
       "        [-0.41,  0.01,  0.  , -0.02,  0.  ],\n",
       "        [ 0.04, -0.22,  0.  ,  0.  ,  0.  ],\n",
       "        [ 0.15,  0.  , -0.03,  0.  ,  0.  ]],\n",
       "\n",
       "       [[-0.32,  0.  ,  0.12,  0.32,  0.  ],\n",
       "        [ 0.  , -0.35, -0.1 , -0.46,  0.4 ],\n",
       "        [ 0.  ,  0.  ,  0.37,  0.  ,  0.46],\n",
       "        [-0.38, -0.1 , -0.24,  0.  , -0.13],\n",
       "        [ 0.  ,  0.  ,  0.  ,  0.  ,  0.  ]]])"
      ]
     },
     "execution_count": 4,
     "metadata": {},
     "output_type": "execute_result"
    }
   ],
   "source": [
    "from sklearn.utils import check_array \n",
    "check_array(B, allow_nd=True)"
   ]
  },
  {
   "cell_type": "markdown",
   "id": "92d2a0d4-380c-4472-9cf8-4b28ce387207",
   "metadata": {},
   "source": [
    "## CBSITimeSeriesLiNGAMの確認"
   ]
  },
  {
   "cell_type": "code",
   "execution_count": 5,
   "id": "c4ff2868-00b6-4a2d-bc9a-1f21deedd1e7",
   "metadata": {
    "tags": []
   },
   "outputs": [],
   "source": [
    "impl = CBSITimeSeriesLiNGAM(X, B)"
   ]
  },
  {
   "cell_type": "code",
   "execution_count": 6,
   "id": "8c5b4a72-0b71-4f9e-b5f2-a1295e151e44",
   "metadata": {
    "tags": []
   },
   "outputs": [
    {
     "data": {
      "text/plain": [
       "1"
      ]
     },
     "execution_count": 6,
     "metadata": {},
     "output_type": "execute_result"
    }
   ],
   "source": [
    "impl._n_lags"
   ]
  },
  {
   "cell_type": "code",
   "execution_count": 7,
   "id": "fd3899b2-4905-4843-9ed8-3907b6bcfc34",
   "metadata": {
    "tags": []
   },
   "outputs": [
    {
     "data": {
      "text/html": [
       "<div>\n",
       "<style scoped>\n",
       "    .dataframe tbody tr th:only-of-type {\n",
       "        vertical-align: middle;\n",
       "    }\n",
       "\n",
       "    .dataframe tbody tr th {\n",
       "        vertical-align: top;\n",
       "    }\n",
       "\n",
       "    .dataframe thead th {\n",
       "        text-align: right;\n",
       "    }\n",
       "</style>\n",
       "<table border=\"1\" class=\"dataframe\">\n",
       "  <thead>\n",
       "    <tr style=\"text-align: right;\">\n",
       "      <th></th>\n",
       "      <th>0[0]</th>\n",
       "      <th>1[0]</th>\n",
       "      <th>2[0]</th>\n",
       "      <th>3[0]</th>\n",
       "      <th>4[0]</th>\n",
       "      <th>0[1]</th>\n",
       "      <th>1[1]</th>\n",
       "      <th>2[1]</th>\n",
       "      <th>3[1]</th>\n",
       "      <th>4[1]</th>\n",
       "    </tr>\n",
       "  </thead>\n",
       "  <tbody>\n",
       "    <tr>\n",
       "      <th>0[0]</th>\n",
       "      <td>0.00</td>\n",
       "      <td>-0.12</td>\n",
       "      <td>0.00</td>\n",
       "      <td>0.00</td>\n",
       "      <td>0.0</td>\n",
       "      <td>-0.32</td>\n",
       "      <td>0.00</td>\n",
       "      <td>0.12</td>\n",
       "      <td>0.32</td>\n",
       "      <td>0.00</td>\n",
       "    </tr>\n",
       "    <tr>\n",
       "      <th>1[0]</th>\n",
       "      <td>0.00</td>\n",
       "      <td>0.00</td>\n",
       "      <td>0.00</td>\n",
       "      <td>0.00</td>\n",
       "      <td>0.0</td>\n",
       "      <td>0.00</td>\n",
       "      <td>-0.35</td>\n",
       "      <td>-0.10</td>\n",
       "      <td>-0.46</td>\n",
       "      <td>0.40</td>\n",
       "    </tr>\n",
       "    <tr>\n",
       "      <th>2[0]</th>\n",
       "      <td>-0.41</td>\n",
       "      <td>0.01</td>\n",
       "      <td>0.00</td>\n",
       "      <td>-0.02</td>\n",
       "      <td>0.0</td>\n",
       "      <td>0.00</td>\n",
       "      <td>0.00</td>\n",
       "      <td>0.37</td>\n",
       "      <td>0.00</td>\n",
       "      <td>0.46</td>\n",
       "    </tr>\n",
       "    <tr>\n",
       "      <th>3[0]</th>\n",
       "      <td>0.04</td>\n",
       "      <td>-0.22</td>\n",
       "      <td>0.00</td>\n",
       "      <td>0.00</td>\n",
       "      <td>0.0</td>\n",
       "      <td>-0.38</td>\n",
       "      <td>-0.10</td>\n",
       "      <td>-0.24</td>\n",
       "      <td>0.00</td>\n",
       "      <td>-0.13</td>\n",
       "    </tr>\n",
       "    <tr>\n",
       "      <th>4[0]</th>\n",
       "      <td>0.15</td>\n",
       "      <td>0.00</td>\n",
       "      <td>-0.03</td>\n",
       "      <td>0.00</td>\n",
       "      <td>0.0</td>\n",
       "      <td>0.00</td>\n",
       "      <td>0.00</td>\n",
       "      <td>0.00</td>\n",
       "      <td>0.00</td>\n",
       "      <td>0.00</td>\n",
       "    </tr>\n",
       "    <tr>\n",
       "      <th>0[1]</th>\n",
       "      <td>0.00</td>\n",
       "      <td>0.00</td>\n",
       "      <td>0.00</td>\n",
       "      <td>0.00</td>\n",
       "      <td>0.0</td>\n",
       "      <td>0.00</td>\n",
       "      <td>0.00</td>\n",
       "      <td>0.00</td>\n",
       "      <td>0.00</td>\n",
       "      <td>0.00</td>\n",
       "    </tr>\n",
       "    <tr>\n",
       "      <th>1[1]</th>\n",
       "      <td>0.00</td>\n",
       "      <td>0.00</td>\n",
       "      <td>0.00</td>\n",
       "      <td>0.00</td>\n",
       "      <td>0.0</td>\n",
       "      <td>0.00</td>\n",
       "      <td>0.00</td>\n",
       "      <td>0.00</td>\n",
       "      <td>0.00</td>\n",
       "      <td>0.00</td>\n",
       "    </tr>\n",
       "    <tr>\n",
       "      <th>2[1]</th>\n",
       "      <td>0.00</td>\n",
       "      <td>0.00</td>\n",
       "      <td>0.00</td>\n",
       "      <td>0.00</td>\n",
       "      <td>0.0</td>\n",
       "      <td>0.00</td>\n",
       "      <td>0.00</td>\n",
       "      <td>0.00</td>\n",
       "      <td>0.00</td>\n",
       "      <td>0.00</td>\n",
       "    </tr>\n",
       "    <tr>\n",
       "      <th>3[1]</th>\n",
       "      <td>0.00</td>\n",
       "      <td>0.00</td>\n",
       "      <td>0.00</td>\n",
       "      <td>0.00</td>\n",
       "      <td>0.0</td>\n",
       "      <td>0.00</td>\n",
       "      <td>0.00</td>\n",
       "      <td>0.00</td>\n",
       "      <td>0.00</td>\n",
       "      <td>0.00</td>\n",
       "    </tr>\n",
       "    <tr>\n",
       "      <th>4[1]</th>\n",
       "      <td>0.00</td>\n",
       "      <td>0.00</td>\n",
       "      <td>0.00</td>\n",
       "      <td>0.00</td>\n",
       "      <td>0.0</td>\n",
       "      <td>0.00</td>\n",
       "      <td>0.00</td>\n",
       "      <td>0.00</td>\n",
       "      <td>0.00</td>\n",
       "      <td>0.00</td>\n",
       "    </tr>\n",
       "  </tbody>\n",
       "</table>\n",
       "</div>"
      ],
      "text/plain": [
       "      0[0]  1[0]  2[0]  3[0]  4[0]  0[1]  1[1]  2[1]  3[1]  4[1]\n",
       "0[0]  0.00 -0.12  0.00  0.00   0.0 -0.32  0.00  0.12  0.32  0.00\n",
       "1[0]  0.00  0.00  0.00  0.00   0.0  0.00 -0.35 -0.10 -0.46  0.40\n",
       "2[0] -0.41  0.01  0.00 -0.02   0.0  0.00  0.00  0.37  0.00  0.46\n",
       "3[0]  0.04 -0.22  0.00  0.00   0.0 -0.38 -0.10 -0.24  0.00 -0.13\n",
       "4[0]  0.15  0.00 -0.03  0.00   0.0  0.00  0.00  0.00  0.00  0.00\n",
       "0[1]  0.00  0.00  0.00  0.00   0.0  0.00  0.00  0.00  0.00  0.00\n",
       "1[1]  0.00  0.00  0.00  0.00   0.0  0.00  0.00  0.00  0.00  0.00\n",
       "2[1]  0.00  0.00  0.00  0.00   0.0  0.00  0.00  0.00  0.00  0.00\n",
       "3[1]  0.00  0.00  0.00  0.00   0.0  0.00  0.00  0.00  0.00  0.00\n",
       "4[1]  0.00  0.00  0.00  0.00   0.0  0.00  0.00  0.00  0.00  0.00"
      ]
     },
     "execution_count": 7,
     "metadata": {},
     "output_type": "execute_result"
    }
   ],
   "source": [
    "# ラグ側へのエッジやラグ内でのエッジは作らない形でひとつの隣接行列化している。\n",
    "pd.DataFrame(\n",
    "    impl._causal_graph,\n",
    "    columns=impl._endog_names,\n",
    "    index=impl._endog_names\n",
    ")"
   ]
  },
  {
   "cell_type": "code",
   "execution_count": 8,
   "id": "e6b06bd5-ff48-4e6f-becb-bef07d5dc486",
   "metadata": {
    "tags": []
   },
   "outputs": [
    {
     "data": {
      "image/svg+xml": [
       "<?xml version=\"1.0\" encoding=\"UTF-8\" standalone=\"no\"?>\n",
       "<!DOCTYPE svg PUBLIC \"-//W3C//DTD SVG 1.1//EN\"\n",
       " \"http://www.w3.org/Graphics/SVG/1.1/DTD/svg11.dtd\">\n",
       "<!-- Generated by graphviz version 2.43.0 (0)\n",
       " -->\n",
       "<!-- Title: %3 Pages: 1 -->\n",
       "<svg width=\"548pt\" height=\"479pt\"\n",
       " viewBox=\"0.00 0.00 548.00 479.00\" xmlns=\"http://www.w3.org/2000/svg\" xmlns:xlink=\"http://www.w3.org/1999/xlink\">\n",
       "<g id=\"graph0\" class=\"graph\" transform=\"scale(1 1) rotate(0) translate(4 475)\">\n",
       "<title>%3</title>\n",
       "<polygon fill=\"white\" stroke=\"transparent\" points=\"-4,4 -4,-475 544,-475 544,4 -4,4\"/>\n",
       "<!-- 0[0] -->\n",
       "<g id=\"node1\" class=\"node\">\n",
       "<title>0[0]</title>\n",
       "<ellipse fill=\"none\" stroke=\"black\" cx=\"116\" cy=\"-279\" rx=\"29.5\" ry=\"18\"/>\n",
       "<text text-anchor=\"middle\" x=\"116\" y=\"-275.3\" font-family=\"Times,serif\" font-size=\"14.00\">0[0]</text>\n",
       "</g>\n",
       "<!-- 2[0] -->\n",
       "<g id=\"node3\" class=\"node\">\n",
       "<title>2[0]</title>\n",
       "<ellipse fill=\"none\" stroke=\"black\" cx=\"116\" cy=\"-105\" rx=\"29.5\" ry=\"18\"/>\n",
       "<text text-anchor=\"middle\" x=\"116\" y=\"-101.3\" font-family=\"Times,serif\" font-size=\"14.00\">2[0]</text>\n",
       "</g>\n",
       "<!-- 0[0]&#45;&gt;2[0] -->\n",
       "<g id=\"edge9\" class=\"edge\">\n",
       "<title>0[0]&#45;&gt;2[0]</title>\n",
       "<path fill=\"none\" stroke=\"black\" d=\"M116,-260.88C116,-231 116,-169.11 116,-133.27\"/>\n",
       "<polygon fill=\"black\" stroke=\"black\" points=\"119.5,-133.05 116,-123.05 112.5,-133.05 119.5,-133.05\"/>\n",
       "<text text-anchor=\"middle\" x=\"134.5\" y=\"-188.3\" font-family=\"Times,serif\" font-size=\"14.00\">&#45;0.41</text>\n",
       "</g>\n",
       "<!-- 3[0] -->\n",
       "<g id=\"node4\" class=\"node\">\n",
       "<title>3[0]</title>\n",
       "<ellipse fill=\"none\" stroke=\"black\" cx=\"272\" cy=\"-192\" rx=\"29.5\" ry=\"18\"/>\n",
       "<text text-anchor=\"middle\" x=\"272\" y=\"-188.3\" font-family=\"Times,serif\" font-size=\"14.00\">3[0]</text>\n",
       "</g>\n",
       "<!-- 0[0]&#45;&gt;3[0] -->\n",
       "<g id=\"edge13\" class=\"edge\">\n",
       "<title>0[0]&#45;&gt;3[0]</title>\n",
       "<path fill=\"none\" stroke=\"black\" d=\"M124.55,-261.36C130.99,-250.4 140.78,-236.54 153,-228 176.79,-211.38 208.5,-202.56 233.21,-197.93\"/>\n",
       "<polygon fill=\"black\" stroke=\"black\" points=\"234.06,-201.34 243.33,-196.19 232.88,-194.44 234.06,-201.34\"/>\n",
       "<text text-anchor=\"middle\" x=\"169\" y=\"-231.8\" font-family=\"Times,serif\" font-size=\"14.00\">0.04</text>\n",
       "</g>\n",
       "<!-- 4[0] -->\n",
       "<g id=\"node5\" class=\"node\">\n",
       "<title>4[0]</title>\n",
       "<ellipse fill=\"none\" stroke=\"black\" cx=\"54\" cy=\"-18\" rx=\"29.5\" ry=\"18\"/>\n",
       "<text text-anchor=\"middle\" x=\"54\" y=\"-14.3\" font-family=\"Times,serif\" font-size=\"14.00\">4[0]</text>\n",
       "</g>\n",
       "<!-- 0[0]&#45;&gt;4[0] -->\n",
       "<g id=\"edge19\" class=\"edge\">\n",
       "<title>0[0]&#45;&gt;4[0]</title>\n",
       "<path fill=\"none\" stroke=\"black\" d=\"M110.46,-261.17C102.88,-237.77 89.19,-193.99 80,-156 70.86,-118.19 62.95,-73.88 58.33,-46.12\"/>\n",
       "<polygon fill=\"black\" stroke=\"black\" points=\"61.74,-45.29 56.67,-35.99 54.83,-46.42 61.74,-45.29\"/>\n",
       "<text text-anchor=\"middle\" x=\"96\" y=\"-144.8\" font-family=\"Times,serif\" font-size=\"14.00\">0.15</text>\n",
       "</g>\n",
       "<!-- 1[0] -->\n",
       "<g id=\"node2\" class=\"node\">\n",
       "<title>1[0]</title>\n",
       "<ellipse fill=\"none\" stroke=\"black\" cx=\"199\" cy=\"-366\" rx=\"29.5\" ry=\"18\"/>\n",
       "<text text-anchor=\"middle\" x=\"199\" y=\"-362.3\" font-family=\"Times,serif\" font-size=\"14.00\">1[0]</text>\n",
       "</g>\n",
       "<!-- 1[0]&#45;&gt;0[0] -->\n",
       "<g id=\"edge1\" class=\"edge\">\n",
       "<title>1[0]&#45;&gt;0[0]</title>\n",
       "<path fill=\"none\" stroke=\"black\" d=\"M177.95,-353.23C168.14,-347.11 156.74,-339.03 148,-330 140.94,-322.71 134.59,-313.64 129.43,-305.23\"/>\n",
       "<polygon fill=\"black\" stroke=\"black\" points=\"132.39,-303.36 124.33,-296.48 126.34,-306.89 132.39,-303.36\"/>\n",
       "<text text-anchor=\"middle\" x=\"166.5\" y=\"-318.8\" font-family=\"Times,serif\" font-size=\"14.00\">&#45;0.12</text>\n",
       "</g>\n",
       "<!-- 1[0]&#45;&gt;3[0] -->\n",
       "<g id=\"edge14\" class=\"edge\">\n",
       "<title>1[0]&#45;&gt;3[0]</title>\n",
       "<path fill=\"none\" stroke=\"black\" d=\"M203.45,-347.77C206.05,-338.08 209.49,-325.8 213,-315 220.9,-290.66 222.15,-284.18 233,-261 239.92,-246.22 248.91,-230.37 256.52,-217.69\"/>\n",
       "<polygon fill=\"black\" stroke=\"black\" points=\"259.55,-219.44 261.76,-209.08 253.57,-215.8 259.55,-219.44\"/>\n",
       "<text text-anchor=\"middle\" x=\"251.5\" y=\"-275.3\" font-family=\"Times,serif\" font-size=\"14.00\">&#45;0.22</text>\n",
       "</g>\n",
       "<!-- 2[0]&#45;&gt;4[0] -->\n",
       "<g id=\"edge20\" class=\"edge\">\n",
       "<title>2[0]&#45;&gt;4[0]</title>\n",
       "<path fill=\"none\" stroke=\"black\" d=\"M104.63,-88.41C95.34,-75.67 82.04,-57.45 71.41,-42.87\"/>\n",
       "<polygon fill=\"black\" stroke=\"black\" points=\"74.23,-40.8 65.51,-34.78 68.57,-44.92 74.23,-40.8\"/>\n",
       "<text text-anchor=\"middle\" x=\"106.5\" y=\"-57.8\" font-family=\"Times,serif\" font-size=\"14.00\">&#45;0.03</text>\n",
       "</g>\n",
       "<!-- 3[0]&#45;&gt;2[0] -->\n",
       "<g id=\"edge10\" class=\"edge\">\n",
       "<title>3[0]&#45;&gt;2[0]</title>\n",
       "<path fill=\"none\" stroke=\"black\" d=\"M250.64,-179.36C223.56,-164.61 176.74,-139.1 146.07,-122.38\"/>\n",
       "<polygon fill=\"black\" stroke=\"black\" points=\"147.56,-119.21 137.11,-117.5 144.21,-125.36 147.56,-119.21\"/>\n",
       "<text text-anchor=\"middle\" x=\"221.5\" y=\"-144.8\" font-family=\"Times,serif\" font-size=\"14.00\">&#45;0.02</text>\n",
       "</g>\n",
       "<!-- 0[1] -->\n",
       "<g id=\"node6\" class=\"node\">\n",
       "<title>0[1]</title>\n",
       "<ellipse fill=\"none\" stroke=\"black\" cx=\"277\" cy=\"-366\" rx=\"29.5\" ry=\"18\"/>\n",
       "<text text-anchor=\"middle\" x=\"277\" y=\"-362.3\" font-family=\"Times,serif\" font-size=\"14.00\">0[1]</text>\n",
       "</g>\n",
       "<!-- 0[1]&#45;&gt;0[0] -->\n",
       "<g id=\"edge2\" class=\"edge\">\n",
       "<title>0[1]&#45;&gt;0[0]</title>\n",
       "<path fill=\"none\" stroke=\"black\" d=\"M256.6,-352.87C238.9,-342.48 212.51,-327.3 189,-315 175.8,-308.1 161.02,-300.91 148.23,-294.86\"/>\n",
       "<polygon fill=\"black\" stroke=\"black\" points=\"149.43,-291.56 138.89,-290.48 146.46,-297.89 149.43,-291.56\"/>\n",
       "<text text-anchor=\"middle\" x=\"233.5\" y=\"-318.8\" font-family=\"Times,serif\" font-size=\"14.00\">&#45;0.32</text>\n",
       "</g>\n",
       "<!-- 0[1]&#45;&gt;3[0] -->\n",
       "<g id=\"edge15\" class=\"edge\">\n",
       "<title>0[1]&#45;&gt;3[0]</title>\n",
       "<path fill=\"none\" stroke=\"black\" d=\"M276.5,-347.88C275.63,-318 273.83,-256.11 272.79,-220.27\"/>\n",
       "<polygon fill=\"black\" stroke=\"black\" points=\"276.28,-219.95 272.5,-210.05 269.29,-220.15 276.28,-219.95\"/>\n",
       "<text text-anchor=\"middle\" x=\"292.5\" y=\"-275.3\" font-family=\"Times,serif\" font-size=\"14.00\">&#45;0.38</text>\n",
       "</g>\n",
       "<!-- 1[1] -->\n",
       "<g id=\"node7\" class=\"node\">\n",
       "<title>1[1]</title>\n",
       "<ellipse fill=\"none\" stroke=\"black\" cx=\"338\" cy=\"-453\" rx=\"29.5\" ry=\"18\"/>\n",
       "<text text-anchor=\"middle\" x=\"338\" y=\"-449.3\" font-family=\"Times,serif\" font-size=\"14.00\">1[1]</text>\n",
       "</g>\n",
       "<!-- 1[1]&#45;&gt;1[0] -->\n",
       "<g id=\"edge5\" class=\"edge\">\n",
       "<title>1[1]&#45;&gt;1[0]</title>\n",
       "<path fill=\"none\" stroke=\"black\" d=\"M317.79,-439.64C294.11,-425.16 254.71,-401.07 227.83,-384.63\"/>\n",
       "<polygon fill=\"black\" stroke=\"black\" points=\"229.59,-381.61 219.24,-379.37 225.94,-387.58 229.59,-381.61\"/>\n",
       "<text text-anchor=\"middle\" x=\"294.5\" y=\"-405.8\" font-family=\"Times,serif\" font-size=\"14.00\">&#45;0.35</text>\n",
       "</g>\n",
       "<!-- 1[1]&#45;&gt;3[0] -->\n",
       "<g id=\"edge16\" class=\"edge\">\n",
       "<title>1[1]&#45;&gt;3[0]</title>\n",
       "<path fill=\"none\" stroke=\"black\" d=\"M360.54,-441.21C369.91,-435.44 379.8,-427.36 385,-417 392.24,-402.58 400.82,-452.88 374,-315 366.36,-275.74 376.95,-258.43 351,-228 340.22,-215.36 323.98,-207.11 309.03,-201.81\"/>\n",
       "<polygon fill=\"black\" stroke=\"black\" points=\"310.05,-198.46 299.46,-198.74 307.91,-205.13 310.05,-198.46\"/>\n",
       "<text text-anchor=\"middle\" x=\"394.5\" y=\"-318.8\" font-family=\"Times,serif\" font-size=\"14.00\">&#45;0.10</text>\n",
       "</g>\n",
       "<!-- 2[1] -->\n",
       "<g id=\"node8\" class=\"node\">\n",
       "<title>2[1]</title>\n",
       "<ellipse fill=\"none\" stroke=\"black\" cx=\"68\" cy=\"-453\" rx=\"29.5\" ry=\"18\"/>\n",
       "<text text-anchor=\"middle\" x=\"68\" y=\"-449.3\" font-family=\"Times,serif\" font-size=\"14.00\">2[1]</text>\n",
       "</g>\n",
       "<!-- 2[1]&#45;&gt;0[0] -->\n",
       "<g id=\"edge3\" class=\"edge\">\n",
       "<title>2[1]&#45;&gt;0[0]</title>\n",
       "<path fill=\"none\" stroke=\"black\" d=\"M62.58,-435.23C56.71,-414.19 49.48,-377.32 60,-348 66.46,-330 79.97,-313.36 92.1,-301.05\"/>\n",
       "<polygon fill=\"black\" stroke=\"black\" points=\"94.66,-303.44 99.4,-293.96 89.79,-298.41 94.66,-303.44\"/>\n",
       "<text text-anchor=\"middle\" x=\"76\" y=\"-362.3\" font-family=\"Times,serif\" font-size=\"14.00\">0.12</text>\n",
       "</g>\n",
       "<!-- 2[1]&#45;&gt;1[0] -->\n",
       "<g id=\"edge6\" class=\"edge\">\n",
       "<title>2[1]&#45;&gt;1[0]</title>\n",
       "<path fill=\"none\" stroke=\"black\" d=\"M87.33,-439.46C109.48,-425.08 145.98,-401.4 171.19,-385.05\"/>\n",
       "<polygon fill=\"black\" stroke=\"black\" points=\"173.11,-387.97 179.59,-379.59 169.3,-382.1 173.11,-387.97\"/>\n",
       "<text text-anchor=\"middle\" x=\"159.5\" y=\"-405.8\" font-family=\"Times,serif\" font-size=\"14.00\">&#45;0.10</text>\n",
       "</g>\n",
       "<!-- 2[1]&#45;&gt;2[0] -->\n",
       "<g id=\"edge11\" class=\"edge\">\n",
       "<title>2[1]&#45;&gt;2[0]</title>\n",
       "<path fill=\"none\" stroke=\"black\" d=\"M48.33,-439.23C28.25,-424.48 0,-398.18 0,-367 0,-367 0,-367 0,-234.5 0,-187.46 39.49,-190.93 71,-156 79.03,-147.1 87.85,-137.31 95.54,-128.76\"/>\n",
       "<polygon fill=\"black\" stroke=\"black\" points=\"98.14,-131.1 102.22,-121.33 92.93,-126.42 98.14,-131.1\"/>\n",
       "<text text-anchor=\"middle\" x=\"16\" y=\"-275.3\" font-family=\"Times,serif\" font-size=\"14.00\">0.37</text>\n",
       "</g>\n",
       "<!-- 2[1]&#45;&gt;3[0] -->\n",
       "<g id=\"edge17\" class=\"edge\">\n",
       "<title>2[1]&#45;&gt;3[0]</title>\n",
       "<path fill=\"none\" stroke=\"black\" d=\"M95.39,-446.16C110.84,-442.87 130.49,-438.69 148,-435 186.21,-426.94 196.65,-428.41 234,-417 236.32,-416.29 313.64,-386.02 315,-384 345.5,-338.63 330.21,-313.51 315,-261 310.3,-244.76 300.42,-228.67 291.32,-216.22\"/>\n",
       "<polygon fill=\"black\" stroke=\"black\" points=\"294.07,-214.05 285.22,-208.23 288.51,-218.3 294.07,-214.05\"/>\n",
       "<text text-anchor=\"middle\" x=\"350.5\" y=\"-318.8\" font-family=\"Times,serif\" font-size=\"14.00\">&#45;0.24</text>\n",
       "</g>\n",
       "<!-- 3[1] -->\n",
       "<g id=\"node9\" class=\"node\">\n",
       "<title>3[1]</title>\n",
       "<ellipse fill=\"none\" stroke=\"black\" cx=\"186\" cy=\"-453\" rx=\"29.5\" ry=\"18\"/>\n",
       "<text text-anchor=\"middle\" x=\"186\" y=\"-449.3\" font-family=\"Times,serif\" font-size=\"14.00\">3[1]</text>\n",
       "</g>\n",
       "<!-- 3[1]&#45;&gt;0[0] -->\n",
       "<g id=\"edge4\" class=\"edge\">\n",
       "<title>3[1]&#45;&gt;0[0]</title>\n",
       "<path fill=\"none\" stroke=\"black\" d=\"M161.2,-443.28C149.12,-437.69 135.59,-429.17 128,-417 107.18,-383.62 108.19,-336.46 111.55,-307.08\"/>\n",
       "<polygon fill=\"black\" stroke=\"black\" points=\"115.03,-307.49 112.86,-297.12 108.09,-306.58 115.03,-307.49\"/>\n",
       "<text text-anchor=\"middle\" x=\"130\" y=\"-362.3\" font-family=\"Times,serif\" font-size=\"14.00\">0.32</text>\n",
       "</g>\n",
       "<!-- 3[1]&#45;&gt;1[0] -->\n",
       "<g id=\"edge7\" class=\"edge\">\n",
       "<title>3[1]&#45;&gt;1[0]</title>\n",
       "<path fill=\"none\" stroke=\"black\" d=\"M188.63,-434.8C190.41,-423.16 192.8,-407.55 194.83,-394.24\"/>\n",
       "<polygon fill=\"black\" stroke=\"black\" points=\"198.32,-394.59 196.37,-384.18 191.4,-393.53 198.32,-394.59\"/>\n",
       "<text text-anchor=\"middle\" x=\"211.5\" y=\"-405.8\" font-family=\"Times,serif\" font-size=\"14.00\">&#45;0.46</text>\n",
       "</g>\n",
       "<!-- 4[1] -->\n",
       "<g id=\"node10\" class=\"node\">\n",
       "<title>4[1]</title>\n",
       "<ellipse fill=\"none\" stroke=\"black\" cx=\"456\" cy=\"-453\" rx=\"29.5\" ry=\"18\"/>\n",
       "<text text-anchor=\"middle\" x=\"456\" y=\"-449.3\" font-family=\"Times,serif\" font-size=\"14.00\">4[1]</text>\n",
       "</g>\n",
       "<!-- 4[1]&#45;&gt;1[0] -->\n",
       "<g id=\"edge8\" class=\"edge\">\n",
       "<title>4[1]&#45;&gt;1[0]</title>\n",
       "<path fill=\"none\" stroke=\"black\" d=\"M432.18,-442.45C404.72,-431.68 358.09,-414.08 317,-402 282.87,-391.96 272.83,-395 239,-384 236.55,-383.2 234.04,-382.32 231.54,-381.38\"/>\n",
       "<polygon fill=\"black\" stroke=\"black\" points=\"232.59,-378.03 222,-377.59 230,-384.54 232.59,-378.03\"/>\n",
       "<text text-anchor=\"middle\" x=\"379\" y=\"-405.8\" font-family=\"Times,serif\" font-size=\"14.00\">0.40</text>\n",
       "</g>\n",
       "<!-- 4[1]&#45;&gt;2[0] -->\n",
       "<g id=\"edge12\" class=\"edge\">\n",
       "<title>4[1]&#45;&gt;2[0]</title>\n",
       "<path fill=\"none\" stroke=\"black\" d=\"M471.6,-437.66C486.92,-421.95 508,-395.2 508,-367 508,-367 508,-367 508,-191 508,-119.44 255.37,-108 155.73,-106.26\"/>\n",
       "<polygon fill=\"black\" stroke=\"black\" points=\"155.51,-102.76 145.46,-106.11 155.41,-109.76 155.51,-102.76\"/>\n",
       "<text text-anchor=\"middle\" x=\"524\" y=\"-275.3\" font-family=\"Times,serif\" font-size=\"14.00\">0.46</text>\n",
       "</g>\n",
       "<!-- 4[1]&#45;&gt;3[0] -->\n",
       "<g id=\"edge18\" class=\"edge\">\n",
       "<title>4[1]&#45;&gt;3[0]</title>\n",
       "<path fill=\"none\" stroke=\"black\" d=\"M454.78,-434.88C450.81,-392.73 434.49,-283.34 370,-228 353.07,-213.47 329.67,-204.82 309.99,-199.75\"/>\n",
       "<polygon fill=\"black\" stroke=\"black\" points=\"310.62,-196.3 300.08,-197.41 309.01,-203.11 310.62,-196.3\"/>\n",
       "<text text-anchor=\"middle\" x=\"450.5\" y=\"-318.8\" font-family=\"Times,serif\" font-size=\"14.00\">&#45;0.13</text>\n",
       "</g>\n",
       "</g>\n",
       "</svg>\n"
      ],
      "text/plain": [
       "<graphviz.graphs.Digraph at 0x7f81abadf520>"
      ]
     },
     "execution_count": 8,
     "metadata": {},
     "output_type": "execute_result"
    }
   ],
   "source": [
    "make_dot(impl._causal_graph, labels=impl._endog_names)"
   ]
  },
  {
   "cell_type": "code",
   "execution_count": 9,
   "id": "46092935-4b65-4a77-9a27-7165f083bc11",
   "metadata": {
    "tags": []
   },
   "outputs": [
    {
     "name": "stdout",
     "output_type": "stream",
     "text": [
      "(999, 10)\n"
     ]
    },
    {
     "data": {
      "text/html": [
       "<div>\n",
       "<style scoped>\n",
       "    .dataframe tbody tr th:only-of-type {\n",
       "        vertical-align: middle;\n",
       "    }\n",
       "\n",
       "    .dataframe tbody tr th {\n",
       "        vertical-align: top;\n",
       "    }\n",
       "\n",
       "    .dataframe thead th {\n",
       "        text-align: right;\n",
       "    }\n",
       "</style>\n",
       "<table border=\"1\" class=\"dataframe\">\n",
       "  <thead>\n",
       "    <tr style=\"text-align: right;\">\n",
       "      <th></th>\n",
       "      <th>0[0]</th>\n",
       "      <th>1[0]</th>\n",
       "      <th>2[0]</th>\n",
       "      <th>3[0]</th>\n",
       "      <th>4[0]</th>\n",
       "      <th>0[1]</th>\n",
       "      <th>1[1]</th>\n",
       "      <th>2[1]</th>\n",
       "      <th>3[1]</th>\n",
       "      <th>4[1]</th>\n",
       "    </tr>\n",
       "  </thead>\n",
       "  <tbody>\n",
       "    <tr>\n",
       "      <th>0</th>\n",
       "      <td>0.668390</td>\n",
       "      <td>-0.846214</td>\n",
       "      <td>-1.603139</td>\n",
       "      <td>1.142058</td>\n",
       "      <td>0.180157</td>\n",
       "      <td>1.354066</td>\n",
       "      <td>-1.667985</td>\n",
       "      <td>0.251477</td>\n",
       "      <td>-1.197543</td>\n",
       "      <td>-0.958242</td>\n",
       "    </tr>\n",
       "    <tr>\n",
       "      <th>1</th>\n",
       "      <td>-0.098006</td>\n",
       "      <td>-1.397135</td>\n",
       "      <td>-1.591815</td>\n",
       "      <td>-0.928158</td>\n",
       "      <td>-1.387475</td>\n",
       "      <td>0.668390</td>\n",
       "      <td>-0.846214</td>\n",
       "      <td>-1.603139</td>\n",
       "      <td>1.142058</td>\n",
       "      <td>0.180157</td>\n",
       "    </tr>\n",
       "    <tr>\n",
       "      <th>2</th>\n",
       "      <td>0.504992</td>\n",
       "      <td>0.200019</td>\n",
       "      <td>-2.681989</td>\n",
       "      <td>0.564045</td>\n",
       "      <td>0.870505</td>\n",
       "      <td>-0.098006</td>\n",
       "      <td>-1.397135</td>\n",
       "      <td>-1.591815</td>\n",
       "      <td>-0.928158</td>\n",
       "      <td>-1.387475</td>\n",
       "    </tr>\n",
       "  </tbody>\n",
       "</table>\n",
       "</div>"
      ],
      "text/plain": [
       "       0[0]      1[0]      2[0]      3[0]      4[0]      0[1]      1[1]  \\\n",
       "0  0.668390 -0.846214 -1.603139  1.142058  0.180157  1.354066 -1.667985   \n",
       "1 -0.098006 -1.397135 -1.591815 -0.928158 -1.387475  0.668390 -0.846214   \n",
       "2  0.504992  0.200019 -2.681989  0.564045  0.870505 -0.098006 -1.397135   \n",
       "\n",
       "       2[1]      3[1]      4[1]  \n",
       "0  0.251477 -1.197543 -0.958242  \n",
       "1 -1.603139  1.142058  0.180157  \n",
       "2 -1.591815 -0.928158 -1.387475  "
      ]
     },
     "execution_count": 9,
     "metadata": {},
     "output_type": "execute_result"
    }
   ],
   "source": [
    "d = impl.get_data(impl._endog_names)\n",
    "\n",
    "# ラグ分だけサンプルが減る\n",
    "print(d.shape)\n",
    "\n",
    "# 先頭3行\n",
    "pd.DataFrame(d[:3], columns=impl._endog_names)"
   ]
  },
  {
   "cell_type": "code",
   "execution_count": 10,
   "id": "6e46d7d4-c0ce-4ef3-94d4-ddc79301cce9",
   "metadata": {
    "tags": []
   },
   "outputs": [
    {
     "data": {
      "text/html": [
       "<div>\n",
       "<style scoped>\n",
       "    .dataframe tbody tr th:only-of-type {\n",
       "        vertical-align: middle;\n",
       "    }\n",
       "\n",
       "    .dataframe tbody tr th {\n",
       "        vertical-align: top;\n",
       "    }\n",
       "\n",
       "    .dataframe thead th {\n",
       "        text-align: right;\n",
       "    }\n",
       "</style>\n",
       "<table border=\"1\" class=\"dataframe\">\n",
       "  <thead>\n",
       "    <tr style=\"text-align: right;\">\n",
       "      <th></th>\n",
       "      <th>0</th>\n",
       "      <th>1</th>\n",
       "      <th>2</th>\n",
       "      <th>3</th>\n",
       "      <th>4</th>\n",
       "    </tr>\n",
       "  </thead>\n",
       "  <tbody>\n",
       "    <tr>\n",
       "      <th>0</th>\n",
       "      <td>1.354066</td>\n",
       "      <td>-1.667985</td>\n",
       "      <td>0.251477</td>\n",
       "      <td>-1.197543</td>\n",
       "      <td>-0.958242</td>\n",
       "    </tr>\n",
       "    <tr>\n",
       "      <th>1</th>\n",
       "      <td>0.668390</td>\n",
       "      <td>-0.846214</td>\n",
       "      <td>-1.603139</td>\n",
       "      <td>1.142058</td>\n",
       "      <td>0.180157</td>\n",
       "    </tr>\n",
       "    <tr>\n",
       "      <th>2</th>\n",
       "      <td>-0.098006</td>\n",
       "      <td>-1.397135</td>\n",
       "      <td>-1.591815</td>\n",
       "      <td>-0.928158</td>\n",
       "      <td>-1.387475</td>\n",
       "    </tr>\n",
       "    <tr>\n",
       "      <th>3</th>\n",
       "      <td>0.504992</td>\n",
       "      <td>0.200019</td>\n",
       "      <td>-2.681989</td>\n",
       "      <td>0.564045</td>\n",
       "      <td>0.870505</td>\n",
       "    </tr>\n",
       "    <tr>\n",
       "      <th>4</th>\n",
       "      <td>0.526685</td>\n",
       "      <td>1.858130</td>\n",
       "      <td>-0.468167</td>\n",
       "      <td>0.446844</td>\n",
       "      <td>1.256343</td>\n",
       "    </tr>\n",
       "  </tbody>\n",
       "</table>\n",
       "</div>"
      ],
      "text/plain": [
       "          0         1         2         3         4\n",
       "0  1.354066 -1.667985  0.251477 -1.197543 -0.958242\n",
       "1  0.668390 -0.846214 -1.603139  1.142058  0.180157\n",
       "2 -0.098006 -1.397135 -1.591815 -0.928158 -1.387475\n",
       "3  0.504992  0.200019 -2.681989  0.564045  0.870505\n",
       "4  0.526685  1.858130 -0.468167  0.446844  1.256343"
      ]
     },
     "execution_count": 10,
     "metadata": {},
     "output_type": "execute_result"
    }
   ],
   "source": [
    "# 参考：元データ。先頭は過去データが無いうちは削除されている。\n",
    "pd.DataFrame(X[:5])"
   ]
  },
  {
   "cell_type": "markdown",
   "id": "dd1a462f-6089-4100-8257-0489018217a2",
   "metadata": {
    "tags": []
   },
   "source": [
    "## CausalBasedSimulator"
   ]
  },
  {
   "cell_type": "markdown",
   "id": "b4731bb2-d4ac-4d87-a2e6-f0da01bec89c",
   "metadata": {},
   "source": [
    "### train()とその結果"
   ]
  },
  {
   "cell_type": "code",
   "execution_count": 11,
   "id": "deb6edf7-cd0b-4a9f-b6c4-b5e10ea3f01f",
   "metadata": {
    "tags": []
   },
   "outputs": [
    {
     "data": {
      "text/plain": [
       "<lingam.causal_based_simulator.CausalBasedSimulator at 0x7f81abadf460>"
      ]
     },
     "execution_count": 11,
     "metadata": {},
     "output_type": "execute_result"
    }
   ],
   "source": [
    "sim = CausalBasedSimulator()\n",
    "sim.train(X, B, cd_algo_name=\"VARLiNGAM\")"
   ]
  },
  {
   "cell_type": "code",
   "execution_count": 12,
   "id": "ec37af54-b5de-466c-8a6c-a6aeba228e78",
   "metadata": {
    "tags": []
   },
   "outputs": [
    {
     "data": {
      "text/html": [
       "<div>\n",
       "<style scoped>\n",
       "    .dataframe tbody tr th:only-of-type {\n",
       "        vertical-align: middle;\n",
       "    }\n",
       "\n",
       "    .dataframe tbody tr th {\n",
       "        vertical-align: top;\n",
       "    }\n",
       "\n",
       "    .dataframe thead th {\n",
       "        text-align: right;\n",
       "    }\n",
       "</style>\n",
       "<table border=\"1\" class=\"dataframe\">\n",
       "  <thead>\n",
       "    <tr style=\"text-align: right;\">\n",
       "      <th></th>\n",
       "      <th>キー</th>\n",
       "      <th>モデル</th>\n",
       "      <th>親変数</th>\n",
       "      <th>誤差項の長さ</th>\n",
       "    </tr>\n",
       "  </thead>\n",
       "  <tbody>\n",
       "    <tr>\n",
       "      <th>0</th>\n",
       "      <td>0[0]</td>\n",
       "      <td>LinearRegression()</td>\n",
       "      <td>[1[0], 0[1], 2[1], 3[1]]</td>\n",
       "      <td>(999,)</td>\n",
       "    </tr>\n",
       "    <tr>\n",
       "      <th>1</th>\n",
       "      <td>1[0]</td>\n",
       "      <td>LinearRegression()</td>\n",
       "      <td>[1[1], 2[1], 3[1], 4[1]]</td>\n",
       "      <td>(999,)</td>\n",
       "    </tr>\n",
       "    <tr>\n",
       "      <th>2</th>\n",
       "      <td>2[0]</td>\n",
       "      <td>LinearRegression()</td>\n",
       "      <td>[0[0], 1[0], 3[0], 2[1], 4[1]]</td>\n",
       "      <td>(999,)</td>\n",
       "    </tr>\n",
       "    <tr>\n",
       "      <th>3</th>\n",
       "      <td>3[0]</td>\n",
       "      <td>LinearRegression()</td>\n",
       "      <td>[0[0], 1[0], 0[1], 1[1], 2[1], 4[1]]</td>\n",
       "      <td>(999,)</td>\n",
       "    </tr>\n",
       "    <tr>\n",
       "      <th>4</th>\n",
       "      <td>4[0]</td>\n",
       "      <td>LinearRegression()</td>\n",
       "      <td>[0[0], 2[0]]</td>\n",
       "      <td>(999,)</td>\n",
       "    </tr>\n",
       "    <tr>\n",
       "      <th>5</th>\n",
       "      <td>0[1]</td>\n",
       "      <td>None</td>\n",
       "      <td>[]</td>\n",
       "      <td>(999,)</td>\n",
       "    </tr>\n",
       "    <tr>\n",
       "      <th>6</th>\n",
       "      <td>1[1]</td>\n",
       "      <td>None</td>\n",
       "      <td>[]</td>\n",
       "      <td>(999,)</td>\n",
       "    </tr>\n",
       "    <tr>\n",
       "      <th>7</th>\n",
       "      <td>2[1]</td>\n",
       "      <td>None</td>\n",
       "      <td>[]</td>\n",
       "      <td>(999,)</td>\n",
       "    </tr>\n",
       "    <tr>\n",
       "      <th>8</th>\n",
       "      <td>3[1]</td>\n",
       "      <td>None</td>\n",
       "      <td>[]</td>\n",
       "      <td>(999,)</td>\n",
       "    </tr>\n",
       "    <tr>\n",
       "      <th>9</th>\n",
       "      <td>4[1]</td>\n",
       "      <td>None</td>\n",
       "      <td>[]</td>\n",
       "      <td>(999,)</td>\n",
       "    </tr>\n",
       "  </tbody>\n",
       "</table>\n",
       "</div>"
      ],
      "text/plain": [
       "     キー                 モデル                                   親変数  誤差項の長さ\n",
       "0  0[0]  LinearRegression()              [1[0], 0[1], 2[1], 3[1]]  (999,)\n",
       "1  1[0]  LinearRegression()              [1[1], 2[1], 3[1], 4[1]]  (999,)\n",
       "2  2[0]  LinearRegression()        [0[0], 1[0], 3[0], 2[1], 4[1]]  (999,)\n",
       "3  3[0]  LinearRegression()  [0[0], 1[0], 0[1], 1[1], 2[1], 4[1]]  (999,)\n",
       "4  4[0]  LinearRegression()                          [0[0], 2[0]]  (999,)\n",
       "5  0[1]                None                                    []  (999,)\n",
       "6  1[1]                None                                    []  (999,)\n",
       "7  2[1]                None                                    []  (999,)\n",
       "8  3[1]                None                                    []  (999,)\n",
       "9  4[1]                None                                    []  (999,)"
      ]
     },
     "execution_count": 12,
     "metadata": {},
     "output_type": "execute_result"
    }
   ],
   "source": [
    "df = []\n",
    "for k, v in sim.train_result_.items():\n",
    "    df.append({\"キー\":k, \"モデル\":v[\"model\"], \"親変数\":v[\"parent_names\"], \"誤差項の長さ\":v[\"residual\"].shape})\n",
    "pd.DataFrame(df)"
   ]
  },
  {
   "cell_type": "markdown",
   "id": "919f9557-2259-4173-a360-ba70ba603b1e",
   "metadata": {},
   "source": [
    "### run()"
   ]
  },
  {
   "cell_type": "code",
   "execution_count": 13,
   "id": "11f408b0-a1cb-4c4d-8ba1-7f106322a045",
   "metadata": {
    "tags": []
   },
   "outputs": [],
   "source": [
    "# 結果可視化用\n",
    "def vis(simulated, data):\n",
    "    n_features = B.shape[1]\n",
    "    \n",
    "    fig, axes = plt.subplots(1, n_features, figsize=(n_features*3, 3))\n",
    "    for i in range(n_features):\n",
    "        axes[i].scatter(simulated.iloc[:, i], data.iloc[:, i])\n",
    "        axes[i].set_aspect(\"equal\", \"box\")\n",
    "        axes[i].axline((0, 0), (1, 1), color=\"black\", lw=1)\n",
    "        axes[i].set_xlabel(\"simulated\")\n",
    "        axes[i].set_ylabel(\"true\")\n",
    "        axes[i].set_title(f\"name={simulated.columns[i]}\")\n",
    "    plt.tight_layout()\n",
    "    plt.show()\n",
    "    \n",
    "    fig, axes = plt.subplots(1, n_features, figsize=(n_features*3, 3))\n",
    "    for i in range(n_features):\n",
    "        range_ = [*data.iloc[:, i], *simulated.iloc[:, i]]\n",
    "        range_ = min(range_), max(range_)\n",
    "        \n",
    "        axes[i].hist(data.iloc[:, i], label=\"true\", range=range_, alpha=0.5)\n",
    "        axes[i].hist(simulated.iloc[:, i], label=\"sim\", range=range_, alpha=0.5)\n",
    "        axes[i].legend()\n",
    "    plt.tight_layout()\n",
    "    plt.show()"
   ]
  },
  {
   "cell_type": "markdown",
   "id": "074c6914-3f91-45db-95de-943c628cf29c",
   "metadata": {},
   "source": [
    "#### 引数無し"
   ]
  },
  {
   "cell_type": "code",
   "execution_count": 14,
   "id": "e79ae567-682f-4b56-bc98-2735008994ab",
   "metadata": {
    "tags": []
   },
   "outputs": [
    {
     "name": "stdout",
     "output_type": "stream",
     "text": [
      "(999, 10)\n"
     ]
    },
    {
     "data": {
      "image/png": "[encoded data removed]",
      "text/plain": [
       "<Figure size 1080x216 with 5 Axes>"
      ]
     },
     "metadata": {
      "needs_background": "light"
     },
     "output_type": "display_data"
    },
    {
     "data": {
      "image/png": "[encoded data removed]",
      "text/plain": [
       "<Figure size 1080x216 with 5 Axes>"
      ]
     },
     "metadata": {
      "needs_background": "light"
     },
     "output_type": "display_data"
    }
   ],
   "source": [
    "simulated = sim.run()\n",
    "\n",
    "# ラグ分(B.shape[0] - 1)だけサンプルが先頭側(ふるい側)から減る。\n",
    "print(simulated.shape)\n",
    "\n",
    "vis(simulated.iloc[:, :X.shape[1]], pd.DataFrame(X[1:]))"
   ]
  },
  {
   "cell_type": "markdown",
   "id": "c1793be2-638d-4847-befc-270de889c074",
   "metadata": {},
   "source": [
    "#### 誤差項シャッフル"
   ]
  },
  {
   "cell_type": "code",
   "execution_count": 15,
   "id": "40e85e58-25a3-4dc3-ab18-e4bc96836563",
   "metadata": {
    "tags": []
   },
   "outputs": [
    {
     "data": {
      "image/png": "[encoded data removed]",
      "text/plain": [
       "<Figure size 1080x216 with 5 Axes>"
      ]
     },
     "metadata": {
      "needs_background": "light"
     },
     "output_type": "display_data"
    },
    {
     "data": {
      "image/png": "[encoded data removed]",
      "text/plain": [
       "<Figure size 1080x216 with 5 Axes>"
      ]
     },
     "metadata": {
      "needs_background": "light"
     },
     "output_type": "display_data"
    }
   ],
   "source": [
    "simulated = sim.run(shuffle_residual=True)\n",
    "vis(simulated.iloc[:, :X.shape[1]], pd.DataFrame(X[1:]))"
   ]
  },
  {
   "cell_type": "markdown",
   "id": "2e6d6a22-a8d1-4af1-82b6-08256288e1e3",
   "metadata": {
    "tags": []
   },
   "source": [
    "#### エッジ変更\n",
    "0[0]を外生化。子である2[0]、3[0]、4[0]が影響を受ける。"
   ]
  },
  {
   "cell_type": "code",
   "execution_count": 16,
   "id": "80bc0d66-f890-4fe7-876b-b83d75aa10f0",
   "metadata": {
    "tags": []
   },
   "outputs": [
    {
     "data": {
      "image/png": "[encoded data removed]",
      "text/plain": [
       "<Figure size 1080x216 with 5 Axes>"
      ]
     },
     "metadata": {
      "needs_background": "light"
     },
     "output_type": "display_data"
    },
    {
     "data": {
      "image/png": "[encoded data removed]",
      "text/plain": [
       "<Figure size 1080x216 with 5 Axes>"
      ]
     },
     "metadata": {
      "needs_background": "light"
     },
     "output_type": "display_data"
    }
   ],
   "source": [
    "changing_models = {\n",
    "    \"0[0]\": {\"parent_names\": None, \"model\": None, \"coefs\": None}\n",
    "}\n",
    "simulated = sim.run(changing_models=changing_models)\n",
    "vis(simulated.iloc[:, :X.shape[1]], pd.DataFrame(X[1:]))"
   ]
  },
  {
   "cell_type": "code",
   "execution_count": null,
   "id": "b577c4d9-6f0f-4f9c-8be8-ab3f9d40f2e4",
   "metadata": {},
   "outputs": [],
   "source": []
  }
 ],
 "metadata": {
  "kernelspec": {
   "display_name": "Python 3 (ipykernel)",
   "language": "python",
   "name": "python3"
  },
  "language_info": {
   "codemirror_mode": {
    "name": "ipython",
    "version": 3
   },
   "file_extension": ".py",
   "mimetype": "text/x-python",
   "name": "python",
   "nbconvert_exporter": "python",
   "pygments_lexer": "ipython3",
   "version": "3.8.10"
  },
  "widgets": {
   "application/vnd.jupyter.widget-state+json": {
    "state": {},
    "version_major": 2,
    "version_minor": 0
   }
  }
 },
 "nbformat": 4,
 "nbformat_minor": 5
}
