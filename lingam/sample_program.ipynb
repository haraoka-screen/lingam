{
 "cells": [
  {
   "cell_type": "code",
   "execution_count": 1,
   "id": "1e71b578-cd14-4c64-8dfb-402f3e048ef9",
   "metadata": {
    "tags": []
   },
   "outputs": [],
   "source": [
    "import numpy as np\n",
    "import pandas as pd\n",
    "\n",
    "from lingam.utils import make_dot\n",
    "from IPython.display import display, Markdown\n",
    "import matplotlib.pyplot as plt\n",
    "\n",
    "from lingam import CausalBasedSimulator, CBSIDirectLiNGAM"
   ]
  },
  {
   "cell_type": "markdown",
   "id": "2e29d783-8bf5-4c57-8d3c-28578022bade",
   "metadata": {},
   "source": [
    "## テストデータ"
   ]
  },
  {
   "cell_type": "code",
   "execution_count": 2,
   "id": "7de1c36b-ed85-413c-a8fd-5d1bc3ad44b0",
   "metadata": {
    "tags": []
   },
   "outputs": [],
   "source": [
    "if False:\n",
    "    causal_graph = np.array([\n",
    "        [0.0, 0.0, 0.0, 3.0, 0.0, 0.0],\n",
    "        [3.0, 0.0, 2.0, 0.0, 0.0, 0.0],\n",
    "        [0.0, 0.0, 0.0, 6.0, 0.0, 0.0],\n",
    "        [0.0, 0.0, 0.0, 0.0, 0.0, 0.0],\n",
    "        [8.0, 0.0,-1.0, 0.0, 0.0, 0.0],\n",
    "        [4.0, 0.0, 0.0, 0.0, 0.0, 0.0]\n",
    "    ])\n",
    "    display(make_dot(causal_graph))\n",
    "\n",
    "    n_samples = 1000\n",
    "    e = np.random.uniform(-1.4142, 1.4142, size=(len(causal_graph), n_samples))\n",
    "    X = np.linalg.pinv(np.eye(len(causal_graph)) - causal_graph) @ e\n",
    "    X = X.T\n",
    "\n",
    "causal_graph = np.array([\n",
    "    [ 0.000,  0.000,  0.000,  0.895,  0.000,  0.000],\n",
    "    [ 0.565,  0.000,  0.377,  0.000,  0.000,  0.000],\n",
    "    [ 0.000,  0.000,  0.000,  0.895,  0.000,  0.000],\n",
    "    [ 0.000,  0.000,  0.000,  0.000,  0.000,  0.000],\n",
    "    [ 0.991,  0.000, -0.124,  0.000,  0.000,  0.000],\n",
    "    [ 0.895,  0.000,  0.000,  0.000,  0.000,  0.000]\n",
    "])\n",
    "\n",
    "generate_error = lambda p: np.random.uniform(-p, p, size=1000)\n",
    "\n",
    "error_vars = [0.2, 0.2, 0.2, 1.0, 0.2, 0.2]\n",
    "params = [0.5 * np.sqrt(12 * v) for v in error_vars]\n",
    "e = np.array([generate_error(p) for p in params])\n",
    "\n",
    "X = np.linalg.pinv(np.eye(len(causal_graph)) - causal_graph) @ e\n",
    "X = X.T"
   ]
  },
  {
   "cell_type": "markdown",
   "id": "60e73879-fe47-41ee-a281-0a47bd5bab37",
   "metadata": {},
   "source": [
    "## CBSImplのインタフェイス"
   ]
  },
  {
   "cell_type": "code",
   "execution_count": 3,
   "id": "a9bbc989-030b-4f21-b5d3-e6feeb97bd00",
   "metadata": {
    "tags": []
   },
   "outputs": [
    {
     "data": {
      "text/markdown": [
       "### ■ Property"
      ],
      "text/plain": [
       "<IPython.core.display.Markdown object>"
      ]
     },
     "metadata": {},
     "output_type": "display_data"
    },
    {
     "data": {
      "text/markdown": [
       "#### endog_names_\n",
       "内生変数のリスト。"
      ],
      "text/plain": [
       "<IPython.core.display.Markdown object>"
      ]
     },
     "metadata": {},
     "output_type": "display_data"
    },
    {
     "name": "stdout",
     "output_type": "stream",
     "text": [
      "['0', '1', '2', '3', '4', '5']\n"
     ]
    },
    {
     "data": {
      "text/markdown": [
       "#### discrete_endog_names_\n",
       "離散な内生変数のリスト。"
      ],
      "text/plain": [
       "<IPython.core.display.Markdown object>"
      ]
     },
     "metadata": {},
     "output_type": "display_data"
    },
    {
     "name": "stdout",
     "output_type": "stream",
     "text": [
      "['2', '5']\n"
     ]
    },
    {
     "data": {
      "text/markdown": [
       "#### causal_order_\n",
       "訓練結果の因果順序。"
      ],
      "text/plain": [
       "<IPython.core.display.Markdown object>"
      ]
     },
     "metadata": {},
     "output_type": "display_data"
    },
    {
     "name": "stdout",
     "output_type": "stream",
     "text": [
      "['3', '0', '2', '1', '4', '5']\n"
     ]
    },
    {
     "data": {
      "text/markdown": [
       "#### exog_length_\n",
       "外生変数の長さ。changing_exogに指定されたデータ長のチェックに利用。"
      ],
      "text/plain": [
       "<IPython.core.display.Markdown object>"
      ]
     },
     "metadata": {},
     "output_type": "display_data"
    },
    {
     "name": "stdout",
     "output_type": "stream",
     "text": [
      "1000\n"
     ]
    },
    {
     "data": {
      "text/markdown": [
       "### ■ Method"
      ],
      "text/plain": [
       "<IPython.core.display.Markdown object>"
      ]
     },
     "metadata": {},
     "output_type": "display_data"
    },
    {
     "data": {
      "text/markdown": [
       "#### get_parent_names(var_name)\n",
       "指定変数の親変数名のリストを返す。"
      ],
      "text/plain": [
       "<IPython.core.display.Markdown object>"
      ]
     },
     "metadata": {},
     "output_type": "display_data"
    },
    {
     "name": "stdout",
     "output_type": "stream",
     "text": [
      "parent of 0 ['3']\n",
      "parent of 4 ['0', '2']\n"
     ]
    },
    {
     "data": {
      "text/markdown": [
       "#### get_data(var_names)\n",
       "指定変数のデータを返す"
      ],
      "text/plain": [
       "<IPython.core.display.Markdown object>"
      ]
     },
     "metadata": {},
     "output_type": "display_data"
    },
    {
     "data": {
      "image/png": "[encoded data removed]",
      "text/plain": [
       "<Figure size 144x144 with 1 Axes>"
      ]
     },
     "metadata": {
      "needs_background": "light"
     },
     "output_type": "display_data"
    },
    {
     "data": {
      "text/markdown": [
       "#### get_causal_order(changing_edges=None)\n",
       "因果順序を返す。changing_edgesでエッジを付け替えたうえでの因果順序を返す。シミュレート時、エッジ増減後の因果順序を知るために使用する。"
      ],
      "text/plain": [
       "<IPython.core.display.Markdown object>"
      ]
     },
     "metadata": {},
     "output_type": "display_data"
    },
    {
     "name": "stdout",
     "output_type": "stream",
     "text": [
      "そのままの場合\n",
      "['3', '0', '2', '1', '4', '5']\n",
      "3->0を切って、2->0を追加\n",
      "['3', '2', '0', '1', '4', '5']\n"
     ]
    },
    {
     "data": {
      "text/markdown": [
       "#### Others \n",
       "因果探索アルゴリズムごとに誤差項の取り扱い方が変わる場合(未観測共通原因を持つ変数同士の誤差項はセットで並び替えなど)、set_exog_data(var_name, e), get_exog_data(is_shuffle)を実装します。"
      ],
      "text/plain": [
       "<IPython.core.display.Markdown object>"
      ]
     },
     "metadata": {},
     "output_type": "display_data"
    }
   ],
   "source": [
    "# CBSImplは公開してコンストラクタにユーザ実装を追加できるようにしてもよい。その機能が不要ならばCBSImpl系を公開する必要がない。\n",
    "\n",
    "# 本当はX[2]、X[5]はdiscreteではないが検証のため設定\n",
    "m = CBSIDirectLiNGAM(X, causal_graph, is_discrete=[False, False, True, False, False, True])\n",
    "\n",
    "# プロパティ\n",
    "display(Markdown(\"### ■ Property\"))\n",
    "\n",
    "display(Markdown(\"#### endog_names_\\n内生変数のリスト。\"))\n",
    "print(m.endog_names_)\n",
    "\n",
    "display(Markdown(\"#### discrete_endog_names_\\n離散な内生変数のリスト。\"))\n",
    "print(m.discrete_endog_names_)\n",
    "\n",
    "display(Markdown(\"#### causal_order_\\n訓練結果の因果順序。\"))\n",
    "print(m.causal_order_)\n",
    "\n",
    "display(Markdown(\"#### exog_length_\\n外生変数の長さ。changing_exogに指定されたデータ長のチェックに利用。\"))\n",
    "print(m.exog_length_)\n",
    "\n",
    "# メソッド\n",
    "display(Markdown(\"### ■ Method\"))\n",
    "\n",
    "# 引数は変数名。Xがnumpyの場合は自動で列番号を数字にして列名とする\n",
    "display(Markdown(\"#### get_parent_names(var_name)\\n指定変数の親変数名のリストを返す。\"))\n",
    "parent_names = m.get_parent_names(\"0\")\n",
    "print(\"parent of 0\", parent_names)\n",
    "parent_names = m.get_parent_names(\"4\")\n",
    "print(\"parent of 4\", parent_names)\n",
    "\n",
    "display(Markdown(\"#### get_data(var_names)\\n指定変数のデータを返す\"))\n",
    "X0 = m.get_data(\"0\")\n",
    "plt.figure(figsize=(2, 2))\n",
    "plt.scatter(X[:, 0], X0)\n",
    "plt.gca().set_aspect(\"equal\", \"box\")\n",
    "plt.axline((0, 0), (1, 1), color=\"black\", lw=1)\n",
    "plt.xlabel(\"get_data\")\n",
    "plt.ylabel(\"true data\")\n",
    "plt.show()\n",
    "\n",
    "display(Markdown(\"#### get_causal_order(changing_edges=None)\\n因果順序を返す。changing_edgesでエッジを付け替えたうえでの因果順序を返す。シミュレート時、エッジ増減後の因果順序を知るために使用する。\"))\n",
    "co = m.get_causal_order()\n",
    "print(\"そのままの場合\")\n",
    "print(co)\n",
    "\n",
    "print(\"3->0を切って、2->0を追加\")\n",
    "# キーは対象の変数、値はその変数の親ノード名。\n",
    "changing_edges = {\"0\": [\"2\"]}\n",
    "co = m.get_causal_order(changing_edges=changing_edges)\n",
    "print(co)\n",
    "\n",
    "display(Markdown(\"#### Others \\n因果探索アルゴリズムごとに誤差項の取り扱い方が変わる場合(未観測共通原因を持つ変数同士の誤差項はセットで並び替えなど)、set_exog_data(var_name, e), get_exog_data(is_shuffle)を実装します。\"))\n"
   ]
  },
  {
   "cell_type": "markdown",
   "id": "97e2f3ad-2a0a-4623-8446-d21a40202fcc",
   "metadata": {},
   "source": [
    "## CausalBasedSimulator\n",
    "インタフェイスは変わりありませんが、離散時の場合分けがなくなったので、プロパティや引数に与えるデータの仕様が変更になっています。以前よりシンプルで分かりやすくなっています。"
   ]
  },
  {
   "cell_type": "code",
   "execution_count": 4,
   "id": "e35a2cf1-0e30-4f20-8020-1dded1b97bb4",
   "metadata": {
    "tags": []
   },
   "outputs": [
    {
     "data": {
      "text/markdown": [
       "### sim.train_result_\n",
       "キーは変数名、値はその変数の、モデル、親変数名のリスト、訓練時の機械学習モデルの予測値、残差である。pandasで表示したため分からなくなっているが、変数名はすべてstr型。"
      ],
      "text/plain": [
       "<IPython.core.display.Markdown object>"
      ]
     },
     "metadata": {},
     "output_type": "display_data"
    },
    {
     "data": {
      "text/html": [
       "<div>\n",
       "<style scoped>\n",
       "    .dataframe tbody tr th:only-of-type {\n",
       "        vertical-align: middle;\n",
       "    }\n",
       "\n",
       "    .dataframe tbody tr th {\n",
       "        vertical-align: top;\n",
       "    }\n",
       "\n",
       "    .dataframe thead th {\n",
       "        text-align: right;\n",
       "    }\n",
       "</style>\n",
       "<table border=\"1\" class=\"dataframe\">\n",
       "  <thead>\n",
       "    <tr style=\"text-align: right;\">\n",
       "      <th></th>\n",
       "      <th>キー</th>\n",
       "      <th>モデル</th>\n",
       "      <th>親リスト</th>\n",
       "      <th>MLモデル予測値(のshape)</th>\n",
       "      <th>MLモデル残差(のshape)</th>\n",
       "    </tr>\n",
       "  </thead>\n",
       "  <tbody>\n",
       "    <tr>\n",
       "      <th>0</th>\n",
       "      <td>0</td>\n",
       "      <td>LinearRegression()</td>\n",
       "      <td>[3]</td>\n",
       "      <td>(1000,)</td>\n",
       "      <td>(1000,)</td>\n",
       "    </tr>\n",
       "    <tr>\n",
       "      <th>1</th>\n",
       "      <td>1</td>\n",
       "      <td>LinearRegression()</td>\n",
       "      <td>[0, 2]</td>\n",
       "      <td>(1000,)</td>\n",
       "      <td>(1000,)</td>\n",
       "    </tr>\n",
       "    <tr>\n",
       "      <th>2</th>\n",
       "      <td>2</td>\n",
       "      <td>LinearRegression()</td>\n",
       "      <td>[3]</td>\n",
       "      <td>(1000,)</td>\n",
       "      <td>(1000,)</td>\n",
       "    </tr>\n",
       "    <tr>\n",
       "      <th>3</th>\n",
       "      <td>3</td>\n",
       "      <td>None</td>\n",
       "      <td>[]</td>\n",
       "      <td>None</td>\n",
       "      <td>(1000,)</td>\n",
       "    </tr>\n",
       "    <tr>\n",
       "      <th>4</th>\n",
       "      <td>4</td>\n",
       "      <td>LinearRegression()</td>\n",
       "      <td>[0, 2]</td>\n",
       "      <td>(1000,)</td>\n",
       "      <td>(1000,)</td>\n",
       "    </tr>\n",
       "    <tr>\n",
       "      <th>5</th>\n",
       "      <td>5</td>\n",
       "      <td>LinearRegression()</td>\n",
       "      <td>[0]</td>\n",
       "      <td>(1000,)</td>\n",
       "      <td>(1000,)</td>\n",
       "    </tr>\n",
       "  </tbody>\n",
       "</table>\n",
       "</div>"
      ],
      "text/plain": [
       "  キー                 モデル    親リスト MLモデル予測値(のshape) MLモデル残差(のshape)\n",
       "0  0  LinearRegression()     [3]          (1000,)         (1000,)\n",
       "1  1  LinearRegression()  [0, 2]          (1000,)         (1000,)\n",
       "2  2  LinearRegression()     [3]          (1000,)         (1000,)\n",
       "3  3                None      []             None         (1000,)\n",
       "4  4  LinearRegression()  [0, 2]          (1000,)         (1000,)\n",
       "5  5  LinearRegression()     [0]          (1000,)         (1000,)"
      ]
     },
     "metadata": {},
     "output_type": "display_data"
    },
    {
     "data": {
      "text/markdown": [
       "### sim.run()"
      ],
      "text/plain": [
       "<IPython.core.display.Markdown object>"
      ]
     },
     "metadata": {},
     "output_type": "display_data"
    },
    {
     "data": {
      "text/markdown": [
       "#### オプションなし"
      ],
      "text/plain": [
       "<IPython.core.display.Markdown object>"
      ]
     },
     "metadata": {},
     "output_type": "display_data"
    },
    {
     "name": "stdout",
     "output_type": "stream",
     "text": [
      "0 LinearRegression() ['3']\n",
      "2 LinearRegression() ['3']\n",
      "1 LinearRegression() ['0', '2']\n",
      "4 LinearRegression() ['0', '2']\n",
      "5 LinearRegression() ['0']\n"
     ]
    },
    {
     "data": {
      "image/png": "[encoded data removed]",
      "text/plain": [
       "<Figure size 1296x216 with 6 Axes>"
      ]
     },
     "metadata": {
      "needs_background": "light"
     },
     "output_type": "display_data"
    },
    {
     "data": {
      "text/markdown": [
       "#### shuffle_residual=True"
      ],
      "text/plain": [
       "<IPython.core.display.Markdown object>"
      ]
     },
     "metadata": {},
     "output_type": "display_data"
    },
    {
     "name": "stdout",
     "output_type": "stream",
     "text": [
      "0 LinearRegression() ['3']\n",
      "2 LinearRegression() ['3']\n",
      "1 LinearRegression() ['0', '2']\n",
      "4 LinearRegression() ['0', '2']\n",
      "5 LinearRegression() ['0']\n"
     ]
    },
    {
     "data": {
      "image/png": "[encoded data removed]",
      "text/plain": [
       "<Figure size 1296x216 with 6 Axes>"
      ]
     },
     "metadata": {
      "needs_background": "light"
     },
     "output_type": "display_data"
    }
   ],
   "source": [
    "# コンストラクタは引数なし\n",
    "sim = CausalBasedSimulator()\n",
    "\n",
    "# 訓練\n",
    "sim.train(X, causal_graph, causal_graph_type=\"DirectLiNGAM\", models=None)\n",
    "\n",
    "# 訓練結果(sim.trian_result_)\n",
    "display(Markdown(\"### sim.train_result_\\nキーは変数名、値はその変数の、モデル、親変数名のリスト、訓練時の機械学習モデルの予測値、残差である。pandasで表示したため分からなくなっているが、変数名はすべてstr型。\"))\n",
    "df = {}\n",
    "for key, result in sim.train_result_.items():\n",
    "    df[key] = {\n",
    "        \"キー\": key,\n",
    "        \"モデル\": result[\"model\"],\n",
    "        \"親リスト\": result[\"X_names\"],\n",
    "        \"MLモデル予測値(のshape)\": None if result[\"y_pred\"] is None else result[\"y_pred\"].shape,\n",
    "        \"MLモデル残差(のshape)\": None if result[\"residual\"] is None else result[\"residual\"].shape,\n",
    "    }\n",
    "display(pd.DataFrame(df).T)\n",
    "\n",
    "def vis(simulated, data):\n",
    "    n_features = len(causal_graph)\n",
    "    fig, axes = plt.subplots(1, n_features, figsize=(n_features*3, 3))\n",
    "    for i in range(n_features):\n",
    "        axes[i].scatter(simulated.iloc[:, i], data[:, i])\n",
    "        axes[i].set_aspect(\"equal\", \"box\")\n",
    "        axes[i].axline((0, 0), (1, 1), color=\"black\", lw=1)\n",
    "        axes[i].set_xlabel(\"simulated\")\n",
    "        axes[i].set_ylabel(\"true\")\n",
    "    plt.tight_layout()\n",
    "    plt.show()\n",
    "\n",
    "display(Markdown(\"### sim.run()\"))\n",
    "\n",
    "# シミュレーション\n",
    "display(Markdown(\"#### オプションなし\"))\n",
    "simulated = sim.run()\n",
    "vis(simulated, X)\n",
    "\n",
    "# シミュレーション2: 誤差変数並び替え\n",
    "display(Markdown(\"#### shuffle_residual=True\"))\n",
    "simulated = sim.run(shuffle_residual=True)\n",
    "vis(simulated, X)\n",
    "\n",
    "# 質問中\n",
    "# シミュレーション3: モデル変更(エッジ変更付き)　\n",
    "#display(Markdown(\"#### changing_modelsを指定\"))\n",
    "# 0を外生化\n",
    "#changing_models = {\n",
    "#    \"0\": {\"X_names\": [], \"model\": None},\n",
    "#}\n",
    "#simulated = sim.run(changing_models=changing_models)\n",
    "#vis(simulated, X)"
   ]
  },
  {
   "cell_type": "code",
   "execution_count": null,
   "id": "271bc856-a439-4543-b535-d1cf4fa54f6c",
   "metadata": {},
   "outputs": [],
   "source": []
  }
 ],
 "metadata": {
  "kernelspec": {
   "display_name": "Python 3 (ipykernel)",
   "language": "python",
   "name": "python3"
  },
  "language_info": {
   "codemirror_mode": {
    "name": "ipython",
    "version": 3
   },
   "file_extension": ".py",
   "mimetype": "text/x-python",
   "name": "python",
   "nbconvert_exporter": "python",
   "pygments_lexer": "ipython3",
   "version": "3.8.10"
  },
  "widgets": {
   "application/vnd.jupyter.widget-state+json": {
    "state": {},
    "version_major": 2,
    "version_minor": 0
   }
  }
 },
 "nbformat": 4,
 "nbformat_minor": 5
}
