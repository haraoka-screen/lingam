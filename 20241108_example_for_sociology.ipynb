{
 "cells": [
  {
   "cell_type": "markdown",
   "id": "238aa27d-6cc3-49e1-9f06-7d12197448b7",
   "metadata": {
    "tags": []
   },
   "source": [
    "# 社会学データの分析例\n",
    "\n",
    "このノートブックでは社会学データの典型的分析例を紹介する。典型的な社会学データは離散的な順序変数を含むことが多いが、lingamパッケージに実装されている大部分の因果探索アルゴリズムは、離散的な順序変数を分析することができない。しかし、因果探索を実行する前にいくつかの工夫を加えることで、離散的な順序変数を分析することが可能となる。\n",
    "\n",
    "このノートブックでは、目的となるシンク変数が離散変数、\n",
    "\n",
    "以降では、離散的な順序変数を含むデータの分析方法を説明する。"
   ]
  },
  {
   "cell_type": "markdown",
   "id": "76d0d774-e77f-4351-a99d-edeeafd103e0",
   "metadata": {},
   "source": [
    "## 準備\n",
    "\n",
    "### ライブラリのインポート\n",
    "\n",
    "このノートブックで使用するライブラリをインポートする。"
   ]
  },
  {
   "cell_type": "code",
   "execution_count": 1,
   "id": "b9f1a5b7-49cc-494e-85a7-ace2d7c22ee8",
   "metadata": {
    "tags": []
   },
   "outputs": [],
   "source": [
    "import numpy as np\n",
    "import pandas as pd\n",
    "from scipy.special import expit\n",
    "\n",
    "import matplotlib.pyplot as plt\n",
    "\n",
    "from lingam.utils import make_dot"
   ]
  },
  {
   "cell_type": "markdown",
   "id": "cba6ffa9-2362-4130-b6d4-36bce1c36395",
   "metadata": {},
   "source": [
    "### 設定\n",
    "\n",
    "乱数の種を固定するための設定を行う。"
   ]
  },
  {
   "cell_type": "code",
   "execution_count": 2,
   "id": "1f9518f6-c49b-403c-a059-bef5acf35696",
   "metadata": {
    "tags": []
   },
   "outputs": [],
   "source": [
    "np.random.seed(0)"
   ]
  },
  {
   "cell_type": "markdown",
   "id": "2dab5c26-2749-4443-8e6d-a7de37979b5b",
   "metadata": {},
   "source": [
    "## テストデータ\n",
    "\n",
    "### 隣接行列"
   ]
  },
  {
   "cell_type": "code",
   "execution_count": 3,
   "id": "ca9cab03-fea9-4ee8-a433-30c1944ad1e3",
   "metadata": {
    "tags": []
   },
   "outputs": [
    {
     "data": {
      "text/html": [
       "<div>\n",
       "<style scoped>\n",
       "    .dataframe tbody tr th:only-of-type {\n",
       "        vertical-align: middle;\n",
       "    }\n",
       "\n",
       "    .dataframe tbody tr th {\n",
       "        vertical-align: top;\n",
       "    }\n",
       "\n",
       "    .dataframe thead th {\n",
       "        text-align: right;\n",
       "    }\n",
       "</style>\n",
       "<table border=\"1\" class=\"dataframe\">\n",
       "  <thead>\n",
       "    <tr style=\"text-align: right;\">\n",
       "      <th></th>\n",
       "      <th>x0</th>\n",
       "      <th>x1</th>\n",
       "      <th>x2</th>\n",
       "      <th>x3</th>\n",
       "      <th>x4</th>\n",
       "      <th>x5</th>\n",
       "      <th>x6</th>\n",
       "      <th>x7</th>\n",
       "    </tr>\n",
       "  </thead>\n",
       "  <tbody>\n",
       "    <tr>\n",
       "      <th>x0</th>\n",
       "      <td>0.000</td>\n",
       "      <td>0.000</td>\n",
       "      <td>0.000</td>\n",
       "      <td>0.000</td>\n",
       "      <td>0.000</td>\n",
       "      <td>0.000</td>\n",
       "      <td>0.000</td>\n",
       "      <td>0.0</td>\n",
       "    </tr>\n",
       "    <tr>\n",
       "      <th>x1</th>\n",
       "      <td>0.000</td>\n",
       "      <td>0.000</td>\n",
       "      <td>0.000</td>\n",
       "      <td>0.000</td>\n",
       "      <td>0.000</td>\n",
       "      <td>0.000</td>\n",
       "      <td>0.000</td>\n",
       "      <td>0.0</td>\n",
       "    </tr>\n",
       "    <tr>\n",
       "      <th>x2</th>\n",
       "      <td>0.000</td>\n",
       "      <td>0.000</td>\n",
       "      <td>0.000</td>\n",
       "      <td>0.000</td>\n",
       "      <td>0.000</td>\n",
       "      <td>0.000</td>\n",
       "      <td>0.000</td>\n",
       "      <td>0.0</td>\n",
       "    </tr>\n",
       "    <tr>\n",
       "      <th>x3</th>\n",
       "      <td>0.000</td>\n",
       "      <td>1.043</td>\n",
       "      <td>0.000</td>\n",
       "      <td>0.000</td>\n",
       "      <td>0.000</td>\n",
       "      <td>0.000</td>\n",
       "      <td>0.000</td>\n",
       "      <td>0.0</td>\n",
       "    </tr>\n",
       "    <tr>\n",
       "      <th>x4</th>\n",
       "      <td>0.000</td>\n",
       "      <td>1.727</td>\n",
       "      <td>0.537</td>\n",
       "      <td>0.000</td>\n",
       "      <td>0.000</td>\n",
       "      <td>0.000</td>\n",
       "      <td>0.000</td>\n",
       "      <td>0.0</td>\n",
       "    </tr>\n",
       "    <tr>\n",
       "      <th>x5</th>\n",
       "      <td>1.041</td>\n",
       "      <td>0.911</td>\n",
       "      <td>0.000</td>\n",
       "      <td>0.427</td>\n",
       "      <td>0.000</td>\n",
       "      <td>0.000</td>\n",
       "      <td>0.000</td>\n",
       "      <td>0.0</td>\n",
       "    </tr>\n",
       "    <tr>\n",
       "      <th>x6</th>\n",
       "      <td>0.000</td>\n",
       "      <td>0.000</td>\n",
       "      <td>0.000</td>\n",
       "      <td>1.960</td>\n",
       "      <td>0.691</td>\n",
       "      <td>0.000</td>\n",
       "      <td>0.000</td>\n",
       "      <td>0.0</td>\n",
       "    </tr>\n",
       "    <tr>\n",
       "      <th>x7</th>\n",
       "      <td>0.000</td>\n",
       "      <td>0.000</td>\n",
       "      <td>0.000</td>\n",
       "      <td>0.000</td>\n",
       "      <td>0.000</td>\n",
       "      <td>0.883</td>\n",
       "      <td>1.385</td>\n",
       "      <td>0.0</td>\n",
       "    </tr>\n",
       "  </tbody>\n",
       "</table>\n",
       "</div>"
      ],
      "text/plain": [
       "       x0     x1     x2     x3     x4     x5     x6   x7\n",
       "x0  0.000  0.000  0.000  0.000  0.000  0.000  0.000  0.0\n",
       "x1  0.000  0.000  0.000  0.000  0.000  0.000  0.000  0.0\n",
       "x2  0.000  0.000  0.000  0.000  0.000  0.000  0.000  0.0\n",
       "x3  0.000  1.043  0.000  0.000  0.000  0.000  0.000  0.0\n",
       "x4  0.000  1.727  0.537  0.000  0.000  0.000  0.000  0.0\n",
       "x5  1.041  0.911  0.000  0.427  0.000  0.000  0.000  0.0\n",
       "x6  0.000  0.000  0.000  1.960  0.691  0.000  0.000  0.0\n",
       "x7  0.000  0.000  0.000  0.000  0.000  0.883  1.385  0.0"
      ]
     },
     "execution_count": 3,
     "metadata": {},
     "output_type": "execute_result"
    }
   ],
   "source": [
    "m = np.array([\n",
    "    [0.000, 0.000, 0.000, 0.000, 0.000, 0.000, 0.000, 0.000],\n",
    "    [0.000, 0.000, 0.000, 0.000, 0.000, 0.000, 0.000, 0.000],\n",
    "    [0.000, 0.000, 0.000, 0.000, 0.000, 0.000, 0.000, 0.000],\n",
    "    [0.000, 1.043, 0.000, 0.000, 0.000, 0.000, 0.000, 0.000],\n",
    "    [0.000, 1.727, 0.537, 0.000, 0.000, 0.000, 0.000, 0.000],\n",
    "    [1.041, 0.911, 0.000, 0.427, 0.000, 0.000, 0.000, 0.000],\n",
    "    [0.000, 0.000, 0.000, 1.960, 0.691, 0.000, 0.000, 0.000],\n",
    "    [0.000, 0.000, 0.000, 0.000, 0.000, 0.883, 1.385, 0.000],\n",
    "])\n",
    "\n",
    "names = [f\"x{i}\" for i in range(len(m))]\n",
    "m = pd.DataFrame(m, columns=names, index=names)\n",
    "\n",
    "m"
   ]
  },
  {
   "cell_type": "markdown",
   "id": "7a88272c-6c64-472d-9936-e8998e037ede",
   "metadata": {},
   "source": [
    "この隣接行列を因果グラフとして描画した図は次の通り:"
   ]
  },
  {
   "cell_type": "code",
   "execution_count": 4,
   "id": "89f1e8dc-78a3-4dcd-bd50-6f279f003ae3",
   "metadata": {
    "tags": []
   },
   "outputs": [
    {
     "data": {
      "image/svg+xml": [
       "<?xml version=\"1.0\" encoding=\"UTF-8\" standalone=\"no\"?>\n",
       "<!DOCTYPE svg PUBLIC \"-//W3C//DTD SVG 1.1//EN\"\n",
       " \"http://www.w3.org/Graphics/SVG/1.1/DTD/svg11.dtd\">\n",
       "<!-- Generated by graphviz version 2.43.0 (0)\n",
       " -->\n",
       "<!-- Title: %3 Pages: 1 -->\n",
       "<svg width=\"293pt\" height=\"305pt\"\n",
       " viewBox=\"0.00 0.00 293.00 305.00\" xmlns=\"http://www.w3.org/2000/svg\" xmlns:xlink=\"http://www.w3.org/1999/xlink\">\n",
       "<g id=\"graph0\" class=\"graph\" transform=\"scale(1 1) rotate(0) translate(4 301)\">\n",
       "<title>%3</title>\n",
       "<polygon fill=\"white\" stroke=\"transparent\" points=\"-4,4 -4,-301 289,-301 289,4 -4,4\"/>\n",
       "<!-- x0 -->\n",
       "<g id=\"node1\" class=\"node\">\n",
       "<title>x0</title>\n",
       "<ellipse fill=\"none\" stroke=\"black\" cx=\"27\" cy=\"-192\" rx=\"27\" ry=\"18\"/>\n",
       "<text text-anchor=\"middle\" x=\"27\" y=\"-188.3\" font-family=\"Times,serif\" font-size=\"14.00\">x0</text>\n",
       "</g>\n",
       "<!-- x5 -->\n",
       "<g id=\"node6\" class=\"node\">\n",
       "<title>x5</title>\n",
       "<ellipse fill=\"none\" stroke=\"black\" cx=\"98\" cy=\"-105\" rx=\"27\" ry=\"18\"/>\n",
       "<text text-anchor=\"middle\" x=\"98\" y=\"-101.3\" font-family=\"Times,serif\" font-size=\"14.00\">x5</text>\n",
       "</g>\n",
       "<!-- x0&#45;&gt;x5 -->\n",
       "<g id=\"edge4\" class=\"edge\">\n",
       "<title>x0&#45;&gt;x5</title>\n",
       "<path fill=\"none\" stroke=\"black\" d=\"M29.87,-173.89C32.28,-163.54 36.56,-150.55 44,-141 50.27,-132.95 58.93,-126.2 67.49,-120.83\"/>\n",
       "<polygon fill=\"black\" stroke=\"black\" points=\"69.36,-123.79 76.26,-115.75 65.85,-117.73 69.36,-123.79\"/>\n",
       "<text text-anchor=\"middle\" x=\"60\" y=\"-144.8\" font-family=\"Times,serif\" font-size=\"14.00\">1.04</text>\n",
       "</g>\n",
       "<!-- x1 -->\n",
       "<g id=\"node2\" class=\"node\">\n",
       "<title>x1</title>\n",
       "<ellipse fill=\"none\" stroke=\"black\" cx=\"148\" cy=\"-279\" rx=\"27\" ry=\"18\"/>\n",
       "<text text-anchor=\"middle\" x=\"148\" y=\"-275.3\" font-family=\"Times,serif\" font-size=\"14.00\">x1</text>\n",
       "</g>\n",
       "<!-- x3 -->\n",
       "<g id=\"node4\" class=\"node\">\n",
       "<title>x3</title>\n",
       "<ellipse fill=\"none\" stroke=\"black\" cx=\"167\" cy=\"-192\" rx=\"27\" ry=\"18\"/>\n",
       "<text text-anchor=\"middle\" x=\"167\" y=\"-188.3\" font-family=\"Times,serif\" font-size=\"14.00\">x3</text>\n",
       "</g>\n",
       "<!-- x1&#45;&gt;x3 -->\n",
       "<g id=\"edge1\" class=\"edge\">\n",
       "<title>x1&#45;&gt;x3</title>\n",
       "<path fill=\"none\" stroke=\"black\" d=\"M146.44,-260.62C146.04,-250.88 146.32,-238.61 149,-228 149.86,-224.58 151.11,-221.12 152.55,-217.78\"/>\n",
       "<polygon fill=\"black\" stroke=\"black\" points=\"155.7,-219.29 156.96,-208.77 149.42,-216.21 155.7,-219.29\"/>\n",
       "<text text-anchor=\"middle\" x=\"165\" y=\"-231.8\" font-family=\"Times,serif\" font-size=\"14.00\">1.04</text>\n",
       "</g>\n",
       "<!-- x4 -->\n",
       "<g id=\"node5\" class=\"node\">\n",
       "<title>x4</title>\n",
       "<ellipse fill=\"none\" stroke=\"black\" cx=\"239\" cy=\"-192\" rx=\"27\" ry=\"18\"/>\n",
       "<text text-anchor=\"middle\" x=\"239\" y=\"-188.3\" font-family=\"Times,serif\" font-size=\"14.00\">x4</text>\n",
       "</g>\n",
       "<!-- x1&#45;&gt;x4 -->\n",
       "<g id=\"edge2\" class=\"edge\">\n",
       "<title>x1&#45;&gt;x4</title>\n",
       "<path fill=\"none\" stroke=\"black\" d=\"M163.03,-263.96C177.52,-250.43 199.64,-229.77 216.28,-214.22\"/>\n",
       "<polygon fill=\"black\" stroke=\"black\" points=\"219.03,-216.44 223.95,-207.06 214.25,-211.33 219.03,-216.44\"/>\n",
       "<text text-anchor=\"middle\" x=\"214\" y=\"-231.8\" font-family=\"Times,serif\" font-size=\"14.00\">1.73</text>\n",
       "</g>\n",
       "<!-- x1&#45;&gt;x5 -->\n",
       "<g id=\"edge5\" class=\"edge\">\n",
       "<title>x1&#45;&gt;x5</title>\n",
       "<path fill=\"none\" stroke=\"black\" d=\"M133.49,-263.6C121.67,-250.78 105.85,-230.88 99,-210 90.77,-184.9 91.62,-154.53 93.86,-133.1\"/>\n",
       "<polygon fill=\"black\" stroke=\"black\" points=\"97.34,-133.43 95.07,-123.08 90.39,-132.58 97.34,-133.43\"/>\n",
       "<text text-anchor=\"middle\" x=\"115\" y=\"-188.3\" font-family=\"Times,serif\" font-size=\"14.00\">0.91</text>\n",
       "</g>\n",
       "<!-- x2 -->\n",
       "<g id=\"node3\" class=\"node\">\n",
       "<title>x2</title>\n",
       "<ellipse fill=\"none\" stroke=\"black\" cx=\"258\" cy=\"-279\" rx=\"27\" ry=\"18\"/>\n",
       "<text text-anchor=\"middle\" x=\"258\" y=\"-275.3\" font-family=\"Times,serif\" font-size=\"14.00\">x2</text>\n",
       "</g>\n",
       "<!-- x2&#45;&gt;x4 -->\n",
       "<g id=\"edge3\" class=\"edge\">\n",
       "<title>x2&#45;&gt;x4</title>\n",
       "<path fill=\"none\" stroke=\"black\" d=\"M254.16,-260.8C251.54,-249.09 248.02,-233.34 245.03,-219.97\"/>\n",
       "<polygon fill=\"black\" stroke=\"black\" points=\"248.37,-218.88 242.77,-209.89 241.54,-220.41 248.37,-218.88\"/>\n",
       "<text text-anchor=\"middle\" x=\"265\" y=\"-231.8\" font-family=\"Times,serif\" font-size=\"14.00\">0.54</text>\n",
       "</g>\n",
       "<!-- x3&#45;&gt;x5 -->\n",
       "<g id=\"edge6\" class=\"edge\">\n",
       "<title>x3&#45;&gt;x5</title>\n",
       "<path fill=\"none\" stroke=\"black\" d=\"M152.95,-176.31C147.23,-170.17 140.65,-162.86 135,-156 128.17,-147.71 121.07,-138.31 114.93,-129.92\"/>\n",
       "<polygon fill=\"black\" stroke=\"black\" points=\"117.63,-127.69 108.93,-121.63 111.96,-131.79 117.63,-127.69\"/>\n",
       "<text text-anchor=\"middle\" x=\"151\" y=\"-144.8\" font-family=\"Times,serif\" font-size=\"14.00\">0.43</text>\n",
       "</g>\n",
       "<!-- x6 -->\n",
       "<g id=\"node7\" class=\"node\">\n",
       "<title>x6</title>\n",
       "<ellipse fill=\"none\" stroke=\"black\" cx=\"178\" cy=\"-105\" rx=\"27\" ry=\"18\"/>\n",
       "<text text-anchor=\"middle\" x=\"178\" y=\"-101.3\" font-family=\"Times,serif\" font-size=\"14.00\">x6</text>\n",
       "</g>\n",
       "<!-- x3&#45;&gt;x6 -->\n",
       "<g id=\"edge7\" class=\"edge\">\n",
       "<title>x3&#45;&gt;x6</title>\n",
       "<path fill=\"none\" stroke=\"black\" d=\"M169.23,-173.8C170.73,-162.16 172.75,-146.55 174.48,-133.24\"/>\n",
       "<polygon fill=\"black\" stroke=\"black\" points=\"177.96,-133.54 175.78,-123.18 171.02,-132.64 177.96,-133.54\"/>\n",
       "<text text-anchor=\"middle\" x=\"189\" y=\"-144.8\" font-family=\"Times,serif\" font-size=\"14.00\">1.96</text>\n",
       "</g>\n",
       "<!-- x4&#45;&gt;x6 -->\n",
       "<g id=\"edge8\" class=\"edge\">\n",
       "<title>x4&#45;&gt;x6</title>\n",
       "<path fill=\"none\" stroke=\"black\" d=\"M230.26,-174.76C224.63,-164.73 216.9,-151.78 209,-141 205.84,-136.69 202.26,-132.29 198.68,-128.12\"/>\n",
       "<polygon fill=\"black\" stroke=\"black\" points=\"201.16,-125.64 191.91,-120.48 195.92,-130.28 201.16,-125.64\"/>\n",
       "<text text-anchor=\"middle\" x=\"234\" y=\"-144.8\" font-family=\"Times,serif\" font-size=\"14.00\">0.69</text>\n",
       "</g>\n",
       "<!-- x7 -->\n",
       "<g id=\"node8\" class=\"node\">\n",
       "<title>x7</title>\n",
       "<ellipse fill=\"none\" stroke=\"black\" cx=\"133\" cy=\"-18\" rx=\"27\" ry=\"18\"/>\n",
       "<text text-anchor=\"middle\" x=\"133\" y=\"-14.3\" font-family=\"Times,serif\" font-size=\"14.00\">x7</text>\n",
       "</g>\n",
       "<!-- x5&#45;&gt;x7 -->\n",
       "<g id=\"edge9\" class=\"edge\">\n",
       "<title>x5&#45;&gt;x7</title>\n",
       "<path fill=\"none\" stroke=\"black\" d=\"M101.09,-86.9C103.2,-77.04 106.45,-64.54 111,-54 112.59,-50.32 114.53,-46.59 116.59,-42.99\"/>\n",
       "<polygon fill=\"black\" stroke=\"black\" points=\"119.58,-44.81 121.85,-34.46 113.62,-41.14 119.58,-44.81\"/>\n",
       "<text text-anchor=\"middle\" x=\"127\" y=\"-57.8\" font-family=\"Times,serif\" font-size=\"14.00\">0.88</text>\n",
       "</g>\n",
       "<!-- x6&#45;&gt;x7 -->\n",
       "<g id=\"edge10\" class=\"edge\">\n",
       "<title>x6&#45;&gt;x7</title>\n",
       "<path fill=\"none\" stroke=\"black\" d=\"M169.32,-87.61C162.85,-75.38 153.88,-58.44 146.48,-44.46\"/>\n",
       "<polygon fill=\"black\" stroke=\"black\" points=\"149.42,-42.54 141.65,-35.34 143.24,-45.81 149.42,-42.54\"/>\n",
       "<text text-anchor=\"middle\" x=\"174\" y=\"-57.8\" font-family=\"Times,serif\" font-size=\"14.00\">1.39</text>\n",
       "</g>\n",
       "</g>\n",
       "</svg>\n"
      ],
      "text/plain": [
       "<graphviz.graphs.Digraph at 0x7f23457a4580>"
      ]
     },
     "execution_count": 4,
     "metadata": {},
     "output_type": "execute_result"
    }
   ],
   "source": [
    "make_dot(m, lower_limit=0)"
   ]
  },
  {
   "cell_type": "markdown",
   "id": "d66aaef1-95ab-4c75-9e0a-b2e2defd65f0",
   "metadata": {},
   "source": [
    "### データの生成\n",
    "\n",
    "隣接行列に従ってデータを生成する。x1 と x7 を 0 または 1 の値を持つ離散的な順序変数とする。"
   ]
  },
  {
   "cell_type": "code",
   "execution_count": 5,
   "id": "3cc116e3-da1c-483b-9913-2f07e888087f",
   "metadata": {
    "tags": []
   },
   "outputs": [],
   "source": [
    "# 設定\n",
    "n_sample = 1000\n",
    "discrete_indices = [0, 7]\n",
    "\n",
    "# テストデータの初期化\n",
    "X = np.zeros((len(m), n_sample))\n",
    "\n",
    "# 因果順序に従ってデータを生成\n",
    "for i in range(len(m)):\n",
    "    if i not in discrete_indices:\n",
    "        X[i] = m.iloc[i] @ X + np.random.uniform(-1.732, 1.732, size=n_sample)\n",
    "    else:\n",
    "        X[i] = (expit(m.iloc[i] @ X) >= np.random.uniform(0, 1, size=n_sample)).astype(int)\n",
    "X = pd.DataFrame(X.T, columns=names)\n",
    "\n",
    "# 離散変数をintに、連続変数をfloatに変換\n",
    "dtypes = {}\n",
    "for i, name in enumerate(names):\n",
    "    dtypes[name] = int if i in discrete_indices else float\n",
    "X = X.astype(dtypes)"
   ]
  },
  {
   "cell_type": "markdown",
   "id": "859b62c4-923c-45c6-b168-ff39d7dac5b8",
   "metadata": {
    "tags": []
   },
   "source": [
    "データのヒストグラムは次の通り"
   ]
  },
  {
   "cell_type": "code",
   "execution_count": 6,
   "id": "2d865476-7ebc-4dd2-a68f-998e9a8b08fb",
   "metadata": {
    "tags": []
   },
   "outputs": [
    {
     "data": {
      "image/png": "[encoded data removed]",
      "text/plain": [
       "<Figure size 576x288 with 8 Axes>"
      ]
     },
     "metadata": {
      "needs_background": "light"
     },
     "output_type": "display_data"
    }
   ],
   "source": [
    "X.hist(layout=(2, 4), figsize=(8, 4))\n",
    "plt.tight_layout()\n",
    "plt.show()"
   ]
  },
  {
   "cell_type": "markdown",
   "id": "3770739b-7b6a-4179-b491-cd95249fb112",
   "metadata": {},
   "source": [
    "## 分析の実行\n",
    "\n",
    "作成したテストデータXから隣接行列を推定する。\n",
    "\n",
    "### 変数を3つの集合に分割\n",
    "\n"
   ]
  },
  {
   "cell_type": "code",
   "execution_count": null,
   "id": "3e8ad035-411a-4855-9304-4dfc669206b4",
   "metadata": {},
   "outputs": [],
   "source": []
  }
 ],
 "metadata": {
  "kernelspec": {
   "display_name": "Python 3 (ipykernel)",
   "language": "python",
   "name": "python3"
  },
  "language_info": {
   "codemirror_mode": {
    "name": "ipython",
    "version": 3
   },
   "file_extension": ".py",
   "mimetype": "text/x-python",
   "name": "python",
   "nbconvert_exporter": "python",
   "pygments_lexer": "ipython3",
   "version": "3.8.10"
  },
  "widgets": {
   "application/vnd.jupyter.widget-state+json": {
    "state": {},
    "version_major": 2,
    "version_minor": 0
   }
  }
 },
 "nbformat": 4,
 "nbformat_minor": 5
}
