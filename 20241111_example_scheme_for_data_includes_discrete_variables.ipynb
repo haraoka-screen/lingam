{
 "cells": [
  {
   "cell_type": "markdown",
   "id": "238aa27d-6cc3-49e1-9f06-7d12197448b7",
   "metadata": {
    "tags": []
   },
   "source": [
    "# \n",
    "\n",
    "このノートブックでは、外生変数と内生変数、シンク変数を仮定し、さらに外生変数とシンク変数に離散的な順序変数が含まれる場合の因果探索の実施方法を説明する。\n",
    "\n",
    "lingamパッケージに実装されたアルゴリズムは、基本的に離散変数が含まれたデータに適用することはできない。しかし外生変数やシンク変数に仮定した変数に離散変数が含まれる場合は、このノートブックで説明する工夫を取り入れることで、因果探索を実施することが可能になる。"
   ]
  },
  {
   "cell_type": "markdown",
   "id": "01b6e42b-2701-46ff-bc56-62bca3cee6dd",
   "metadata": {},
   "source": [
    "## 準備"
   ]
  },
  {
   "cell_type": "markdown",
   "id": "76d0d774-e77f-4351-a99d-edeeafd103e0",
   "metadata": {},
   "source": [
    "### ライブラリのインポート\n",
    "\n",
    "このノートブックで使用するライブラリをインポートする。"
   ]
  },
  {
   "cell_type": "code",
   "execution_count": 28,
   "id": "b9f1a5b7-49cc-494e-85a7-ace2d7c22ee8",
   "metadata": {
    "tags": []
   },
   "outputs": [],
   "source": [
    "import os\n",
    "import shutil\n",
    "import requests\n",
    "\n",
    "import numpy as np\n",
    "import pandas as pd\n",
    "from scipy.special import expit\n",
    "import semopy\n",
    "import networkx as nx\n",
    "\n",
    "from lingam import DirectLiNGAM\n",
    "from lingam.utils import remove_effect\n",
    "from lingam.utils import calculate_total_effect\n",
    "from lingam.bootstrap import BootstrapResult\n",
    "from sklearn.linear_model import LinearRegression\n",
    "from sklearn.linear_model import LogisticRegression\n",
    "from sklearn.utils import resample\n",
    "from sklearn.utils import check_array\n",
    "\n",
    "from lingam.utils import make_dot\n",
    "from lingam.utils import print_causal_directions\n",
    "from lingam.utils import print_dagc\n",
    "import matplotlib.pyplot as plt\n",
    "import graphviz as gv\n",
    "from IPython.display import display, Markdown"
   ]
  },
  {
   "cell_type": "markdown",
   "id": "45a8c68d-1704-4043-b66d-b54b1008109c",
   "metadata": {},
   "source": [
    "### ソースコードのダウンロードと設定\n",
    "\n",
    "このノートブックを実行するには、[ada_logistic_reg](https://github.com/cdt15/ada_logistic_reg) のソースコードのダウンロードと設定が必要となる。下記のコードを実行することでソースコードのダウンロードとインポートを実施できるが、別途Rのインストールや設定と、glmnetパッケージのインストールが必要となる。"
   ]
  },
  {
   "cell_type": "code",
   "execution_count": 2,
   "id": "2ab9a58b-5eb4-47df-ad25-aa1bbfbbe1e5",
   "metadata": {
    "tags": []
   },
   "outputs": [],
   "source": [
    "def _get_code(url, dirname=\".\"):\n",
    "    res = requests.get(url)\n",
    "    if res.status_code != 200:\n",
    "        raise RuntimeError(\"Couldn't get a source code.\")\n",
    "    \n",
    "    with open(dirname + os.sep + url.split(\"/\")[-1], \"w\") as f:\n",
    "        f.write(res.text)\n",
    "\n",
    "dirname = \"ada_log_reg\"\n",
    "if os.path.isdir(dirname):\n",
    "    shutil.rmtree(dirname)\n",
    "os.mkdir(dirname)\n",
    "\n",
    "_get_code(\"https://raw.githubusercontent.com/cdt15/ada_logistic_reg/refs/heads/main/ada_logistic_reg/_adaptive_logistic_regression.py\", dirname=dirname)\n",
    "_get_code(\"https://raw.githubusercontent.com/cdt15/ada_logistic_reg/refs/heads/main/ada_logistic_reg/adaptive_logistic_regression.r\", dirname=dirname)\n",
    "_get_code(\"https://raw.githubusercontent.com/cdt15/ada_logistic_reg/refs/heads/main/ada_logistic_reg/__init__.py\", dirname=dirname)\n",
    "\n",
    "from ada_log_reg import predict_adaptive_logistic_regression\n",
    "\n",
    "# define an interface like scikit-learn\n",
    "class AdaptiveLogisticRegression:\n",
    "\n",
    "    def fit(self, X, y):\n",
    "        X = check_array(X)\n",
    "        y = check_array(y, ensure_2d=False, dtype=int)\n",
    "        \n",
    "        X_ = np.concatenate([X, y.reshape(-1, 1)], axis=1)\n",
    "        \n",
    "        predictors = np.arange(len(X.T))\n",
    "        target = X_.shape[1] - 1\n",
    "        \n",
    "        coef = predict_adaptive_logistic_regression(X_, predictors, target)\n",
    "        \n",
    "        self.coef_ = coef"
   ]
  },
  {
   "cell_type": "markdown",
   "id": "cba6ffa9-2362-4130-b6d4-36bce1c36395",
   "metadata": {},
   "source": [
    "### 乱数の設定\n",
    "\n",
    "乱数の種を固定するための設定を行う。"
   ]
  },
  {
   "cell_type": "code",
   "execution_count": 3,
   "id": "1f9518f6-c49b-403c-a059-bef5acf35696",
   "metadata": {
    "tags": []
   },
   "outputs": [],
   "source": [
    "np.random.seed(0)"
   ]
  },
  {
   "cell_type": "markdown",
   "id": "2dab5c26-2749-4443-8e6d-a7de37979b5b",
   "metadata": {},
   "source": [
    "## テストデータ\n",
    "\n",
    "### 隣接行列"
   ]
  },
  {
   "cell_type": "code",
   "execution_count": 4,
   "id": "ca9cab03-fea9-4ee8-a433-30c1944ad1e3",
   "metadata": {
    "tags": []
   },
   "outputs": [
    {
     "data": {
      "text/html": [
       "<div>\n",
       "<style scoped>\n",
       "    .dataframe tbody tr th:only-of-type {\n",
       "        vertical-align: middle;\n",
       "    }\n",
       "\n",
       "    .dataframe tbody tr th {\n",
       "        vertical-align: top;\n",
       "    }\n",
       "\n",
       "    .dataframe thead th {\n",
       "        text-align: right;\n",
       "    }\n",
       "</style>\n",
       "<table border=\"1\" class=\"dataframe\">\n",
       "  <thead>\n",
       "    <tr style=\"text-align: right;\">\n",
       "      <th></th>\n",
       "      <th>x0</th>\n",
       "      <th>x1</th>\n",
       "      <th>x2</th>\n",
       "      <th>x3</th>\n",
       "      <th>x4</th>\n",
       "      <th>x5</th>\n",
       "      <th>x6</th>\n",
       "      <th>x7</th>\n",
       "    </tr>\n",
       "  </thead>\n",
       "  <tbody>\n",
       "    <tr>\n",
       "      <th>x0</th>\n",
       "      <td>0.000</td>\n",
       "      <td>0.000</td>\n",
       "      <td>0.000</td>\n",
       "      <td>0.000</td>\n",
       "      <td>0.000</td>\n",
       "      <td>0.000</td>\n",
       "      <td>0.000</td>\n",
       "      <td>0.0</td>\n",
       "    </tr>\n",
       "    <tr>\n",
       "      <th>x1</th>\n",
       "      <td>0.000</td>\n",
       "      <td>0.000</td>\n",
       "      <td>0.000</td>\n",
       "      <td>0.000</td>\n",
       "      <td>0.000</td>\n",
       "      <td>0.000</td>\n",
       "      <td>0.000</td>\n",
       "      <td>0.0</td>\n",
       "    </tr>\n",
       "    <tr>\n",
       "      <th>x2</th>\n",
       "      <td>0.000</td>\n",
       "      <td>0.000</td>\n",
       "      <td>0.000</td>\n",
       "      <td>0.000</td>\n",
       "      <td>0.000</td>\n",
       "      <td>0.000</td>\n",
       "      <td>0.000</td>\n",
       "      <td>0.0</td>\n",
       "    </tr>\n",
       "    <tr>\n",
       "      <th>x3</th>\n",
       "      <td>0.000</td>\n",
       "      <td>1.043</td>\n",
       "      <td>0.000</td>\n",
       "      <td>0.000</td>\n",
       "      <td>0.000</td>\n",
       "      <td>0.000</td>\n",
       "      <td>0.000</td>\n",
       "      <td>0.0</td>\n",
       "    </tr>\n",
       "    <tr>\n",
       "      <th>x4</th>\n",
       "      <td>0.000</td>\n",
       "      <td>1.727</td>\n",
       "      <td>0.537</td>\n",
       "      <td>0.000</td>\n",
       "      <td>0.000</td>\n",
       "      <td>0.000</td>\n",
       "      <td>0.000</td>\n",
       "      <td>0.0</td>\n",
       "    </tr>\n",
       "    <tr>\n",
       "      <th>x5</th>\n",
       "      <td>1.041</td>\n",
       "      <td>0.911</td>\n",
       "      <td>0.000</td>\n",
       "      <td>0.427</td>\n",
       "      <td>0.000</td>\n",
       "      <td>0.000</td>\n",
       "      <td>0.000</td>\n",
       "      <td>0.0</td>\n",
       "    </tr>\n",
       "    <tr>\n",
       "      <th>x6</th>\n",
       "      <td>0.000</td>\n",
       "      <td>0.000</td>\n",
       "      <td>0.000</td>\n",
       "      <td>1.960</td>\n",
       "      <td>0.691</td>\n",
       "      <td>0.000</td>\n",
       "      <td>0.000</td>\n",
       "      <td>0.0</td>\n",
       "    </tr>\n",
       "    <tr>\n",
       "      <th>x7</th>\n",
       "      <td>0.000</td>\n",
       "      <td>0.000</td>\n",
       "      <td>0.000</td>\n",
       "      <td>0.000</td>\n",
       "      <td>0.000</td>\n",
       "      <td>0.883</td>\n",
       "      <td>1.385</td>\n",
       "      <td>0.0</td>\n",
       "    </tr>\n",
       "  </tbody>\n",
       "</table>\n",
       "</div>"
      ],
      "text/plain": [
       "       x0     x1     x2     x3     x4     x5     x6   x7\n",
       "x0  0.000  0.000  0.000  0.000  0.000  0.000  0.000  0.0\n",
       "x1  0.000  0.000  0.000  0.000  0.000  0.000  0.000  0.0\n",
       "x2  0.000  0.000  0.000  0.000  0.000  0.000  0.000  0.0\n",
       "x3  0.000  1.043  0.000  0.000  0.000  0.000  0.000  0.0\n",
       "x4  0.000  1.727  0.537  0.000  0.000  0.000  0.000  0.0\n",
       "x5  1.041  0.911  0.000  0.427  0.000  0.000  0.000  0.0\n",
       "x6  0.000  0.000  0.000  1.960  0.691  0.000  0.000  0.0\n",
       "x7  0.000  0.000  0.000  0.000  0.000  0.883  1.385  0.0"
      ]
     },
     "execution_count": 4,
     "metadata": {},
     "output_type": "execute_result"
    }
   ],
   "source": [
    "m = np.array([\n",
    "    [0.000, 0.000, 0.000, 0.000, 0.000, 0.000, 0.000, 0.000],\n",
    "    [0.000, 0.000, 0.000, 0.000, 0.000, 0.000, 0.000, 0.000],\n",
    "    [0.000, 0.000, 0.000, 0.000, 0.000, 0.000, 0.000, 0.000],\n",
    "    [0.000, 1.043, 0.000, 0.000, 0.000, 0.000, 0.000, 0.000],\n",
    "    [0.000, 1.727, 0.537, 0.000, 0.000, 0.000, 0.000, 0.000],\n",
    "    [1.041, 0.911, 0.000, 0.427, 0.000, 0.000, 0.000, 0.000],\n",
    "    [0.000, 0.000, 0.000, 1.960, 0.691, 0.000, 0.000, 0.000],\n",
    "    [0.000, 0.000, 0.000, 0.000, 0.000, 0.883, 1.385, 0.000],\n",
    "])\n",
    "\n",
    "names = [f\"x{i}\" for i in range(len(m))]\n",
    "m = pd.DataFrame(m, columns=names, index=names)\n",
    "\n",
    "m"
   ]
  },
  {
   "cell_type": "markdown",
   "id": "7a88272c-6c64-472d-9936-e8998e037ede",
   "metadata": {},
   "source": [
    "この隣接行列を因果グラフとして描画した図は次の通り:"
   ]
  },
  {
   "cell_type": "code",
   "execution_count": 5,
   "id": "89f1e8dc-78a3-4dcd-bd50-6f279f003ae3",
   "metadata": {
    "tags": []
   },
   "outputs": [
    {
     "data": {
      "image/svg+xml": [
       "<?xml version=\"1.0\" encoding=\"UTF-8\" standalone=\"no\"?>\n",
       "<!DOCTYPE svg PUBLIC \"-//W3C//DTD SVG 1.1//EN\"\n",
       " \"http://www.w3.org/Graphics/SVG/1.1/DTD/svg11.dtd\">\n",
       "<!-- Generated by graphviz version 2.43.0 (0)\n",
       " -->\n",
       "<!-- Title: %3 Pages: 1 -->\n",
       "<svg width=\"293pt\" height=\"305pt\"\n",
       " viewBox=\"0.00 0.00 293.00 305.00\" xmlns=\"http://www.w3.org/2000/svg\" xmlns:xlink=\"http://www.w3.org/1999/xlink\">\n",
       "<g id=\"graph0\" class=\"graph\" transform=\"scale(1 1) rotate(0) translate(4 301)\">\n",
       "<title>%3</title>\n",
       "<polygon fill=\"white\" stroke=\"transparent\" points=\"-4,4 -4,-301 289,-301 289,4 -4,4\"/>\n",
       "<!-- x0 -->\n",
       "<g id=\"node1\" class=\"node\">\n",
       "<title>x0</title>\n",
       "<ellipse fill=\"none\" stroke=\"black\" cx=\"27\" cy=\"-192\" rx=\"27\" ry=\"18\"/>\n",
       "<text text-anchor=\"middle\" x=\"27\" y=\"-188.3\" font-family=\"Times,serif\" font-size=\"14.00\">x0</text>\n",
       "</g>\n",
       "<!-- x5 -->\n",
       "<g id=\"node6\" class=\"node\">\n",
       "<title>x5</title>\n",
       "<ellipse fill=\"none\" stroke=\"black\" cx=\"98\" cy=\"-105\" rx=\"27\" ry=\"18\"/>\n",
       "<text text-anchor=\"middle\" x=\"98\" y=\"-101.3\" font-family=\"Times,serif\" font-size=\"14.00\">x5</text>\n",
       "</g>\n",
       "<!-- x0&#45;&gt;x5 -->\n",
       "<g id=\"edge4\" class=\"edge\">\n",
       "<title>x0&#45;&gt;x5</title>\n",
       "<path fill=\"none\" stroke=\"black\" d=\"M29.87,-173.89C32.28,-163.54 36.56,-150.55 44,-141 50.27,-132.95 58.93,-126.2 67.49,-120.83\"/>\n",
       "<polygon fill=\"black\" stroke=\"black\" points=\"69.36,-123.79 76.26,-115.75 65.85,-117.73 69.36,-123.79\"/>\n",
       "<text text-anchor=\"middle\" x=\"60\" y=\"-144.8\" font-family=\"Times,serif\" font-size=\"14.00\">1.04</text>\n",
       "</g>\n",
       "<!-- x1 -->\n",
       "<g id=\"node2\" class=\"node\">\n",
       "<title>x1</title>\n",
       "<ellipse fill=\"none\" stroke=\"black\" cx=\"148\" cy=\"-279\" rx=\"27\" ry=\"18\"/>\n",
       "<text text-anchor=\"middle\" x=\"148\" y=\"-275.3\" font-family=\"Times,serif\" font-size=\"14.00\">x1</text>\n",
       "</g>\n",
       "<!-- x3 -->\n",
       "<g id=\"node4\" class=\"node\">\n",
       "<title>x3</title>\n",
       "<ellipse fill=\"none\" stroke=\"black\" cx=\"167\" cy=\"-192\" rx=\"27\" ry=\"18\"/>\n",
       "<text text-anchor=\"middle\" x=\"167\" y=\"-188.3\" font-family=\"Times,serif\" font-size=\"14.00\">x3</text>\n",
       "</g>\n",
       "<!-- x1&#45;&gt;x3 -->\n",
       "<g id=\"edge1\" class=\"edge\">\n",
       "<title>x1&#45;&gt;x3</title>\n",
       "<path fill=\"none\" stroke=\"black\" d=\"M146.44,-260.62C146.04,-250.88 146.32,-238.61 149,-228 149.86,-224.58 151.11,-221.12 152.55,-217.78\"/>\n",
       "<polygon fill=\"black\" stroke=\"black\" points=\"155.7,-219.29 156.96,-208.77 149.42,-216.21 155.7,-219.29\"/>\n",
       "<text text-anchor=\"middle\" x=\"165\" y=\"-231.8\" font-family=\"Times,serif\" font-size=\"14.00\">1.04</text>\n",
       "</g>\n",
       "<!-- x4 -->\n",
       "<g id=\"node5\" class=\"node\">\n",
       "<title>x4</title>\n",
       "<ellipse fill=\"none\" stroke=\"black\" cx=\"239\" cy=\"-192\" rx=\"27\" ry=\"18\"/>\n",
       "<text text-anchor=\"middle\" x=\"239\" y=\"-188.3\" font-family=\"Times,serif\" font-size=\"14.00\">x4</text>\n",
       "</g>\n",
       "<!-- x1&#45;&gt;x4 -->\n",
       "<g id=\"edge2\" class=\"edge\">\n",
       "<title>x1&#45;&gt;x4</title>\n",
       "<path fill=\"none\" stroke=\"black\" d=\"M163.03,-263.96C177.52,-250.43 199.64,-229.77 216.28,-214.22\"/>\n",
       "<polygon fill=\"black\" stroke=\"black\" points=\"219.03,-216.44 223.95,-207.06 214.25,-211.33 219.03,-216.44\"/>\n",
       "<text text-anchor=\"middle\" x=\"214\" y=\"-231.8\" font-family=\"Times,serif\" font-size=\"14.00\">1.73</text>\n",
       "</g>\n",
       "<!-- x1&#45;&gt;x5 -->\n",
       "<g id=\"edge5\" class=\"edge\">\n",
       "<title>x1&#45;&gt;x5</title>\n",
       "<path fill=\"none\" stroke=\"black\" d=\"M133.49,-263.6C121.67,-250.78 105.85,-230.88 99,-210 90.77,-184.9 91.62,-154.53 93.86,-133.1\"/>\n",
       "<polygon fill=\"black\" stroke=\"black\" points=\"97.34,-133.43 95.07,-123.08 90.39,-132.58 97.34,-133.43\"/>\n",
       "<text text-anchor=\"middle\" x=\"115\" y=\"-188.3\" font-family=\"Times,serif\" font-size=\"14.00\">0.91</text>\n",
       "</g>\n",
       "<!-- x2 -->\n",
       "<g id=\"node3\" class=\"node\">\n",
       "<title>x2</title>\n",
       "<ellipse fill=\"none\" stroke=\"black\" cx=\"258\" cy=\"-279\" rx=\"27\" ry=\"18\"/>\n",
       "<text text-anchor=\"middle\" x=\"258\" y=\"-275.3\" font-family=\"Times,serif\" font-size=\"14.00\">x2</text>\n",
       "</g>\n",
       "<!-- x2&#45;&gt;x4 -->\n",
       "<g id=\"edge3\" class=\"edge\">\n",
       "<title>x2&#45;&gt;x4</title>\n",
       "<path fill=\"none\" stroke=\"black\" d=\"M254.16,-260.8C251.54,-249.09 248.02,-233.34 245.03,-219.97\"/>\n",
       "<polygon fill=\"black\" stroke=\"black\" points=\"248.37,-218.88 242.77,-209.89 241.54,-220.41 248.37,-218.88\"/>\n",
       "<text text-anchor=\"middle\" x=\"265\" y=\"-231.8\" font-family=\"Times,serif\" font-size=\"14.00\">0.54</text>\n",
       "</g>\n",
       "<!-- x3&#45;&gt;x5 -->\n",
       "<g id=\"edge6\" class=\"edge\">\n",
       "<title>x3&#45;&gt;x5</title>\n",
       "<path fill=\"none\" stroke=\"black\" d=\"M152.95,-176.31C147.23,-170.17 140.65,-162.86 135,-156 128.17,-147.71 121.07,-138.31 114.93,-129.92\"/>\n",
       "<polygon fill=\"black\" stroke=\"black\" points=\"117.63,-127.69 108.93,-121.63 111.96,-131.79 117.63,-127.69\"/>\n",
       "<text text-anchor=\"middle\" x=\"151\" y=\"-144.8\" font-family=\"Times,serif\" font-size=\"14.00\">0.43</text>\n",
       "</g>\n",
       "<!-- x6 -->\n",
       "<g id=\"node7\" class=\"node\">\n",
       "<title>x6</title>\n",
       "<ellipse fill=\"none\" stroke=\"black\" cx=\"178\" cy=\"-105\" rx=\"27\" ry=\"18\"/>\n",
       "<text text-anchor=\"middle\" x=\"178\" y=\"-101.3\" font-family=\"Times,serif\" font-size=\"14.00\">x6</text>\n",
       "</g>\n",
       "<!-- x3&#45;&gt;x6 -->\n",
       "<g id=\"edge7\" class=\"edge\">\n",
       "<title>x3&#45;&gt;x6</title>\n",
       "<path fill=\"none\" stroke=\"black\" d=\"M169.23,-173.8C170.73,-162.16 172.75,-146.55 174.48,-133.24\"/>\n",
       "<polygon fill=\"black\" stroke=\"black\" points=\"177.96,-133.54 175.78,-123.18 171.02,-132.64 177.96,-133.54\"/>\n",
       "<text text-anchor=\"middle\" x=\"189\" y=\"-144.8\" font-family=\"Times,serif\" font-size=\"14.00\">1.96</text>\n",
       "</g>\n",
       "<!-- x4&#45;&gt;x6 -->\n",
       "<g id=\"edge8\" class=\"edge\">\n",
       "<title>x4&#45;&gt;x6</title>\n",
       "<path fill=\"none\" stroke=\"black\" d=\"M230.26,-174.76C224.63,-164.73 216.9,-151.78 209,-141 205.84,-136.69 202.26,-132.29 198.68,-128.12\"/>\n",
       "<polygon fill=\"black\" stroke=\"black\" points=\"201.16,-125.64 191.91,-120.48 195.92,-130.28 201.16,-125.64\"/>\n",
       "<text text-anchor=\"middle\" x=\"234\" y=\"-144.8\" font-family=\"Times,serif\" font-size=\"14.00\">0.69</text>\n",
       "</g>\n",
       "<!-- x7 -->\n",
       "<g id=\"node8\" class=\"node\">\n",
       "<title>x7</title>\n",
       "<ellipse fill=\"none\" stroke=\"black\" cx=\"133\" cy=\"-18\" rx=\"27\" ry=\"18\"/>\n",
       "<text text-anchor=\"middle\" x=\"133\" y=\"-14.3\" font-family=\"Times,serif\" font-size=\"14.00\">x7</text>\n",
       "</g>\n",
       "<!-- x5&#45;&gt;x7 -->\n",
       "<g id=\"edge9\" class=\"edge\">\n",
       "<title>x5&#45;&gt;x7</title>\n",
       "<path fill=\"none\" stroke=\"black\" d=\"M101.09,-86.9C103.2,-77.04 106.45,-64.54 111,-54 112.59,-50.32 114.53,-46.59 116.59,-42.99\"/>\n",
       "<polygon fill=\"black\" stroke=\"black\" points=\"119.58,-44.81 121.85,-34.46 113.62,-41.14 119.58,-44.81\"/>\n",
       "<text text-anchor=\"middle\" x=\"127\" y=\"-57.8\" font-family=\"Times,serif\" font-size=\"14.00\">0.88</text>\n",
       "</g>\n",
       "<!-- x6&#45;&gt;x7 -->\n",
       "<g id=\"edge10\" class=\"edge\">\n",
       "<title>x6&#45;&gt;x7</title>\n",
       "<path fill=\"none\" stroke=\"black\" d=\"M169.32,-87.61C162.85,-75.38 153.88,-58.44 146.48,-44.46\"/>\n",
       "<polygon fill=\"black\" stroke=\"black\" points=\"149.42,-42.54 141.65,-35.34 143.24,-45.81 149.42,-42.54\"/>\n",
       "<text text-anchor=\"middle\" x=\"174\" y=\"-57.8\" font-family=\"Times,serif\" font-size=\"14.00\">1.39</text>\n",
       "</g>\n",
       "</g>\n",
       "</svg>\n"
      ],
      "text/plain": [
       "<graphviz.graphs.Digraph at 0x7f74115b56a0>"
      ]
     },
     "execution_count": 5,
     "metadata": {},
     "output_type": "execute_result"
    }
   ],
   "source": [
    "make_dot(m, lower_limit=0)"
   ]
  },
  {
   "cell_type": "markdown",
   "id": "d66aaef1-95ab-4c75-9e0a-b2e2defd65f0",
   "metadata": {},
   "source": [
    "### データの生成\n",
    "\n",
    "隣接行列に従ってデータを生成する。x1 と x7 を 0 または 1 の値を持つ離散的な順序変数とする。"
   ]
  },
  {
   "cell_type": "code",
   "execution_count": 6,
   "id": "3cc116e3-da1c-483b-9913-2f07e888087f",
   "metadata": {
    "tags": []
   },
   "outputs": [],
   "source": [
    "# 設定\n",
    "n_sample = 1000\n",
    "discrete_indices = [0, 7]\n",
    "\n",
    "# テストデータの初期化\n",
    "X = np.zeros((len(m), n_sample))\n",
    "\n",
    "# 因果順序に従ってデータを生成\n",
    "for i in range(len(m)):\n",
    "    if i not in discrete_indices:\n",
    "        X[i] = m.iloc[i] @ X + np.random.uniform(-1.732, 1.732, size=n_sample)\n",
    "    else:\n",
    "        X[i] = (expit(m.iloc[i] @ X) >= np.random.uniform(0, 1, size=n_sample)).astype(int)\n",
    "X = pd.DataFrame(X.T, columns=names)\n",
    "\n",
    "# 離散変数をintに、連続変数をfloatに変換\n",
    "dtypes = {}\n",
    "for i, name in enumerate(names):\n",
    "    dtypes[name] = int if i in discrete_indices else float\n",
    "X = X.astype(dtypes)"
   ]
  },
  {
   "cell_type": "markdown",
   "id": "859b62c4-923c-45c6-b168-ff39d7dac5b8",
   "metadata": {
    "tags": []
   },
   "source": [
    "データのヒストグラムは次の通り"
   ]
  },
  {
   "cell_type": "code",
   "execution_count": 7,
   "id": "2d865476-7ebc-4dd2-a68f-998e9a8b08fb",
   "metadata": {
    "tags": []
   },
   "outputs": [
    {
     "data": {
      "image/png": "[encoded data removed]",
      "text/plain": [
       "<Figure size 576x288 with 8 Axes>"
      ]
     },
     "metadata": {
      "needs_background": "light"
     },
     "output_type": "display_data"
    }
   ],
   "source": [
    "X.hist(layout=(2, 4), figsize=(8, 4))\n",
    "plt.tight_layout()\n",
    "plt.show()"
   ]
  },
  {
   "cell_type": "markdown",
   "id": "1b98e250-efcf-4e4d-9df5-e9e61a767d2c",
   "metadata": {},
   "source": [
    "データ型は次の通り。"
   ]
  },
  {
   "cell_type": "code",
   "execution_count": 8,
   "id": "43a1d918-da26-4513-9017-9a499bb18d2f",
   "metadata": {
    "tags": []
   },
   "outputs": [
    {
     "data": {
      "text/plain": [
       "x0      int64\n",
       "x1    float64\n",
       "x2    float64\n",
       "x3    float64\n",
       "x4    float64\n",
       "x5    float64\n",
       "x6    float64\n",
       "x7      int64\n",
       "dtype: object"
      ]
     },
     "execution_count": 8,
     "metadata": {},
     "output_type": "execute_result"
    }
   ],
   "source": [
    "X.dtypes"
   ]
  },
  {
   "cell_type": "markdown",
   "id": "3770739b-7b6a-4179-b491-cd95249fb112",
   "metadata": {},
   "source": [
    "## 分析\n",
    "\n",
    "作成したテストデータXから隣接行列を推定する。\n",
    "\n",
    "### 変数を3つのセットに分類\n",
    "\n",
    "データXの変数を、外生変数、内生変数、シンク変数の3種の変数集合に分類する。"
   ]
  },
  {
   "cell_type": "code",
   "execution_count": 9,
   "id": "3e8ad035-411a-4855-9304-4dfc669206b4",
   "metadata": {},
   "outputs": [],
   "source": [
    "exog_var_names = [\"x0\", \"x1\", \"x2\"]\n",
    "endog_var_names = [\"x3\", \"x4\", \"x5\", \"x6\"]\n",
    "sink_var_name = \"x7\""
   ]
  },
  {
   "cell_type": "markdown",
   "id": "16af6ad0-3721-4950-8dea-56bf11c11c31",
   "metadata": {},
   "source": [
    "因果グラフは次のようになる。"
   ]
  },
  {
   "cell_type": "code",
   "execution_count": 10,
   "id": "0d7ed0bb-f0d5-482b-b094-5227f5b1989a",
   "metadata": {
    "tags": []
   },
   "outputs": [
    {
     "data": {
      "image/svg+xml": [
       "<?xml version=\"1.0\" encoding=\"UTF-8\" standalone=\"no\"?>\n",
       "<!DOCTYPE svg PUBLIC \"-//W3C//DTD SVG 1.1//EN\"\n",
       " \"http://www.w3.org/Graphics/SVG/1.1/DTD/svg11.dtd\">\n",
       "<!-- Generated by graphviz version 2.43.0 (0)\n",
       " -->\n",
       "<!-- Title: %3 Pages: 1 -->\n",
       "<svg width=\"323pt\" height=\"402pt\"\n",
       " viewBox=\"0.00 0.00 323.00 402.00\" xmlns=\"http://www.w3.org/2000/svg\" xmlns:xlink=\"http://www.w3.org/1999/xlink\">\n",
       "<g id=\"graph0\" class=\"graph\" transform=\"scale(1 1) rotate(0) translate(4 398)\">\n",
       "<title>%3</title>\n",
       "<polygon fill=\"white\" stroke=\"transparent\" points=\"-4,4 -4,-398 319,-398 319,4 -4,4\"/>\n",
       "<g id=\"clust1\" class=\"cluster\">\n",
       "<title>cluster_exogenous</title>\n",
       "<polygon fill=\"none\" stroke=\"black\" points=\"93,-311 93,-386 307,-386 307,-311 93,-311\"/>\n",
       "<text text-anchor=\"middle\" x=\"200\" y=\"-370.8\" font-family=\"Times,serif\" font-size=\"14.00\">exogenous</text>\n",
       "</g>\n",
       "<g id=\"clust2\" class=\"cluster\">\n",
       "<title>cluster_endogenous</title>\n",
       "<polygon fill=\"none\" stroke=\"black\" points=\"8,-116 8,-278 184,-278 184,-116 8,-116\"/>\n",
       "<text text-anchor=\"middle\" x=\"96\" y=\"-262.8\" font-family=\"Times,serif\" font-size=\"14.00\">endogenous</text>\n",
       "</g>\n",
       "<g id=\"clust3\" class=\"cluster\">\n",
       "<title>cluster_sink</title>\n",
       "<polygon fill=\"none\" stroke=\"black\" points=\"77,-8 77,-83 147,-83 147,-8 77,-8\"/>\n",
       "<text text-anchor=\"middle\" x=\"112\" y=\"-67.8\" font-family=\"Times,serif\" font-size=\"14.00\">sink</text>\n",
       "</g>\n",
       "<!-- x0 -->\n",
       "<g id=\"node1\" class=\"node\">\n",
       "<title>x0</title>\n",
       "<ellipse fill=\"none\" stroke=\"black\" cx=\"272\" cy=\"-337\" rx=\"27\" ry=\"18\"/>\n",
       "<text text-anchor=\"middle\" x=\"272\" y=\"-333.3\" font-family=\"Times,serif\" font-size=\"14.00\">x0</text>\n",
       "</g>\n",
       "<!-- x5 -->\n",
       "<g id=\"node6\" class=\"node\">\n",
       "<title>x5</title>\n",
       "<ellipse fill=\"none\" stroke=\"black\" cx=\"149\" cy=\"-142\" rx=\"27\" ry=\"18\"/>\n",
       "<text text-anchor=\"middle\" x=\"149\" y=\"-138.3\" font-family=\"Times,serif\" font-size=\"14.00\">x5</text>\n",
       "</g>\n",
       "<!-- x0&#45;&gt;x5 -->\n",
       "<g id=\"edge4\" class=\"edge\">\n",
       "<title>x0&#45;&gt;x5</title>\n",
       "<path fill=\"none\" stroke=\"black\" d=\"M266.07,-319.34C256.82,-294.52 237.46,-246.9 213,-211 201.25,-193.75 185.13,-176.66 172.01,-163.92\"/>\n",
       "<polygon fill=\"black\" stroke=\"black\" points=\"174.35,-161.31 164.69,-156.96 169.52,-166.38 174.35,-161.31\"/>\n",
       "<text text-anchor=\"middle\" x=\"264\" y=\"-225.3\" font-family=\"Times,serif\" font-size=\"14.00\">1.04</text>\n",
       "</g>\n",
       "<!-- x1 -->\n",
       "<g id=\"node2\" class=\"node\">\n",
       "<title>x1</title>\n",
       "<ellipse fill=\"none\" stroke=\"black\" cx=\"128\" cy=\"-337\" rx=\"27\" ry=\"18\"/>\n",
       "<text text-anchor=\"middle\" x=\"128\" y=\"-333.3\" font-family=\"Times,serif\" font-size=\"14.00\">x1</text>\n",
       "</g>\n",
       "<!-- x3 -->\n",
       "<g id=\"node4\" class=\"node\">\n",
       "<title>x3</title>\n",
       "<ellipse fill=\"none\" stroke=\"black\" cx=\"56\" cy=\"-229\" rx=\"27\" ry=\"18\"/>\n",
       "<text text-anchor=\"middle\" x=\"56\" y=\"-225.3\" font-family=\"Times,serif\" font-size=\"14.00\">x3</text>\n",
       "</g>\n",
       "<!-- x1&#45;&gt;x3 -->\n",
       "<g id=\"edge1\" class=\"edge\">\n",
       "<title>x1&#45;&gt;x3</title>\n",
       "<path fill=\"none\" stroke=\"black\" d=\"M111.77,-322.37C105.13,-316.27 97.68,-308.72 92,-301 81.85,-287.21 73.09,-270.13 66.75,-256.18\"/>\n",
       "<polygon fill=\"black\" stroke=\"black\" points=\"69.8,-254.42 62.58,-246.67 63.39,-257.23 69.8,-254.42\"/>\n",
       "<text text-anchor=\"middle\" x=\"108\" y=\"-289.8\" font-family=\"Times,serif\" font-size=\"14.00\">1.04</text>\n",
       "</g>\n",
       "<!-- x4 -->\n",
       "<g id=\"node5\" class=\"node\">\n",
       "<title>x4</title>\n",
       "<ellipse fill=\"none\" stroke=\"black\" cx=\"128\" cy=\"-229\" rx=\"27\" ry=\"18\"/>\n",
       "<text text-anchor=\"middle\" x=\"128\" y=\"-225.3\" font-family=\"Times,serif\" font-size=\"14.00\">x4</text>\n",
       "</g>\n",
       "<!-- x1&#45;&gt;x4 -->\n",
       "<g id=\"edge2\" class=\"edge\">\n",
       "<title>x1&#45;&gt;x4</title>\n",
       "<path fill=\"none\" stroke=\"black\" d=\"M128,-318.97C128,-302.38 128,-276.88 128,-257.43\"/>\n",
       "<polygon fill=\"black\" stroke=\"black\" points=\"131.5,-257.34 128,-247.34 124.5,-257.34 131.5,-257.34\"/>\n",
       "<text text-anchor=\"middle\" x=\"144\" y=\"-289.8\" font-family=\"Times,serif\" font-size=\"14.00\">1.73</text>\n",
       "</g>\n",
       "<!-- x1&#45;&gt;x5 -->\n",
       "<g id=\"edge5\" class=\"edge\">\n",
       "<title>x1&#45;&gt;x5</title>\n",
       "<path fill=\"none\" stroke=\"black\" d=\"M146.13,-323.45C153.1,-317.54 160.27,-309.83 164,-301 185.28,-250.64 174.99,-231.55 164,-178 163.37,-174.93 162.46,-171.79 161.39,-168.72\"/>\n",
       "<polygon fill=\"black\" stroke=\"black\" points=\"164.58,-167.26 157.6,-159.29 158.08,-169.87 164.58,-167.26\"/>\n",
       "<text text-anchor=\"middle\" x=\"193\" y=\"-225.3\" font-family=\"Times,serif\" font-size=\"14.00\">0.91</text>\n",
       "</g>\n",
       "<!-- x2 -->\n",
       "<g id=\"node3\" class=\"node\">\n",
       "<title>x2</title>\n",
       "<ellipse fill=\"none\" stroke=\"black\" cx=\"200\" cy=\"-337\" rx=\"27\" ry=\"18\"/>\n",
       "<text text-anchor=\"middle\" x=\"200\" y=\"-333.3\" font-family=\"Times,serif\" font-size=\"14.00\">x2</text>\n",
       "</g>\n",
       "<!-- x2&#45;&gt;x4 -->\n",
       "<g id=\"edge3\" class=\"edge\">\n",
       "<title>x2&#45;&gt;x4</title>\n",
       "<path fill=\"none\" stroke=\"black\" d=\"M189.38,-320.36C177.52,-302.9 158.19,-274.44 144.39,-254.13\"/>\n",
       "<polygon fill=\"black\" stroke=\"black\" points=\"147.18,-252.01 138.67,-245.7 141.39,-255.94 147.18,-252.01\"/>\n",
       "<text text-anchor=\"middle\" x=\"191\" y=\"-289.8\" font-family=\"Times,serif\" font-size=\"14.00\">0.54</text>\n",
       "</g>\n",
       "<!-- x3&#45;&gt;x5 -->\n",
       "<g id=\"edge6\" class=\"edge\">\n",
       "<title>x3&#45;&gt;x5</title>\n",
       "<path fill=\"none\" stroke=\"black\" d=\"M63.3,-211.18C68.49,-200.69 76.25,-187.43 86,-178 91.33,-172.84 105.25,-164.95 118.65,-157.96\"/>\n",
       "<polygon fill=\"black\" stroke=\"black\" points=\"120.43,-160.99 127.74,-153.32 117.24,-154.75 120.43,-160.99\"/>\n",
       "<text text-anchor=\"middle\" x=\"102\" y=\"-181.8\" font-family=\"Times,serif\" font-size=\"14.00\">0.43</text>\n",
       "</g>\n",
       "<!-- x6 -->\n",
       "<g id=\"node7\" class=\"node\">\n",
       "<title>x6</title>\n",
       "<ellipse fill=\"none\" stroke=\"black\" cx=\"77\" cy=\"-142\" rx=\"27\" ry=\"18\"/>\n",
       "<text text-anchor=\"middle\" x=\"77\" y=\"-138.3\" font-family=\"Times,serif\" font-size=\"14.00\">x6</text>\n",
       "</g>\n",
       "<!-- x3&#45;&gt;x6 -->\n",
       "<g id=\"edge7\" class=\"edge\">\n",
       "<title>x3&#45;&gt;x6</title>\n",
       "<path fill=\"none\" stroke=\"black\" d=\"M42.9,-212.98C35.84,-202.98 29.57,-189.6 35,-178 38.08,-171.42 43.08,-165.64 48.57,-160.78\"/>\n",
       "<polygon fill=\"black\" stroke=\"black\" points=\"51.1,-163.24 56.8,-154.31 46.78,-157.74 51.1,-163.24\"/>\n",
       "<text text-anchor=\"middle\" x=\"51\" y=\"-181.8\" font-family=\"Times,serif\" font-size=\"14.00\">1.96</text>\n",
       "</g>\n",
       "<!-- x4&#45;&gt;x6 -->\n",
       "<g id=\"edge8\" class=\"edge\">\n",
       "<title>x4&#45;&gt;x6</title>\n",
       "<path fill=\"none\" stroke=\"black\" d=\"M129.14,-210.78C129.05,-200.63 127.59,-187.89 122,-178 118.12,-171.13 112.28,-165.14 106.1,-160.16\"/>\n",
       "<polygon fill=\"black\" stroke=\"black\" points=\"107.74,-157.02 97.58,-153.99 103.63,-162.69 107.74,-157.02\"/>\n",
       "<text text-anchor=\"middle\" x=\"144\" y=\"-181.8\" font-family=\"Times,serif\" font-size=\"14.00\">0.69</text>\n",
       "</g>\n",
       "<!-- x7 -->\n",
       "<g id=\"node8\" class=\"node\">\n",
       "<title>x7</title>\n",
       "<ellipse fill=\"none\" stroke=\"black\" cx=\"112\" cy=\"-34\" rx=\"27\" ry=\"18\"/>\n",
       "<text text-anchor=\"middle\" x=\"112\" y=\"-30.3\" font-family=\"Times,serif\" font-size=\"14.00\">x7</text>\n",
       "</g>\n",
       "<!-- x5&#45;&gt;x7 -->\n",
       "<g id=\"edge9\" class=\"edge\">\n",
       "<title>x5&#45;&gt;x7</title>\n",
       "<path fill=\"none\" stroke=\"black\" d=\"M143.06,-123.97C137.14,-107.03 127.98,-80.79 121.14,-61.2\"/>\n",
       "<polygon fill=\"black\" stroke=\"black\" points=\"124.41,-59.93 117.81,-51.64 117.8,-62.23 124.41,-59.93\"/>\n",
       "<text text-anchor=\"middle\" x=\"152\" y=\"-94.8\" font-family=\"Times,serif\" font-size=\"14.00\">0.88</text>\n",
       "</g>\n",
       "<!-- x6&#45;&gt;x7 -->\n",
       "<g id=\"edge10\" class=\"edge\">\n",
       "<title>x6&#45;&gt;x7</title>\n",
       "<path fill=\"none\" stroke=\"black\" d=\"M80.95,-123.73C83.3,-114.03 86.51,-101.75 90,-91 93.23,-81.08 97.28,-70.38 101.03,-61.01\"/>\n",
       "<polygon fill=\"black\" stroke=\"black\" points=\"104.39,-62.05 104.93,-51.47 97.91,-59.41 104.39,-62.05\"/>\n",
       "<text text-anchor=\"middle\" x=\"106\" y=\"-94.8\" font-family=\"Times,serif\" font-size=\"14.00\">1.39</text>\n",
       "</g>\n",
       "</g>\n",
       "</svg>\n"
      ],
      "text/plain": [
       "<graphviz.graphs.Digraph at 0x7f7440af4970>"
      ]
     },
     "execution_count": 10,
     "metadata": {},
     "output_type": "execute_result"
    }
   ],
   "source": [
    "g = gv.Digraph()\n",
    "\n",
    "cluster_names = [\"exogenous\", \"endogenous\", \"sink\"]\n",
    "\n",
    "# add nodes\n",
    "for cluster_name, var_names in zip(cluster_names, [exog_var_names, endog_var_names, [sink_var_name]]):\n",
    "    # make subgraph\n",
    "    with g.subgraph(name=f\"cluster_{cluster_name}\") as sub:\n",
    "        for var_name in var_names:\n",
    "            sub.node(var_name, var_name)\n",
    "        sub.attr(label=f\"{cluster_name}\")\n",
    "\n",
    "# add edges\n",
    "for to_name, coefs in m.iterrows():\n",
    "    for from_name, coef in coefs.items():\n",
    "        if np.isclose(coef, 0):\n",
    "            continue\n",
    "        \n",
    "        g.edge(from_name, to_name, label=f\"{coef:.2f}\")\n",
    "\n",
    "g"
   ]
  },
  {
   "cell_type": "markdown",
   "id": "e7c3bf65-b416-48c0-a1e3-5ba2027c7ce9",
   "metadata": {},
   "source": [
    "### 分析の実行\n",
    "\n",
    "データXと3つの変数名リストをもとに、内生変数とシンク変数の因果関係を分析する。\n",
    "\n",
    "まずはデータXから外生変数の影響を削除する。"
   ]
  },
  {
   "cell_type": "code",
   "execution_count": 11,
   "id": "5e249cf3-9233-4ab4-b0be-85a153c3dd8e",
   "metadata": {
    "tags": []
   },
   "outputs": [],
   "source": [
    "X_removed_exog = X.copy()\n",
    "\n",
    "# 回帰により外生変数の効果を内生変数から取り除く\n",
    "for endog_var_name in endog_var_names:\n",
    "    # 回帰モデルの作成\n",
    "    reg = LinearRegression()\n",
    "    reg.fit(X[exog_var_names], X[endog_var_name])\n",
    "    \n",
    "    # 外生変数による効果の削除\n",
    "    X_removed_exog[endog_var_name] = X[endog_var_name] - reg.predict(X[exog_var_names])\n",
    "\n",
    "X_removed_exog = X_removed_exog.drop(exog_var_names, axis=1)"
   ]
  },
  {
   "cell_type": "markdown",
   "id": "285498a2-7667-4a67-84f7-c442795bf17b",
   "metadata": {},
   "source": [
    "外生変数の影響を削除したデータの内生変数に対して因果探索を実施する。"
   ]
  },
  {
   "cell_type": "code",
   "execution_count": 12,
   "id": "01bb4ca7-a89d-4dfe-9d5e-29d7e60ddf03",
   "metadata": {
    "tags": []
   },
   "outputs": [
    {
     "data": {
      "text/plain": [
       "array([[0.        , 0.        , 0.        , 0.        ],\n",
       "       [0.        , 0.        , 0.        , 0.        ],\n",
       "       [0.42269326, 0.        , 0.        , 0.        ],\n",
       "       [1.9185075 , 0.66491191, 0.        , 0.        ]])"
      ]
     },
     "execution_count": 12,
     "metadata": {},
     "output_type": "execute_result"
    }
   ],
   "source": [
    "cd_model = DirectLiNGAM()\n",
    "cd_model.fit(X_removed_exog[endog_var_names])\n",
    "\n",
    "cd_model.adjacency_matrix_"
   ]
  },
  {
   "cell_type": "markdown",
   "id": "d79904b8-9002-4733-b67d-b30104738d48",
   "metadata": {
    "tags": []
   },
   "source": [
    "次に内生変数を説明変数としてシンク変数のモデルを推定する。シンク変数は離散変数であるためロジスティック回帰モデルを使用する。"
   ]
  },
  {
   "cell_type": "code",
   "execution_count": 13,
   "id": "2a47f902-af22-425f-b6de-6a6c50191e05",
   "metadata": {
    "tags": []
   },
   "outputs": [
    {
     "data": {
      "text/plain": [
       "array([[-0.05914499, -0.09792208,  0.31392752,  0.3289729 ]])"
      ]
     },
     "execution_count": 13,
     "metadata": {},
     "output_type": "execute_result"
    }
   ],
   "source": [
    "sink_model = LogisticRegression(penalty=None)\n",
    "sink_model.fit(X_removed_exog[endog_var_names], X_removed_exog[sink_var_name])\n",
    "\n",
    "sink_model.coef_"
   ]
  },
  {
   "cell_type": "markdown",
   "id": "de551328-4d8f-4324-99cc-e8967c863c17",
   "metadata": {},
   "source": [
    "内生変数の隣接行列とシンク変数のモデルの係数をまとめて、ひとつの隣接行列にして、分析結果を得る。"
   ]
  },
  {
   "cell_type": "code",
   "execution_count": 14,
   "id": "4bb5cd4c-65f3-44ef-9dd3-4ae1ff45f6c1",
   "metadata": {
    "tags": []
   },
   "outputs": [
    {
     "data": {
      "text/html": [
       "<div>\n",
       "<style scoped>\n",
       "    .dataframe tbody tr th:only-of-type {\n",
       "        vertical-align: middle;\n",
       "    }\n",
       "\n",
       "    .dataframe tbody tr th {\n",
       "        vertical-align: top;\n",
       "    }\n",
       "\n",
       "    .dataframe thead th {\n",
       "        text-align: right;\n",
       "    }\n",
       "</style>\n",
       "<table border=\"1\" class=\"dataframe\">\n",
       "  <thead>\n",
       "    <tr style=\"text-align: right;\">\n",
       "      <th></th>\n",
       "      <th>x3</th>\n",
       "      <th>x4</th>\n",
       "      <th>x5</th>\n",
       "      <th>x6</th>\n",
       "      <th>x7</th>\n",
       "    </tr>\n",
       "  </thead>\n",
       "  <tbody>\n",
       "    <tr>\n",
       "      <th>x3</th>\n",
       "      <td>0.000000</td>\n",
       "      <td>0.000000</td>\n",
       "      <td>0.000000</td>\n",
       "      <td>0.000000</td>\n",
       "      <td>0.0</td>\n",
       "    </tr>\n",
       "    <tr>\n",
       "      <th>x4</th>\n",
       "      <td>0.000000</td>\n",
       "      <td>0.000000</td>\n",
       "      <td>0.000000</td>\n",
       "      <td>0.000000</td>\n",
       "      <td>0.0</td>\n",
       "    </tr>\n",
       "    <tr>\n",
       "      <th>x5</th>\n",
       "      <td>0.422693</td>\n",
       "      <td>0.000000</td>\n",
       "      <td>0.000000</td>\n",
       "      <td>0.000000</td>\n",
       "      <td>0.0</td>\n",
       "    </tr>\n",
       "    <tr>\n",
       "      <th>x6</th>\n",
       "      <td>1.918507</td>\n",
       "      <td>0.664912</td>\n",
       "      <td>0.000000</td>\n",
       "      <td>0.000000</td>\n",
       "      <td>0.0</td>\n",
       "    </tr>\n",
       "    <tr>\n",
       "      <th>x7</th>\n",
       "      <td>-0.059145</td>\n",
       "      <td>-0.097922</td>\n",
       "      <td>0.313928</td>\n",
       "      <td>0.328973</td>\n",
       "      <td>0.0</td>\n",
       "    </tr>\n",
       "  </tbody>\n",
       "</table>\n",
       "</div>"
      ],
      "text/plain": [
       "          x3        x4        x5        x6   x7\n",
       "x3  0.000000  0.000000  0.000000  0.000000  0.0\n",
       "x4  0.000000  0.000000  0.000000  0.000000  0.0\n",
       "x5  0.422693  0.000000  0.000000  0.000000  0.0\n",
       "x6  1.918507  0.664912  0.000000  0.000000  0.0\n",
       "x7 -0.059145 -0.097922  0.313928  0.328973  0.0"
      ]
     },
     "execution_count": 14,
     "metadata": {},
     "output_type": "execute_result"
    }
   ],
   "source": [
    "adj = np.concatenate([cd_model.adjacency_matrix_, sink_model.coef_])\n",
    "adj = np.concatenate([adj, np.zeros((len(adj), 1))], axis=1)\n",
    "\n",
    "cols = endog_var_names + [sink_var_name]\n",
    "adj = pd.DataFrame(adj, columns=cols, index=cols)\n",
    "\n",
    "adj"
   ]
  },
  {
   "cell_type": "markdown",
   "id": "9f7e3d62-35cb-48ef-93b4-1ba2c3c4a5e0",
   "metadata": {},
   "source": [
    "### 分析結果の可視化\n",
    "\n",
    "因果グラフは次の通り。"
   ]
  },
  {
   "cell_type": "code",
   "execution_count": 15,
   "id": "833d815b-7547-443c-b6e7-985cd8765ea5",
   "metadata": {
    "tags": []
   },
   "outputs": [
    {
     "data": {
      "image/svg+xml": [
       "<?xml version=\"1.0\" encoding=\"UTF-8\" standalone=\"no\"?>\n",
       "<!DOCTYPE svg PUBLIC \"-//W3C//DTD SVG 1.1//EN\"\n",
       " \"http://www.w3.org/Graphics/SVG/1.1/DTD/svg11.dtd\">\n",
       "<!-- Generated by graphviz version 2.43.0 (0)\n",
       " -->\n",
       "<!-- Title: %3 Pages: 1 -->\n",
       "<svg width=\"246pt\" height=\"218pt\"\n",
       " viewBox=\"0.00 0.00 246.44 218.00\" xmlns=\"http://www.w3.org/2000/svg\" xmlns:xlink=\"http://www.w3.org/1999/xlink\">\n",
       "<g id=\"graph0\" class=\"graph\" transform=\"scale(1 1) rotate(0) translate(4 214)\">\n",
       "<title>%3</title>\n",
       "<polygon fill=\"white\" stroke=\"transparent\" points=\"-4,4 -4,-214 242.44,-214 242.44,4 -4,4\"/>\n",
       "<!-- x3 -->\n",
       "<g id=\"node1\" class=\"node\">\n",
       "<title>x3</title>\n",
       "<ellipse fill=\"none\" stroke=\"black\" cx=\"56.44\" cy=\"-192\" rx=\"27\" ry=\"18\"/>\n",
       "<text text-anchor=\"middle\" x=\"56.44\" y=\"-188.3\" font-family=\"Times,serif\" font-size=\"14.00\">x3</text>\n",
       "</g>\n",
       "<!-- x5 -->\n",
       "<g id=\"node3\" class=\"node\">\n",
       "<title>x5</title>\n",
       "<ellipse fill=\"none\" stroke=\"black\" cx=\"78.44\" cy=\"-105\" rx=\"27\" ry=\"18\"/>\n",
       "<text text-anchor=\"middle\" x=\"78.44\" y=\"-101.3\" font-family=\"Times,serif\" font-size=\"14.00\">x5</text>\n",
       "</g>\n",
       "<!-- x3&#45;&gt;x5 -->\n",
       "<g id=\"edge1\" class=\"edge\">\n",
       "<title>x3&#45;&gt;x5</title>\n",
       "<path fill=\"none\" stroke=\"black\" d=\"M54.64,-174.01C54.12,-164.18 54.37,-151.68 57.44,-141 58.49,-137.38 60,-133.76 61.74,-130.29\"/>\n",
       "<polygon fill=\"black\" stroke=\"black\" points=\"64.81,-131.98 66.74,-121.56 58.73,-128.5 64.81,-131.98\"/>\n",
       "<text text-anchor=\"middle\" x=\"73.44\" y=\"-144.8\" font-family=\"Times,serif\" font-size=\"14.00\">0.42</text>\n",
       "</g>\n",
       "<!-- x6 -->\n",
       "<g id=\"node4\" class=\"node\">\n",
       "<title>x6</title>\n",
       "<ellipse fill=\"none\" stroke=\"black\" cx=\"150.44\" cy=\"-105\" rx=\"27\" ry=\"18\"/>\n",
       "<text text-anchor=\"middle\" x=\"150.44\" y=\"-101.3\" font-family=\"Times,serif\" font-size=\"14.00\">x6</text>\n",
       "</g>\n",
       "<!-- x3&#45;&gt;x6 -->\n",
       "<g id=\"edge2\" class=\"edge\">\n",
       "<title>x3&#45;&gt;x6</title>\n",
       "<path fill=\"none\" stroke=\"black\" d=\"M71.97,-176.96C87.07,-163.31 110.2,-142.39 127.44,-126.8\"/>\n",
       "<polygon fill=\"black\" stroke=\"black\" points=\"129.83,-129.36 134.9,-120.06 125.13,-124.17 129.83,-129.36\"/>\n",
       "<text text-anchor=\"middle\" x=\"124.44\" y=\"-144.8\" font-family=\"Times,serif\" font-size=\"14.00\">1.92</text>\n",
       "</g>\n",
       "<!-- x7 -->\n",
       "<g id=\"node5\" class=\"node\">\n",
       "<title>x7</title>\n",
       "<ellipse fill=\"none\" stroke=\"black\" cx=\"122.44\" cy=\"-18\" rx=\"27\" ry=\"18\"/>\n",
       "<text text-anchor=\"middle\" x=\"122.44\" y=\"-14.3\" font-family=\"Times,serif\" font-size=\"14.00\">x7</text>\n",
       "</g>\n",
       "<!-- x3&#45;&gt;x7 -->\n",
       "<g id=\"edge4\" class=\"edge\">\n",
       "<title>x3&#45;&gt;x7</title>\n",
       "<path fill=\"none\" stroke=\"black\" d=\"M40.86,-177.24C19.94,-157.04 -12.61,-118.37 5.44,-87 22.98,-56.53 59.98,-38.45 87.71,-28.68\"/>\n",
       "<polygon fill=\"black\" stroke=\"black\" points=\"89.06,-31.92 97.45,-25.45 86.86,-25.28 89.06,-31.92\"/>\n",
       "<text text-anchor=\"middle\" x=\"23.94\" y=\"-101.3\" font-family=\"Times,serif\" font-size=\"14.00\">&#45;0.06</text>\n",
       "</g>\n",
       "<!-- x4 -->\n",
       "<g id=\"node2\" class=\"node\">\n",
       "<title>x4</title>\n",
       "<ellipse fill=\"none\" stroke=\"black\" cx=\"189.44\" cy=\"-192\" rx=\"27\" ry=\"18\"/>\n",
       "<text text-anchor=\"middle\" x=\"189.44\" y=\"-188.3\" font-family=\"Times,serif\" font-size=\"14.00\">x4</text>\n",
       "</g>\n",
       "<!-- x4&#45;&gt;x6 -->\n",
       "<g id=\"edge3\" class=\"edge\">\n",
       "<title>x4&#45;&gt;x6</title>\n",
       "<path fill=\"none\" stroke=\"black\" d=\"M178.56,-175.42C174.72,-169.51 170.59,-162.61 167.44,-156 163.94,-148.63 160.81,-140.34 158.23,-132.67\"/>\n",
       "<polygon fill=\"black\" stroke=\"black\" points=\"161.54,-131.51 155.16,-123.05 154.87,-133.64 161.54,-131.51\"/>\n",
       "<text text-anchor=\"middle\" x=\"183.44\" y=\"-144.8\" font-family=\"Times,serif\" font-size=\"14.00\">0.66</text>\n",
       "</g>\n",
       "<!-- x4&#45;&gt;x7 -->\n",
       "<g id=\"edge5\" class=\"edge\">\n",
       "<title>x4&#45;&gt;x7</title>\n",
       "<path fill=\"none\" stroke=\"black\" d=\"M195.29,-174.11C196.99,-168.43 198.6,-162.01 199.44,-156 205.93,-109.67 202.58,-90.6 173.44,-54 167.56,-46.61 159.71,-40.17 151.93,-34.9\"/>\n",
       "<polygon fill=\"black\" stroke=\"black\" points=\"153.61,-31.82 143.28,-29.45 149.88,-37.74 153.61,-31.82\"/>\n",
       "<text text-anchor=\"middle\" x=\"219.94\" y=\"-101.3\" font-family=\"Times,serif\" font-size=\"14.00\">&#45;0.10</text>\n",
       "</g>\n",
       "<!-- x5&#45;&gt;x7 -->\n",
       "<g id=\"edge6\" class=\"edge\">\n",
       "<title>x5&#45;&gt;x7</title>\n",
       "<path fill=\"none\" stroke=\"black\" d=\"M84.05,-87.38C87.65,-77.45 92.72,-64.72 98.44,-54 100.38,-50.38 102.61,-46.67 104.92,-43.09\"/>\n",
       "<polygon fill=\"black\" stroke=\"black\" points=\"107.98,-44.81 110.68,-34.56 102.18,-40.89 107.98,-44.81\"/>\n",
       "<text text-anchor=\"middle\" x=\"114.44\" y=\"-57.8\" font-family=\"Times,serif\" font-size=\"14.00\">0.31</text>\n",
       "</g>\n",
       "<!-- x6&#45;&gt;x7 -->\n",
       "<g id=\"edge7\" class=\"edge\">\n",
       "<title>x6&#45;&gt;x7</title>\n",
       "<path fill=\"none\" stroke=\"black\" d=\"M144.91,-87.21C141,-75.33 135.68,-59.17 131.19,-45.56\"/>\n",
       "<polygon fill=\"black\" stroke=\"black\" points=\"134.42,-44.16 127.96,-35.76 127.77,-46.35 134.42,-44.16\"/>\n",
       "<text text-anchor=\"middle\" x=\"153.44\" y=\"-57.8\" font-family=\"Times,serif\" font-size=\"14.00\">0.33</text>\n",
       "</g>\n",
       "</g>\n",
       "</svg>\n"
      ],
      "text/plain": [
       "<graphviz.graphs.Digraph at 0x7f7440a7e880>"
      ]
     },
     "execution_count": 15,
     "metadata": {},
     "output_type": "execute_result"
    }
   ],
   "source": [
    "make_dot(adj, labels=adj.columns.tolist(), lower_limit=0.0)"
   ]
  },
  {
   "cell_type": "markdown",
   "id": "ab6fd2da-a16c-4f1f-8903-343ed2afea2d",
   "metadata": {},
   "source": [
    "### 適合度による評価\n",
    "\n",
    "推定した結果をSEMモデルと見なして適合度を計算する。"
   ]
  },
  {
   "cell_type": "code",
   "execution_count": 16,
   "id": "5e67243a-a9ad-4593-b893-77416bf91e6f",
   "metadata": {
    "tags": []
   },
   "outputs": [
    {
     "data": {
      "text/html": [
       "<div>\n",
       "<style scoped>\n",
       "    .dataframe tbody tr th:only-of-type {\n",
       "        vertical-align: middle;\n",
       "    }\n",
       "\n",
       "    .dataframe tbody tr th {\n",
       "        vertical-align: top;\n",
       "    }\n",
       "\n",
       "    .dataframe thead th {\n",
       "        text-align: right;\n",
       "    }\n",
       "</style>\n",
       "<table border=\"1\" class=\"dataframe\">\n",
       "  <thead>\n",
       "    <tr style=\"text-align: right;\">\n",
       "      <th></th>\n",
       "      <th>DoF</th>\n",
       "      <th>DoF Baseline</th>\n",
       "      <th>chi2</th>\n",
       "      <th>chi2 p-value</th>\n",
       "      <th>chi2 Baseline</th>\n",
       "      <th>CFI</th>\n",
       "      <th>GFI</th>\n",
       "      <th>AGFI</th>\n",
       "      <th>NFI</th>\n",
       "      <th>TLI</th>\n",
       "      <th>RMSEA</th>\n",
       "      <th>AIC</th>\n",
       "      <th>BIC</th>\n",
       "      <th>LogLik</th>\n",
       "    </tr>\n",
       "  </thead>\n",
       "  <tbody>\n",
       "    <tr>\n",
       "      <th>Value</th>\n",
       "      <td>12</td>\n",
       "      <td>12</td>\n",
       "      <td>1091.727363</td>\n",
       "      <td>0.0</td>\n",
       "      <td>1952.176012</td>\n",
       "      <td>0.44349</td>\n",
       "      <td>0.440764</td>\n",
       "      <td>0.440764</td>\n",
       "      <td>0.440764</td>\n",
       "      <td>0.44349</td>\n",
       "      <td>0.300112</td>\n",
       "      <td>3.816545</td>\n",
       "      <td>18.539811</td>\n",
       "      <td>1.091727</td>\n",
       "    </tr>\n",
       "  </tbody>\n",
       "</table>\n",
       "</div>"
      ],
      "text/plain": [
       "       DoF  DoF Baseline         chi2  chi2 p-value  chi2 Baseline      CFI  \\\n",
       "Value   12            12  1091.727363           0.0    1952.176012  0.44349   \n",
       "\n",
       "            GFI      AGFI       NFI      TLI     RMSEA       AIC        BIC  \\\n",
       "Value  0.440764  0.440764  0.440764  0.44349  0.300112  3.816545  18.539811   \n",
       "\n",
       "         LogLik  \n",
       "Value  1.091727  "
      ]
     },
     "execution_count": 16,
     "metadata": {},
     "output_type": "execute_result"
    }
   ],
   "source": [
    "def calc_fit_indices(B, X):\n",
    "    \"\"\" 隣接行列BとデータXから適合度を評価する。 \"\"\"\n",
    "    \n",
    "    desc = \"\"\n",
    "    for name, row in B.iterrows():\n",
    "        var_model = []\n",
    "        \n",
    "        for name2, coef in row.items():\n",
    "            if np.isclose(coef, 0):\n",
    "                continue\n",
    "            var_model.append(f\"{coef} * {name2}\")\n",
    "        \n",
    "        if len(var_model) == 0:\n",
    "            continue\n",
    "        \n",
    "        var_model = f\"{name} ~ \" + \" + \".join(var_model) + \"\\n\"\n",
    "        desc += var_model\n",
    "    \n",
    "    m = semopy.Model(desc)\n",
    "    m.fit(X)\n",
    "    stats = semopy.calc_stats(m)\n",
    "    \n",
    "    return stats\n",
    "\n",
    "# exogenous variablesの効果を抜いたデータとシンク変数のデータを結合したデータで評価\n",
    "X_eval = X_removed_exog.copy()\n",
    "X_eval[sink_var_name] = X[sink_var_name]\n",
    "\n",
    "fit_indices = calc_fit_indices(adj, X_eval)\n",
    "fit_indices"
   ]
  },
  {
   "cell_type": "markdown",
   "id": "f97688c8-3861-446d-ba17-9612ea3d9b8c",
   "metadata": {},
   "source": [
    "### シンク変数のモデルの枝刈り\n",
    "\n",
    "推定した結果を真の因果グラフと見比べると、x7に向かうエッジが余分に推定されていることが分かる。シンク変数のモデルとして、LogsticRegression の代わりに AdaptiveLogisticRegression を使用することで、この問題を解決することができる。"
   ]
  },
  {
   "cell_type": "code",
   "execution_count": 17,
   "id": "0d961348-8f7f-40b7-b2c3-d06c50058656",
   "metadata": {},
   "outputs": [
    {
     "data": {
      "text/plain": [
       "array([[0.        , 0.        , 0.29385481, 0.29029779]])"
      ]
     },
     "execution_count": 17,
     "metadata": {},
     "output_type": "execute_result"
    }
   ],
   "source": [
    "sink_model2 = AdaptiveLogisticRegression()\n",
    "sink_model2.fit(X_removed_exog[endog_var_names], X_removed_exog[sink_var_name])\n",
    "\n",
    "sink_model2.coef_"
   ]
  },
  {
   "cell_type": "markdown",
   "id": "5e91801b-fc58-4e7b-ad13-513a84ce0186",
   "metadata": {},
   "source": [
    "先ほどと同様にして内生変数の隣接行列とシンク変数のモデルの係数をひとつの隣接行列にする。"
   ]
  },
  {
   "cell_type": "code",
   "execution_count": 18,
   "id": "d3e87e4e-bd54-4356-b3d0-d0a7cc0e6178",
   "metadata": {
    "tags": []
   },
   "outputs": [
    {
     "data": {
      "text/html": [
       "<div>\n",
       "<style scoped>\n",
       "    .dataframe tbody tr th:only-of-type {\n",
       "        vertical-align: middle;\n",
       "    }\n",
       "\n",
       "    .dataframe tbody tr th {\n",
       "        vertical-align: top;\n",
       "    }\n",
       "\n",
       "    .dataframe thead th {\n",
       "        text-align: right;\n",
       "    }\n",
       "</style>\n",
       "<table border=\"1\" class=\"dataframe\">\n",
       "  <thead>\n",
       "    <tr style=\"text-align: right;\">\n",
       "      <th></th>\n",
       "      <th>x3</th>\n",
       "      <th>x4</th>\n",
       "      <th>x5</th>\n",
       "      <th>x6</th>\n",
       "      <th>x7</th>\n",
       "    </tr>\n",
       "  </thead>\n",
       "  <tbody>\n",
       "    <tr>\n",
       "      <th>x3</th>\n",
       "      <td>0.000000</td>\n",
       "      <td>0.000000</td>\n",
       "      <td>0.000000</td>\n",
       "      <td>0.000000</td>\n",
       "      <td>0.0</td>\n",
       "    </tr>\n",
       "    <tr>\n",
       "      <th>x4</th>\n",
       "      <td>0.000000</td>\n",
       "      <td>0.000000</td>\n",
       "      <td>0.000000</td>\n",
       "      <td>0.000000</td>\n",
       "      <td>0.0</td>\n",
       "    </tr>\n",
       "    <tr>\n",
       "      <th>x5</th>\n",
       "      <td>0.422693</td>\n",
       "      <td>0.000000</td>\n",
       "      <td>0.000000</td>\n",
       "      <td>0.000000</td>\n",
       "      <td>0.0</td>\n",
       "    </tr>\n",
       "    <tr>\n",
       "      <th>x6</th>\n",
       "      <td>1.918507</td>\n",
       "      <td>0.664912</td>\n",
       "      <td>0.000000</td>\n",
       "      <td>0.000000</td>\n",
       "      <td>0.0</td>\n",
       "    </tr>\n",
       "    <tr>\n",
       "      <th>x7</th>\n",
       "      <td>0.000000</td>\n",
       "      <td>0.000000</td>\n",
       "      <td>0.293855</td>\n",
       "      <td>0.290298</td>\n",
       "      <td>0.0</td>\n",
       "    </tr>\n",
       "  </tbody>\n",
       "</table>\n",
       "</div>"
      ],
      "text/plain": [
       "          x3        x4        x5        x6   x7\n",
       "x3  0.000000  0.000000  0.000000  0.000000  0.0\n",
       "x4  0.000000  0.000000  0.000000  0.000000  0.0\n",
       "x5  0.422693  0.000000  0.000000  0.000000  0.0\n",
       "x6  1.918507  0.664912  0.000000  0.000000  0.0\n",
       "x7  0.000000  0.000000  0.293855  0.290298  0.0"
      ]
     },
     "execution_count": 18,
     "metadata": {},
     "output_type": "execute_result"
    }
   ],
   "source": [
    "adj = np.concatenate([cd_model.adjacency_matrix_, sink_model2.coef_])\n",
    "adj = np.concatenate([adj, np.zeros((len(adj), 1))], axis=1)\n",
    "\n",
    "cols = endog_var_names + [sink_var_name]\n",
    "adj = pd.DataFrame(adj, columns=cols, index=cols)\n",
    "\n",
    "adj"
   ]
  },
  {
   "cell_type": "markdown",
   "id": "9e464cf5-bf13-4d62-9616-6ef79408676e",
   "metadata": {
    "tags": []
   },
   "source": [
    "因果グラフは次の通り。"
   ]
  },
  {
   "cell_type": "code",
   "execution_count": 19,
   "id": "8e9ae62f-996b-4936-a8d5-055ce31eb025",
   "metadata": {
    "tags": []
   },
   "outputs": [
    {
     "data": {
      "image/svg+xml": [
       "<?xml version=\"1.0\" encoding=\"UTF-8\" standalone=\"no\"?>\n",
       "<!DOCTYPE svg PUBLIC \"-//W3C//DTD SVG 1.1//EN\"\n",
       " \"http://www.w3.org/Graphics/SVG/1.1/DTD/svg11.dtd\">\n",
       "<!-- Generated by graphviz version 2.43.0 (0)\n",
       " -->\n",
       "<!-- Title: %3 Pages: 1 -->\n",
       "<svg width=\"172pt\" height=\"218pt\"\n",
       " viewBox=\"0.00 0.00 172.00 218.00\" xmlns=\"http://www.w3.org/2000/svg\" xmlns:xlink=\"http://www.w3.org/1999/xlink\">\n",
       "<g id=\"graph0\" class=\"graph\" transform=\"scale(1 1) rotate(0) translate(4 214)\">\n",
       "<title>%3</title>\n",
       "<polygon fill=\"white\" stroke=\"transparent\" points=\"-4,4 -4,-214 168,-214 168,4 -4,4\"/>\n",
       "<!-- x3 -->\n",
       "<g id=\"node1\" class=\"node\">\n",
       "<title>x3</title>\n",
       "<ellipse fill=\"none\" stroke=\"black\" cx=\"46\" cy=\"-192\" rx=\"27\" ry=\"18\"/>\n",
       "<text text-anchor=\"middle\" x=\"46\" y=\"-188.3\" font-family=\"Times,serif\" font-size=\"14.00\">x3</text>\n",
       "</g>\n",
       "<!-- x5 -->\n",
       "<g id=\"node3\" class=\"node\">\n",
       "<title>x5</title>\n",
       "<ellipse fill=\"none\" stroke=\"black\" cx=\"27\" cy=\"-105\" rx=\"27\" ry=\"18\"/>\n",
       "<text text-anchor=\"middle\" x=\"27\" y=\"-101.3\" font-family=\"Times,serif\" font-size=\"14.00\">x5</text>\n",
       "</g>\n",
       "<!-- x3&#45;&gt;x5 -->\n",
       "<g id=\"edge1\" class=\"edge\">\n",
       "<title>x3&#45;&gt;x5</title>\n",
       "<path fill=\"none\" stroke=\"black\" d=\"M35.96,-175.23C32.79,-169.41 29.67,-162.62 28,-156 26.2,-148.87 25.48,-140.99 25.32,-133.64\"/>\n",
       "<polygon fill=\"black\" stroke=\"black\" points=\"28.83,-133.42 25.44,-123.38 21.83,-133.34 28.83,-133.42\"/>\n",
       "<text text-anchor=\"middle\" x=\"44\" y=\"-144.8\" font-family=\"Times,serif\" font-size=\"14.00\">0.42</text>\n",
       "</g>\n",
       "<!-- x6 -->\n",
       "<g id=\"node4\" class=\"node\">\n",
       "<title>x6</title>\n",
       "<ellipse fill=\"none\" stroke=\"black\" cx=\"99\" cy=\"-105\" rx=\"27\" ry=\"18\"/>\n",
       "<text text-anchor=\"middle\" x=\"99\" y=\"-101.3\" font-family=\"Times,serif\" font-size=\"14.00\">x6</text>\n",
       "</g>\n",
       "<!-- x3&#45;&gt;x6 -->\n",
       "<g id=\"edge2\" class=\"edge\">\n",
       "<title>x3&#45;&gt;x6</title>\n",
       "<path fill=\"none\" stroke=\"black\" d=\"M55.97,-175.01C63.74,-162.55 74.67,-145.01 83.57,-130.74\"/>\n",
       "<polygon fill=\"black\" stroke=\"black\" points=\"86.75,-132.25 89.08,-121.92 80.81,-128.55 86.75,-132.25\"/>\n",
       "<text text-anchor=\"middle\" x=\"91\" y=\"-144.8\" font-family=\"Times,serif\" font-size=\"14.00\">1.92</text>\n",
       "</g>\n",
       "<!-- x4 -->\n",
       "<g id=\"node2\" class=\"node\">\n",
       "<title>x4</title>\n",
       "<ellipse fill=\"none\" stroke=\"black\" cx=\"137\" cy=\"-192\" rx=\"27\" ry=\"18\"/>\n",
       "<text text-anchor=\"middle\" x=\"137\" y=\"-188.3\" font-family=\"Times,serif\" font-size=\"14.00\">x4</text>\n",
       "</g>\n",
       "<!-- x4&#45;&gt;x6 -->\n",
       "<g id=\"edge3\" class=\"edge\">\n",
       "<title>x4&#45;&gt;x6</title>\n",
       "<path fill=\"none\" stroke=\"black\" d=\"M129.73,-174.31C125.47,-164.58 119.97,-152.08 115,-141 113.63,-137.95 112.19,-134.76 110.75,-131.6\"/>\n",
       "<polygon fill=\"black\" stroke=\"black\" points=\"113.87,-130 106.54,-122.36 107.5,-132.91 113.87,-130\"/>\n",
       "<text text-anchor=\"middle\" x=\"137\" y=\"-144.8\" font-family=\"Times,serif\" font-size=\"14.00\">0.66</text>\n",
       "</g>\n",
       "<!-- x7 -->\n",
       "<g id=\"node5\" class=\"node\">\n",
       "<title>x7</title>\n",
       "<ellipse fill=\"none\" stroke=\"black\" cx=\"62\" cy=\"-18\" rx=\"27\" ry=\"18\"/>\n",
       "<text text-anchor=\"middle\" x=\"62\" y=\"-14.3\" font-family=\"Times,serif\" font-size=\"14.00\">x7</text>\n",
       "</g>\n",
       "<!-- x5&#45;&gt;x7 -->\n",
       "<g id=\"edge4\" class=\"edge\">\n",
       "<title>x5&#45;&gt;x7</title>\n",
       "<path fill=\"none\" stroke=\"black\" d=\"M30.09,-86.9C32.2,-77.04 35.45,-64.54 40,-54 41.59,-50.32 43.53,-46.59 45.59,-42.99\"/>\n",
       "<polygon fill=\"black\" stroke=\"black\" points=\"48.58,-44.81 50.85,-34.46 42.62,-41.14 48.58,-44.81\"/>\n",
       "<text text-anchor=\"middle\" x=\"56\" y=\"-57.8\" font-family=\"Times,serif\" font-size=\"14.00\">0.29</text>\n",
       "</g>\n",
       "<!-- x6&#45;&gt;x7 -->\n",
       "<g id=\"edge5\" class=\"edge\">\n",
       "<title>x6&#45;&gt;x7</title>\n",
       "<path fill=\"none\" stroke=\"black\" d=\"M91.87,-87.61C86.63,-75.58 79.4,-58.98 73.37,-45.13\"/>\n",
       "<polygon fill=\"black\" stroke=\"black\" points=\"76.44,-43.4 69.24,-35.63 70.02,-46.19 76.44,-43.4\"/>\n",
       "<text text-anchor=\"middle\" x=\"98\" y=\"-57.8\" font-family=\"Times,serif\" font-size=\"14.00\">0.29</text>\n",
       "</g>\n",
       "</g>\n",
       "</svg>\n"
      ],
      "text/plain": [
       "<graphviz.graphs.Digraph at 0x7f7440a7e400>"
      ]
     },
     "execution_count": 19,
     "metadata": {},
     "output_type": "execute_result"
    }
   ],
   "source": [
    "make_dot(adj, labels=adj.columns.tolist(), lower_limit=0.0)"
   ]
  },
  {
   "cell_type": "markdown",
   "id": "9d69ed32-e005-4bbc-8c7e-4539f13032cf",
   "metadata": {},
   "source": [
    "真の因果グラフと見比べることで、余計なエッジが推定されなくなったことが分かる。\n",
    "\n",
    "適合度は次の通り。"
   ]
  },
  {
   "cell_type": "code",
   "execution_count": 20,
   "id": "7bf55ef5-fcfa-435f-abe1-2e00e6ea5be5",
   "metadata": {
    "tags": []
   },
   "outputs": [
    {
     "data": {
      "text/html": [
       "<div>\n",
       "<style scoped>\n",
       "    .dataframe tbody tr th:only-of-type {\n",
       "        vertical-align: middle;\n",
       "    }\n",
       "\n",
       "    .dataframe tbody tr th {\n",
       "        vertical-align: top;\n",
       "    }\n",
       "\n",
       "    .dataframe thead th {\n",
       "        text-align: right;\n",
       "    }\n",
       "</style>\n",
       "<table border=\"1\" class=\"dataframe\">\n",
       "  <thead>\n",
       "    <tr style=\"text-align: right;\">\n",
       "      <th></th>\n",
       "      <th>DoF</th>\n",
       "      <th>DoF Baseline</th>\n",
       "      <th>chi2</th>\n",
       "      <th>chi2 p-value</th>\n",
       "      <th>chi2 Baseline</th>\n",
       "      <th>CFI</th>\n",
       "      <th>GFI</th>\n",
       "      <th>AGFI</th>\n",
       "      <th>NFI</th>\n",
       "      <th>TLI</th>\n",
       "      <th>RMSEA</th>\n",
       "      <th>AIC</th>\n",
       "      <th>BIC</th>\n",
       "      <th>LogLik</th>\n",
       "    </tr>\n",
       "  </thead>\n",
       "  <tbody>\n",
       "    <tr>\n",
       "      <th>Value</th>\n",
       "      <td>12</td>\n",
       "      <td>12</td>\n",
       "      <td>1041.748712</td>\n",
       "      <td>0.0</td>\n",
       "      <td>1952.176012</td>\n",
       "      <td>0.46925</td>\n",
       "      <td>0.466365</td>\n",
       "      <td>0.466365</td>\n",
       "      <td>0.466365</td>\n",
       "      <td>0.46925</td>\n",
       "      <td>0.293084</td>\n",
       "      <td>3.916503</td>\n",
       "      <td>18.639768</td>\n",
       "      <td>1.041749</td>\n",
       "    </tr>\n",
       "  </tbody>\n",
       "</table>\n",
       "</div>"
      ],
      "text/plain": [
       "       DoF  DoF Baseline         chi2  chi2 p-value  chi2 Baseline      CFI  \\\n",
       "Value   12            12  1041.748712           0.0    1952.176012  0.46925   \n",
       "\n",
       "            GFI      AGFI       NFI      TLI     RMSEA       AIC        BIC  \\\n",
       "Value  0.466365  0.466365  0.466365  0.46925  0.293084  3.916503  18.639768   \n",
       "\n",
       "         LogLik  \n",
       "Value  1.041749  "
      ]
     },
     "execution_count": 20,
     "metadata": {},
     "output_type": "execute_result"
    }
   ],
   "source": [
    "fit_indices2 = calc_fit_indices(adj, X_eval)\n",
    "fit_indices2"
   ]
  },
  {
   "cell_type": "markdown",
   "id": "27af328c-da68-4450-85ca-166c73519e5e",
   "metadata": {},
   "source": [
    "## ブートストラップによる分析\n",
    "\n",
    "先ほどと同様の分析をブートストラップにより実施する。まずは先ほどの分析をひとつの関数として、次のようにまとめる。"
   ]
  },
  {
   "cell_type": "code",
   "execution_count": 21,
   "id": "5c3a2351-fc7b-43dc-8c72-4b4e02b2a61d",
   "metadata": {
    "tags": []
   },
   "outputs": [],
   "source": [
    "def run_analysis(X, exog_var_names, endog_var_names, sink_var_name, cd_model=None, sink_model=None):\n",
    "    \"\"\"\n",
    "    X : pandas.DataFrame\n",
    "        型はfloatまたはintであること。intは離散変数と解釈する。\n",
    "    exog_var_names : list of str\n",
    "        外生変数と仮定する変数のリスト。\n",
    "    endog_var_names : list of str\n",
    "        内生変数のリスト。\n",
    "    sink_var_name : str\n",
    "        シンク変数のリスト\n",
    "    cd_model : object\n",
    "        LiNGAMのインスタンス。必要なら事前知識など登録しておく。\n",
    "    sink_model : object\n",
    "        シンク変数へのエッジ係数を算出する際に用いるモデル。例えばシンクが離散ならばLogisticRegressionやAdaptiveLogisticRegressionなど。\n",
    "        AdaptiveLogisticRegressionはpipできないため、インスタンス作成をユーザに任せる。\n",
    "    \"\"\"\n",
    "    # Xの確認\n",
    "    if not isinstance(X, pd.DataFrame):\n",
    "        raise TypeError(\"X must be padnas.DataFrame.\")\n",
    "    \n",
    "    # 変数名リストの確認\n",
    "    if len(set(exog_var_names) - set(X.columns)) > 0:\n",
    "        raise ValueError(\"exog_var_names includes unknown variables.\")\n",
    "       \n",
    "    if len(set(endog_var_names) - set(X.columns)) > 0:\n",
    "        raise ValueError(\"endog_var_names includes unknown variables.\")\n",
    "        \n",
    "    if len(set([sink_var_name]) - set(X.columns)) > 0:\n",
    "        raise ValueError(\"sink_var_name is unknown variables.\")\n",
    "\n",
    "    # cd_modelのチェック\n",
    "    if cd_model is None:\n",
    "        cd_model = DirectLiNGAM()\n",
    "    else:\n",
    "        if isinstance(cd_model, DirectLiNGAM):\n",
    "            pass\n",
    "        else:\n",
    "            # 他のクラスは未対応\n",
    "            raise ValueError(\"cd_model must be a instance of following classes: DirectLiNGAM, \")\n",
    "    \n",
    "    # sink_modelのチェックはしない。\n",
    "    \n",
    "    # Xの処理\n",
    "    exog_indices = [X.columns.tolist().index(v) for v in exog_var_names]\n",
    "    endog_indices = [X.columns.tolist().index(v) for v in endog_var_names]\n",
    "    sink_index = X.columns.tolist().index(sink_var_name)\n",
    "    \n",
    "    is_discrete = X.dtypes == int\n",
    "    if is_discrete[endog_indices].any():\n",
    "        raise ValueError(\"endog_var_names mustn't be a discrete variable. Convert types of variables specified in endog_var_names.\")\n",
    "    \n",
    "    names = X.columns.tolist()\n",
    "    \n",
    "    X = check_array(X, copy=True)\n",
    "    \n",
    "    if sink_model is None:\n",
    "        if is_discrete[sink_index]:\n",
    "            sink_model = LogisticRegression()\n",
    "        else:\n",
    "            sink_model = LinearRegression()\n",
    "    \n",
    "    # 因果探索\n",
    "    X_removed_exog = remove_effect(X, exog_indices)\n",
    "    X_endog = X_removed_exog[:, endog_indices]\n",
    "    \n",
    "    cd_model.fit(X_endog)\n",
    "    \n",
    "    # シンク変数のモデル\n",
    "    sink_model.fit(X[:, endog_indices], X[:, sink_index])\n",
    "    sink_coef = sink_model.coef_\n",
    "\n",
    "    # 隣接行列の作成\n",
    "    adj = np.concatenate([cd_model.adjacency_matrix_, sink_coef])\n",
    "    adj = np.concatenate([adj, np.zeros((len(adj), 1))], axis=1)\n",
    "\n",
    "    cols = [names[i] for i in [*endog_indices, sink_index]]\n",
    "    adj = pd.DataFrame(adj, columns=cols, index=cols)\n",
    "    \n",
    "    return adj"
   ]
  },
  {
   "cell_type": "markdown",
   "id": "d9bd4c1c-af07-4e7a-b863-c7cf7f549385",
   "metadata": {},
   "source": [
    "### ブートストラップの実行\n",
    "\n",
    "上記関数を用いてブートストラップを行う。"
   ]
  },
  {
   "cell_type": "code",
   "execution_count": 22,
   "id": "47931e8c-e216-4c21-b553-547d363feb8c",
   "metadata": {
    "tags": []
   },
   "outputs": [
    {
     "name": "stdout",
     "output_type": "stream",
     "text": [
      " 99\n",
      "\n"
     ]
    }
   ],
   "source": [
    "# ブートストラップ回数\n",
    "n_sampling = 100\n",
    "\n",
    "# 特徴数\n",
    "n_features = len(endog_var_names) + len([sink_var_name])\n",
    "\n",
    "# ブートストラップ結果の格納先\n",
    "adjs = np.zeros((n_sampling, n_features, n_features))\n",
    "total_effects = np.zeros((n_sampling, n_features, n_features))\n",
    "fit_indices_df = []\n",
    "\n",
    "# ブートストラップの実行\n",
    "for i in range(n_sampling):\n",
    "    print(\"\\r\", i, end=\"\")\n",
    "    \n",
    "    X_resampled = resample(X)\n",
    "    \n",
    "    # 因果探索\n",
    "    adj = run_analysis(\n",
    "        X_resampled,\n",
    "        exog_var_names,\n",
    "        endog_var_names,\n",
    "        sink_var_name,\n",
    "        sink_model=AdaptiveLogisticRegression()\n",
    "    )\n",
    "    adjs[i] = adj\n",
    "\n",
    "    # 因果順序\n",
    "    dag = nx.from_numpy_array(adj.values.T, create_using=nx.DiGraph)\n",
    "    causal_order = list(nx.topological_sort(dag))\n",
    "\n",
    "    # 因果効果の計算\n",
    "    for c, from_ in enumerate(causal_order):\n",
    "        for to in causal_order[c + 1 :]:\n",
    "            total_effects[i, to, from_] = calculate_total_effect(\n",
    "                adj.values, from_, to\n",
    "            )\n",
    "    \n",
    "    fit_indices = calc_fit_indices(adj, X_resampled)\n",
    "    fit_indices_df.append(fit_indices)\n",
    "print(\"\\r\\n\")\n",
    "\n",
    "# ブートストラップの結果を格納\n",
    "result = BootstrapResult(adjs, total_effects)\n",
    "\n",
    "# 各ブートストラップ結果の適合度を格納\n",
    "fit_indices_df = pd.concat(fit_indices_df)"
   ]
  },
  {
   "cell_type": "markdown",
   "id": "387dcc92-e5d3-447b-9313-a82a31371d54",
   "metadata": {
    "tags": []
   },
   "source": [
    "### 結果の確認\n",
    "\n",
    "ブートストラップ結果の確認に関する詳細は [このノートブック](https://github.com/cdt15/lingam/blob/master/examples/Bootstrap.ipynb) を参照すること。"
   ]
  },
  {
   "cell_type": "code",
   "execution_count": 31,
   "id": "e0690014-6b02-4219-b9f2-a352b41762d1",
   "metadata": {
    "tags": []
   },
   "outputs": [
    {
     "data": {
      "text/markdown": [
       "### Causal Directions"
      ],
      "text/plain": [
       "<IPython.core.display.Markdown object>"
      ]
     },
     "metadata": {},
     "output_type": "display_data"
    },
    {
     "name": "stdout",
     "output_type": "stream",
     "text": [
      "x2 <--- x0 (b>0) (100.0%)\n",
      "x3 <--- x0 (b>0) (100.0%)\n",
      "x3 <--- x1 (b>0) (100.0%)\n",
      "x4 <--- x2 (b>0) (100.0%)\n",
      "x4 <--- x3 (b>0) (100.0%)\n",
      "x4 <--- x1 (b<0) (44.0%)\n",
      "x3 <--- x2 (b<0) (10.0%)\n",
      "x0 <--- x1 (b>0) (2.0%)\n"
     ]
    },
    {
     "data": {
      "text/markdown": [
       "### Directed Acyclic Graphs"
      ],
      "text/plain": [
       "<IPython.core.display.Markdown object>"
      ]
     },
     "metadata": {},
     "output_type": "display_data"
    },
    {
     "name": "stdout",
     "output_type": "stream",
     "text": [
      "DAG[0]: 46.0%\n",
      "\tx2 <--- x0 (b>0)\n",
      "\tx3 <--- x0 (b>0)\n",
      "\tx3 <--- x1 (b>0)\n",
      "\tx4 <--- x2 (b>0)\n",
      "\tx4 <--- x3 (b>0)\n",
      "DAG[1]: 37.0%\n",
      "\tx2 <--- x0 (b>0)\n",
      "\tx3 <--- x0 (b>0)\n",
      "\tx3 <--- x1 (b>0)\n",
      "\tx4 <--- x1 (b<0)\n",
      "\tx4 <--- x2 (b>0)\n",
      "\tx4 <--- x3 (b>0)\n",
      "DAG[2]: 5.0%\n",
      "\tx2 <--- x0 (b>0)\n",
      "\tx3 <--- x0 (b>0)\n",
      "\tx3 <--- x1 (b>0)\n",
      "\tx3 <--- x2 (b<0)\n",
      "\tx4 <--- x2 (b>0)\n",
      "\tx4 <--- x3 (b>0)\n"
     ]
    },
    {
     "data": {
      "text/markdown": [
       "### Probability"
      ],
      "text/plain": [
       "<IPython.core.display.Markdown object>"
      ]
     },
     "metadata": {},
     "output_type": "display_data"
    },
    {
     "name": "stdout",
     "output_type": "stream",
     "text": [
      "[[0.   0.02 0.   0.   0.  ]\n",
      " [0.   0.   0.01 0.   0.  ]\n",
      " [1.   0.01 0.   0.01 0.  ]\n",
      " [1.   1.   0.1  0.   0.  ]\n",
      " [0.04 0.44 1.   1.   0.  ]]\n"
     ]
    },
    {
     "data": {
      "text/markdown": [
       "### Total Causal Effects"
      ],
      "text/plain": [
       "<IPython.core.display.Markdown object>"
      ]
     },
     "metadata": {},
     "output_type": "display_data"
    },
    {
     "data": {
      "text/html": [
       "<div>\n",
       "<style scoped>\n",
       "    .dataframe tbody tr th:only-of-type {\n",
       "        vertical-align: middle;\n",
       "    }\n",
       "\n",
       "    .dataframe tbody tr th {\n",
       "        vertical-align: top;\n",
       "    }\n",
       "\n",
       "    .dataframe thead th {\n",
       "        text-align: right;\n",
       "    }\n",
       "</style>\n",
       "<table border=\"1\" class=\"dataframe\">\n",
       "  <thead>\n",
       "    <tr style=\"text-align: right;\">\n",
       "      <th></th>\n",
       "      <th>from</th>\n",
       "      <th>to</th>\n",
       "      <th>effect</th>\n",
       "      <th>probability</th>\n",
       "    </tr>\n",
       "  </thead>\n",
       "  <tbody>\n",
       "    <tr>\n",
       "      <th>0</th>\n",
       "      <td>x0</td>\n",
       "      <td>x2</td>\n",
       "      <td>0.423365</td>\n",
       "      <td>1.00</td>\n",
       "    </tr>\n",
       "    <tr>\n",
       "      <th>1</th>\n",
       "      <td>x0</td>\n",
       "      <td>x3</td>\n",
       "      <td>1.920407</td>\n",
       "      <td>1.00</td>\n",
       "    </tr>\n",
       "    <tr>\n",
       "      <th>2</th>\n",
       "      <td>x1</td>\n",
       "      <td>x3</td>\n",
       "      <td>0.664696</td>\n",
       "      <td>1.00</td>\n",
       "    </tr>\n",
       "    <tr>\n",
       "      <th>3</th>\n",
       "      <td>x0</td>\n",
       "      <td>x4</td>\n",
       "      <td>2.677554</td>\n",
       "      <td>1.00</td>\n",
       "    </tr>\n",
       "    <tr>\n",
       "      <th>4</th>\n",
       "      <td>x1</td>\n",
       "      <td>x4</td>\n",
       "      <td>0.648946</td>\n",
       "      <td>1.00</td>\n",
       "    </tr>\n",
       "    <tr>\n",
       "      <th>5</th>\n",
       "      <td>x2</td>\n",
       "      <td>x4</td>\n",
       "      <td>0.898579</td>\n",
       "      <td>1.00</td>\n",
       "    </tr>\n",
       "    <tr>\n",
       "      <th>6</th>\n",
       "      <td>x3</td>\n",
       "      <td>x4</td>\n",
       "      <td>1.195940</td>\n",
       "      <td>1.00</td>\n",
       "    </tr>\n",
       "    <tr>\n",
       "      <th>7</th>\n",
       "      <td>x2</td>\n",
       "      <td>x3</td>\n",
       "      <td>-0.092125</td>\n",
       "      <td>0.10</td>\n",
       "    </tr>\n",
       "    <tr>\n",
       "      <th>8</th>\n",
       "      <td>x1</td>\n",
       "      <td>x2</td>\n",
       "      <td>0.038469</td>\n",
       "      <td>0.04</td>\n",
       "    </tr>\n",
       "    <tr>\n",
       "      <th>9</th>\n",
       "      <td>x1</td>\n",
       "      <td>x0</td>\n",
       "      <td>0.085667</td>\n",
       "      <td>0.02</td>\n",
       "    </tr>\n",
       "    <tr>\n",
       "      <th>10</th>\n",
       "      <td>x0</td>\n",
       "      <td>x1</td>\n",
       "      <td>0.031108</td>\n",
       "      <td>0.01</td>\n",
       "    </tr>\n",
       "    <tr>\n",
       "      <th>11</th>\n",
       "      <td>x2</td>\n",
       "      <td>x1</td>\n",
       "      <td>0.083583</td>\n",
       "      <td>0.01</td>\n",
       "    </tr>\n",
       "    <tr>\n",
       "      <th>12</th>\n",
       "      <td>x3</td>\n",
       "      <td>x2</td>\n",
       "      <td>-0.096367</td>\n",
       "      <td>0.01</td>\n",
       "    </tr>\n",
       "  </tbody>\n",
       "</table>\n",
       "</div>"
      ],
      "text/plain": [
       "   from  to    effect  probability\n",
       "0    x0  x2  0.423365         1.00\n",
       "1    x0  x3  1.920407         1.00\n",
       "2    x1  x3  0.664696         1.00\n",
       "3    x0  x4  2.677554         1.00\n",
       "4    x1  x4  0.648946         1.00\n",
       "5    x2  x4  0.898579         1.00\n",
       "6    x3  x4  1.195940         1.00\n",
       "7    x2  x3 -0.092125         0.10\n",
       "8    x1  x2  0.038469         0.04\n",
       "9    x1  x0  0.085667         0.02\n",
       "10   x0  x1  0.031108         0.01\n",
       "11   x2  x1  0.083583         0.01\n",
       "12   x3  x2 -0.096367         0.01"
      ]
     },
     "metadata": {},
     "output_type": "display_data"
    },
    {
     "data": {
      "text/markdown": [
       "### Bootstrap Probability of Path (x3→x7)"
      ],
      "text/plain": [
       "<IPython.core.display.Markdown object>"
      ]
     },
     "metadata": {},
     "output_type": "display_data"
    },
    {
     "data": {
      "text/html": [
       "<div>\n",
       "<style scoped>\n",
       "    .dataframe tbody tr th:only-of-type {\n",
       "        vertical-align: middle;\n",
       "    }\n",
       "\n",
       "    .dataframe tbody tr th {\n",
       "        vertical-align: top;\n",
       "    }\n",
       "\n",
       "    .dataframe thead th {\n",
       "        text-align: right;\n",
       "    }\n",
       "</style>\n",
       "<table border=\"1\" class=\"dataframe\">\n",
       "  <thead>\n",
       "    <tr style=\"text-align: right;\">\n",
       "      <th></th>\n",
       "      <th>path</th>\n",
       "      <th>effect</th>\n",
       "      <th>probability</th>\n",
       "    </tr>\n",
       "  </thead>\n",
       "  <tbody>\n",
       "    <tr>\n",
       "      <th>0</th>\n",
       "      <td>[0, 2, 4]</td>\n",
       "      <td>0.373965</td>\n",
       "      <td>1.00</td>\n",
       "    </tr>\n",
       "    <tr>\n",
       "      <th>1</th>\n",
       "      <td>[0, 3, 4]</td>\n",
       "      <td>2.292121</td>\n",
       "      <td>1.00</td>\n",
       "    </tr>\n",
       "    <tr>\n",
       "      <th>2</th>\n",
       "      <td>[0, 2, 3, 4]</td>\n",
       "      <td>-0.044897</td>\n",
       "      <td>0.10</td>\n",
       "    </tr>\n",
       "    <tr>\n",
       "      <th>3</th>\n",
       "      <td>[0, 4]</td>\n",
       "      <td>-0.207834</td>\n",
       "      <td>0.04</td>\n",
       "    </tr>\n",
       "    <tr>\n",
       "      <th>4</th>\n",
       "      <td>[0, 2, 1, 3, 4]</td>\n",
       "      <td>0.028717</td>\n",
       "      <td>0.01</td>\n",
       "    </tr>\n",
       "    <tr>\n",
       "      <th>5</th>\n",
       "      <td>[0, 2, 1, 4]</td>\n",
       "      <td>-0.009268</td>\n",
       "      <td>0.01</td>\n",
       "    </tr>\n",
       "    <tr>\n",
       "      <th>6</th>\n",
       "      <td>[0, 3, 2, 4]</td>\n",
       "      <td>-0.129235</td>\n",
       "      <td>0.01</td>\n",
       "    </tr>\n",
       "  </tbody>\n",
       "</table>\n",
       "</div>"
      ],
      "text/plain": [
       "              path    effect  probability\n",
       "0        [0, 2, 4]  0.373965         1.00\n",
       "1        [0, 3, 4]  2.292121         1.00\n",
       "2     [0, 2, 3, 4] -0.044897         0.10\n",
       "3           [0, 4] -0.207834         0.04\n",
       "4  [0, 2, 1, 3, 4]  0.028717         0.01\n",
       "5     [0, 2, 1, 4] -0.009268         0.01\n",
       "6     [0, 3, 2, 4] -0.129235         0.01"
      ]
     },
     "execution_count": 31,
     "metadata": {},
     "output_type": "execute_result"
    }
   ],
   "source": [
    "# XXX: ラベル名を書き換える必要がある\n",
    "\n",
    "# variable names of a estimated adjacency matrix\n",
    "var_names = X_removed_exog.columns.tolist() + [sink_var_name]\n",
    "\n",
    "display(Markdown(\"### Causal Directions\"))\n",
    "cdc = result.get_causal_direction_counts(n_directions=8, min_causal_effect=0.01, split_by_causal_effect_sign=True)\n",
    "print_causal_directions(cdc, n_sampling)\n",
    "\n",
    "display(Markdown(\"### Directed Acyclic Graphs\"))\n",
    "dagc = result.get_directed_acyclic_graph_counts(n_dags=3, min_causal_effect=0.01, split_by_causal_effect_sign=True)\n",
    "print_dagc(dagc, n_sampling)\n",
    "\n",
    "display(Markdown(\"### Probability\"))\n",
    "prob = result.get_probabilities(min_causal_effect=0.01)\n",
    "print(prob)\n",
    "\n",
    "display(Markdown(\"### Total Causal Effects\"))\n",
    "causal_effects = result.get_total_causal_effects(min_causal_effect=0.01)\n",
    "\n",
    "df = pd.DataFrame(causal_effects)\n",
    "labels = [f'x{i}' for i in range(X.shape[1])]\n",
    "df['from'] = df['from'].apply(lambda x : labels[x])\n",
    "df['to'] = df['to'].apply(lambda x : labels[x])\n",
    "display(df)\n",
    "\n",
    "from_var_name = \"x3\"\n",
    "to_var_name = \"x7\"\n",
    "display(Markdown(f\"### Bootstrap Probability of Path ({from_var_name}→{to_var_name})\"))\n",
    "\n",
    "pd.DataFrame(result.get_paths(\n",
    "    var_names.index(from_var_name),\n",
    "    var_names.index(to_var_name)\n",
    "))"
   ]
  },
  {
   "cell_type": "code",
   "execution_count": null,
   "id": "7320bc41-0497-4365-8390-66b5f8047e01",
   "metadata": {},
   "outputs": [],
   "source": []
  }
 ],
 "metadata": {
  "kernelspec": {
   "display_name": "Python 3 (ipykernel)",
   "language": "python",
   "name": "python3"
  },
  "language_info": {
   "codemirror_mode": {
    "name": "ipython",
    "version": 3
   },
   "file_extension": ".py",
   "mimetype": "text/x-python",
   "name": "python",
   "nbconvert_exporter": "python",
   "pygments_lexer": "ipython3",
   "version": "3.8.10"
  },
  "widgets": {
   "application/vnd.jupyter.widget-state+json": {
    "state": {},
    "version_major": 2,
    "version_minor": 0
   }
  }
 },
 "nbformat": 4,
 "nbformat_minor": 5
}
